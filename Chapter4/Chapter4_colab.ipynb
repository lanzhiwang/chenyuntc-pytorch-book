{
 "cells": [
  {
   "cell_type": "markdown",
   "metadata": {
    "id": "2O2uMEr6xg_t"
   },
   "source": [
    "# 第四章 神经网络工具箱 nn\n",
    "\n",
    "autograd 实现了自动微分系统, 然而对于深度学习来说过于底层, 本章将介绍的 nn 模块, 是构建于 autograd 之上的神经网络模块. 除了 nn 之外, 我们还会介绍神经网络中常用的工具, 比如优化器 optim、初始化 init 等."
   ]
  },
  {
   "cell_type": "markdown",
   "metadata": {
    "id": "gLgv7QJ-xg_u"
   },
   "source": [
    "## 4.1 nn.Module\n",
    "\n",
    "第三章中提到, 使用 autograd 可实现深度学习模型, 但其抽象程度较低, 如果用其来实现深度学习模型, 则需要编写的代码量极大. 在这种情况下, torch.nn 便应运而生, 它是专门为深度学习而设计的模块.torch.nn 的核心数据结构是 `Module`, 它是一个抽象的概念, 既可以表示神经网络中的某个层(layer), 也可以表示一个包含很多层的神经网络. 在实际使用中, 最常见的做法是继承 `nn.Module`, 从而编写自己的网络/层. 下面先来看看如何用 `nn.Module` 实现自己的全连接层. 全连接层, 又名仿射层, 输出 $\\textbf{y}$ 和输入 $\\textbf{x}$ 满足 $\\textbf{y=Wx+b}$, 其中 $\\textbf{W}$ 和 $\\textbf{b}$ 是可学习的参数."
   ]
  },
  {
   "cell_type": "code",
   "execution_count": 1,
   "metadata": {
    "colab": {
     "base_uri": "https://localhost:8080/"
    },
    "id": "PNEhK83vxg_v",
    "outputId": "7a6e56ee-5c1b-4e26-f426-6265ec716d6f"
   },
   "outputs": [
    {
     "data": {
      "text/plain": [
       "'2.4.1+cpu'"
      ]
     },
     "execution_count": 1,
     "metadata": {},
     "output_type": "execute_result"
    }
   ],
   "source": [
    "import torch as t\n",
    "from torch import nn\n",
    "\n",
    "t.__version__"
   ]
  },
  {
   "cell_type": "code",
   "execution_count": 3,
   "metadata": {
    "id": "Jc-cnQdaxg_w"
   },
   "outputs": [],
   "source": [
    "class Linear(\n",
    "    nn.Module\n",
    "):  # 继承 nn.Module, 必须重写构造函数(__init__)和前向传播函数(forward)\n",
    "    def __init__(self, in_features, out_features):\n",
    "        super().__init__()  # 等价于 nn.Module.__init__(self), 常用 super 方式\n",
    "        # nn.Parameter 内的参数是网络可学习的参数\n",
    "        self.w = nn.Parameter(t.randn(in_features, out_features))\n",
    "        self.b = nn.Parameter(t.randn(out_features))\n",
    "\n",
    "    def forward(self, x):\n",
    "        x = x.mm(self.w)  # 矩阵乘法, 等价于 x.@(self.w)\n",
    "        return x + self.b.expand_as(x)"
   ]
  },
  {
   "cell_type": "code",
   "execution_count": 7,
   "metadata": {
    "colab": {
     "base_uri": "https://localhost:8080/"
    },
    "id": "hhC62i4vxg_w",
    "outputId": "529936f2-513d-42c7-f92a-8c66e22e88ec"
   },
   "outputs": [
    {
     "name": "stdout",
     "output_type": "stream",
     "text": [
      "input:\n",
      "tensor([[ 0.1893,  0.1817, -1.3959, -0.0798],\n",
      "        [-2.1099,  0.4401,  0.1960,  0.9171]])\n",
      "output:\n"
     ]
    },
    {
     "data": {
      "text/plain": [
       "tensor([[ 2.4766,  0.3765,  1.0778],\n",
       "        [ 6.2122, -1.4265,  1.4820]], grad_fn=<AddBackward0>)"
      ]
     },
     "execution_count": 7,
     "metadata": {},
     "output_type": "execute_result"
    }
   ],
   "source": [
    "layer = Linear(4, 3)\n",
    "input = t.randn(2, 4)\n",
    "print(\"input:\")\n",
    "print(input)\n",
    "output = layer(input)\n",
    "print(\"output:\")\n",
    "output"
   ]
  },
  {
   "cell_type": "code",
   "execution_count": 9,
   "metadata": {},
   "outputs": [
    {
     "name": "stdout",
     "output_type": "stream",
     "text": [
      "layer: Linear()\n",
      "layer._parameters: OrderedDict([('w', Parameter containing:\n",
      "tensor([[-2.6311,  0.4883, -0.5077],\n",
      "        [-1.2342, -0.2234,  0.5102],\n",
      "        [-1.7705, -0.2509, -0.0361],\n",
      "        [ 0.8260, -0.2239, -0.8398]], requires_grad=True)), ('b', Parameter containing:\n",
      "tensor([ 0.7934, -0.0435,  0.9636], requires_grad=True))])\n",
      "layer._modules: OrderedDict()\n",
      "layer._buffers: OrderedDict()\n",
      "layer._backward_hooks: OrderedDict()\n",
      "layer._forward_hooks: OrderedDict()\n",
      "layer.training: True\n",
      "layer.__dict__: {'training': True, '_parameters': OrderedDict([('w', Parameter containing:\n",
      "tensor([[-2.6311,  0.4883, -0.5077],\n",
      "        [-1.2342, -0.2234,  0.5102],\n",
      "        [-1.7705, -0.2509, -0.0361],\n",
      "        [ 0.8260, -0.2239, -0.8398]], requires_grad=True)), ('b', Parameter containing:\n",
      "tensor([ 0.7934, -0.0435,  0.9636], requires_grad=True))]), '_buffers': OrderedDict(), '_non_persistent_buffers_set': set(), '_backward_pre_hooks': OrderedDict(), '_backward_hooks': OrderedDict(), '_is_full_backward_hook': None, '_forward_hooks': OrderedDict(), '_forward_hooks_with_kwargs': OrderedDict(), '_forward_hooks_always_called': OrderedDict(), '_forward_pre_hooks': OrderedDict(), '_forward_pre_hooks_with_kwargs': OrderedDict(), '_state_dict_hooks': OrderedDict(), '_state_dict_pre_hooks': OrderedDict(), '_load_state_dict_pre_hooks': OrderedDict(), '_load_state_dict_post_hooks': OrderedDict(), '_modules': OrderedDict()}\n"
     ]
    }
   ],
   "source": [
    "print(\"layer:\", layer)\n",
    "print(\"layer._parameters:\", layer._parameters)\n",
    "print(\"layer._modules:\", layer._modules)\n",
    "print(\"layer._buffers:\", layer._buffers)\n",
    "print(\"layer._backward_hooks:\", layer._backward_hooks)\n",
    "print(\"layer._forward_hooks:\", layer._forward_hooks)\n",
    "print(\"layer.training:\", layer.training)\n",
    "print(\"layer.__dict__:\", layer.__dict__)"
   ]
  },
  {
   "cell_type": "code",
   "execution_count": 10,
   "metadata": {
    "colab": {
     "base_uri": "https://localhost:8080/"
    },
    "id": "HXxkQXfLxg_x",
    "outputId": "a0198044-4579-4f10-ff75-d80823476631"
   },
   "outputs": [
    {
     "name": "stdout",
     "output_type": "stream",
     "text": [
      "w Parameter containing:\n",
      "tensor([[-2.6311,  0.4883, -0.5077],\n",
      "        [-1.2342, -0.2234,  0.5102],\n",
      "        [-1.7705, -0.2509, -0.0361],\n",
      "        [ 0.8260, -0.2239, -0.8398]], requires_grad=True)\n",
      "b Parameter containing:\n",
      "tensor([ 0.7934, -0.0435,  0.9636], requires_grad=True)\n"
     ]
    }
   ],
   "source": [
    "for name, parameter in layer.named_parameters():\n",
    "    print(name, parameter)  # w and b"
   ]
  },
  {
   "cell_type": "markdown",
   "metadata": {
    "id": "A9qanjAdxg_x"
   },
   "source": [
    "从上面的例子中可以看出, 全连接层的实现非常简单, 其代码量不超过 10 行, 但需注意以下几点:\n",
    "\n",
    "- 自定义层 `Linear` 必须继承 `nn.Module`, 并且在其构造函数中需调用 `nn.Module` 的构造函数, 即 `super().__init__()` 或 `nn.Module.__init__(self)`, 推荐使用第一种用法\n",
    "\n",
    "- 在构造函数 `__init__` 中必须自行定义可学习的参数, 并封装成 `Parameter`, 如在本例中我们把 `w` 和 `b` 封装成 `Parameter`. `Parameter` 是一种特殊的 `Tensor`, 但其默认需要求导(requires_grad = True), 感兴趣的读者可以通过 `nn.Parameter??`, 查看 `Parameter` 类的源代码\n",
    "\n",
    "- `forward` 函数实现前向传播过程, 其输入可以是一个或多个 Tensor\n",
    "\n",
    "- 无需写反向传播函数, `nn.Module` 能够利用 autograd 自动实现反向传播, 这点比 Function 简单许多\n",
    "\n",
    "- 使用时, 直观上可将 layer 看成数学概念中的函数, 调用 layer(input) 即可得到 input 对应的结果. 它等价于 `layers.__call__(input)`, 在 `__call__` 函数中, 主要调用的是  `layer.forward(x)`, 另外还对钩子(hook)做了一些处理. 所以在实际使用中应尽量使用 `layer(x)` 而不是使用 `layer.forward(x)`, 关于钩子技术将在下文讲解\n",
    "\n",
    "- `Module` 中的可学习参数可以通过 `named_parameters()` 或者 `parameters()` 返回一个迭代器, 前者会给每个 parameter 都附上名字, 使其更具有辨识度.\n",
    "\n",
    "可见利用 Module 实现的全连接层, 比利用 `Function` 实现的更为简单, 这是因为我们不再需要编写反向传播函数."
   ]
  },
  {
   "cell_type": "code",
   "execution_count": 11,
   "metadata": {},
   "outputs": [
    {
     "name": "stdout",
     "output_type": "stream",
     "text": [
      "Parameter containing:\n",
      "tensor([[-2.6311,  0.4883, -0.5077],\n",
      "        [-1.2342, -0.2234,  0.5102],\n",
      "        [-1.7705, -0.2509, -0.0361],\n",
      "        [ 0.8260, -0.2239, -0.8398]], requires_grad=True)\n",
      "Parameter containing:\n",
      "tensor([ 0.7934, -0.0435,  0.9636], requires_grad=True)\n"
     ]
    }
   ],
   "source": [
    "for parameter in layer.parameters():\n",
    "    print(parameter)  # w and b"
   ]
  },
  {
   "cell_type": "markdown",
   "metadata": {
    "id": "QRUrnAhexg_x"
   },
   "source": [
    "Module 能够自动检测到自己的 `parameter`, 并将其作为学习参数. 除了 `parameter` 之外, Module 还包含子 `Module`, 主 Module 能够递归查找子 `Module` 中的 `Parameter`. 下面再来看看稍微复杂一点的网络, 多层感知机.\n",
    "\n",
    "多层感知机的网络结构如图 4-1 所示, 它由两个全连接层组成, 采用 $sigmoid$ 函数作为激活函数(图中没有画出).\n",
    "\n",
    "![图 4-1 多层感知机](imgs/multi_perceptron.png)"
   ]
  },
  {
   "cell_type": "code",
   "execution_count": 12,
   "metadata": {
    "id": "JF3pHvelxg_x"
   },
   "outputs": [],
   "source": [
    "class Perceptron(nn.Module):\n",
    "    def __init__(self, in_features, hidden_features, out_features):\n",
    "        super(Perceptron, self).__init__()\n",
    "        # 此处的 Linear 是前面自定义的全连接层\n",
    "        self.layer1 = Linear(in_features, hidden_features)\n",
    "        self.layer2 = Linear(hidden_features, out_features)\n",
    "\n",
    "    def forward(self, x):\n",
    "        x = self.layer1(x)\n",
    "        x = t.sigmoid(x)\n",
    "        return self.layer2(x)"
   ]
  },
  {
   "cell_type": "code",
   "execution_count": 18,
   "metadata": {
    "colab": {
     "base_uri": "https://localhost:8080/"
    },
    "id": "hCcC-kPBxg_x",
    "outputId": "48db2f32-88a4-4b6e-9acf-7bf09e773072"
   },
   "outputs": [
    {
     "name": "stdout",
     "output_type": "stream",
     "text": [
      "layer1.w torch.Size([3, 4])\n",
      "layer1.b torch.Size([4])\n",
      "layer2.w torch.Size([4, 1])\n",
      "layer2.b torch.Size([1])\n",
      "\n",
      " Perceptron(\n",
      "  (layer1): Linear()\n",
      "  (layer2): Linear()\n",
      ")\n",
      "layer1 Linear()\n",
      "layer2 Linear()\n",
      "\n",
      "layer1 Linear()\n",
      "layer2 Linear()\n",
      "\n"
     ]
    }
   ],
   "source": [
    "perceptron = Perceptron(3, 4, 1)\n",
    "# print(dir(perceptron))\n",
    "\n",
    "for name, param in perceptron.named_parameters():\n",
    "    print(name, param.size())\n",
    "print()\n",
    "\n",
    "for name, module in perceptron.named_modules():\n",
    "    print(name, module)\n",
    "print()\n",
    "\n",
    "for name, children in perceptron.named_children():\n",
    "    print(name, children)\n",
    "print()\n",
    "\n",
    "for name, buffer in perceptron.named_buffers():\n",
    "    print(name, buffer)"
   ]
  },
  {
   "cell_type": "markdown",
   "metadata": {
    "id": "sHwWvuhvxg_y"
   },
   "source": [
    "可见, 即使是稍复杂的多层感知机, 其实现依旧很简单. 需要注意的是, 在构造函数 `__init__` 中, 可利用前面自定义的 Linear 层(module), 作为当前 module 对象的一个子 module, 它的可学习参数, 也会成为当前 module 的可学习参数. 而在 `forward` 函数中, 可以加上各层之间的处理函数(激活、数学处理等), 并决定层与层之间的关系.\n",
    "\n",
    "而在 module 中, parameter 的全局命名规范如下:\n",
    "\n",
    "1. Parameter 直接命名. 例如 `self.param_name = nn.Parameter(t.randn(3, 4))`, 直接命名为 `param_name`\n",
    "\n",
    "2. 子 Module 中的 parameter, 会在其名字之前加上当前 module 的名字. 例如 `self.sub_module = SubModel()`, SubModel 中有个 parameter 的名字叫做 param_name, 那么二者拼接而成的 parameter name 就是 `sub_module.param_name`."
   ]
  },
  {
   "cell_type": "markdown",
   "metadata": {
    "id": "_Ai0_OHnxg_y"
   },
   "source": [
    "为方便用户使用, PyTorch 内部实现了神经网络中绝大多数的 layer, 这些 layer 都继承于 `nn.Module`, 封装了可学习参数 `parameter`, 并实现了 `forward` 函数. 同时, 大部分 layer 都专门针对 GPU 运算进行了 CuDNN 优化, 其速度和性能都十分优异. 本书不准备对 nn.Module 中的所有层进行详细介绍, 具体内容读者可参照官方文档或在 IPython/Jupyter 中使用 nn.layer? 来查看. 读者在阅读文档时应主要关注以下几点:\n",
    "\n",
    "1. 构造函数的参数, 如 nn.Linear(in_features, out_features, bias), 需关注这三个参数的作用\n",
    "\n",
    "2. 属性、可学习参数和子 module. 如 nn.Linear 中有 `weight` 和 `bias` 两个可学习参数, 不包含子 module\n",
    "\n",
    "3. 输入输出的形状, 如 nn.linear 的输入形状是 (N, input_features), 输出为 (N, output_features), 其中 N 是 batch_size.\n",
    "\n",
    "这些自定义 layer 对输入形状都有假设: 输入的不是单个数据, 而是一个 batch. 当输入只有一个数据时, 则必须调用 `tensor.unsqueeze(0)` 或 `tensor[None]` 将数据伪装成 `batch_size=1` 的一个 batch.\n",
    "\n",
    "[^1]: http://pytorch.org/docs/nn.html"
   ]
  },
  {
   "cell_type": "markdown",
   "metadata": {
    "id": "U5teNlxjxg_y"
   },
   "source": [
    "下面将从应用层面出发, 对一些常用的 layer 做简单介绍, 更详细的用法请查看官方文档."
   ]
  },
  {
   "cell_type": "markdown",
   "metadata": {
    "id": "8LwgZj7cxg_y"
   },
   "source": [
    "## 4.2 常用神经网络层\n",
    "\n",
    "本节将对神经网络中常用的神经网络层进行介绍, 这部分内容在后续神经网络的构建中将发挥着重要的作用.\n",
    "\n",
    "### 4.2.1 图像相关层\n",
    "\n",
    "图像相关层主要包括卷积层(Conv)、池化层(Pool)等, 这些层在实际使用中可分为一维(1D)、二维(2D)和三维(3D), 池化方式又分为平均池化(AvgPool)、最大值池化(MaxPool)、自适应池化(AdaptiveAvgPool)等. 而卷积层除了常用的前向卷积之外, 还有逆卷积(TransposeConv)等等. 下面将举例说明."
   ]
  },
  {
   "cell_type": "markdown",
   "metadata": {
    "id": "r6EO_oO0xg_y"
   },
   "source": [
    "#### 卷积层\n",
    "\n",
    "在深度学习中, 与图像处理相关的网络结构中最重要的便是卷积层(Conv). 卷积神经网络的本质就是卷积层、池化层、激活层以及其他层的叠加, 所以理解卷积层的工作原理是极其重要的. 本节将以最常见的二维卷积为例来对卷积层进行说明."
   ]
  },
  {
   "cell_type": "markdown",
   "metadata": {
    "id": "EHNvsqOKxg_y"
   },
   "source": [
    "在 torch.nn 工具箱中, 已经封装好了二维卷积类:\n",
    "\n",
    "```python\n",
    "torch.nn.Conv2d(in_channels: int,   \n",
    "                out_channels: int,  \n",
    "                kernel_size: Union[T, Tuple[T, T]],\n",
    "                stride: Union[T, Tuple[T, T]] = 1,\n",
    "                padding: Union[T, Tuple[T, T]] = 0,\n",
    "                dilation: Union[T, Tuple[T, T]] = 1,\n",
    "                groups: int = 1,\n",
    "                bias: bool = True,\n",
    "                padding_mode: str = 'zeros')  \n",
    "```\n",
    "\n",
    "其中:\n",
    "\n",
    "- in_channels: 输入图像的维度(常见 RGB 彩色图像为 3)\n",
    "\n",
    "- out_channels: 经过卷积操作后输出的维度\n",
    "\n",
    "- kernel_size: 卷积核大小, 常见卷积核为 2 维方阵即维度为 $[T\\times T]$, 正方形卷积核可以写为 $T(int)$\n",
    "\n",
    "- stride: 每次卷积操作移动的步长\n",
    "\n",
    "- padding: 卷积操作在边界是否有填充, 默认为 0\n",
    "\n",
    "- bias: 卷积操作加上偏置作为可学习参数, 默认为 True.\n"
   ]
  },
  {
   "cell_type": "markdown",
   "metadata": {
    "id": "g9IdAjNAxg_y"
   },
   "source": [
    "在卷积操作中, 我们需要知道其输出结果的形状, 以便对后续网络结构进行设计. 假设输入的形状为 $(N,C_{in},H_{in},W_{in})$, 输出的形状为 $(N,C_{out},H_{out},W_{out})$, 则可以通过式(4.1)计算:\n",
    "\n",
    "$$ \\begin{array}{l}\n",
    "   H_{out} = \\lfloor {H_{in}+{2}\\times{padding[0]}-kernel\\_size[0] \\over stride[0]}+1 \\rfloor \\\\\n",
    "   W_{out} = \\lfloor {W_{in}+{2}\\times{padding[1]}-kernel\\_size[1] \\over stride[1]}+1 \\rfloor\n",
    "  \\end{array}\\tag{4.1}\n",
    "$$\n",
    "\n",
    "下面将举例说明卷积操作的具体过程."
   ]
  },
  {
   "cell_type": "code",
   "execution_count": 32,
   "metadata": {
    "colab": {
     "base_uri": "https://localhost:8080/",
     "height": 217
    },
    "id": "KqPnWtaoxg_z",
    "outputId": "76f51932-b4da-42bc-befb-2d5e2a94cb99"
   },
   "outputs": [
    {
     "data": {
      "image/jpeg": "[encoded data removed]",
      "image/png": "[encoded data removed]",
      "text/plain": [
       "<PIL.PngImagePlugin.PngImageFile image mode=L size=200x200>"
      ]
     },
     "execution_count": 32,
     "metadata": {},
     "output_type": "execute_result"
    }
   ],
   "source": [
    "from PIL import Image\n",
    "from torchvision.transforms import ToTensor, ToPILImage\n",
    "\n",
    "to_tensor = ToTensor()  # img -> tensor\n",
    "to_pil = ToPILImage()\n",
    "lena = Image.open(\"imgs/lena.png\")\n",
    "lena  # 将 lena 可视化输出"
   ]
  },
  {
   "cell_type": "code",
   "execution_count": 33,
   "metadata": {
    "colab": {
     "base_uri": "https://localhost:8080/",
     "height": 304
    },
    "id": "-pNPCv77xg_z",
    "outputId": "9d9895ea-919e-4540-d0a2-1dfa6cc9b9bb"
   },
   "outputs": [
    {
     "name": "stdout",
     "output_type": "stream",
     "text": [
      "torch.Size([1, 200, 200])\n",
      "Input Size: torch.Size([1, 1, 200, 200])\n",
      "kernel: tensor([[-0.1111, -0.1111, -0.1111],\n",
      "        [-0.1111,  1.0000, -0.1111],\n",
      "        [-0.1111, -0.1111, -0.1111]])\n",
      "Output Size: torch.Size([1, 1, 198, 198])\n"
     ]
    },
    {
     "data": {
      "image/jpeg": "[encoded data removed]",
      "image/png": "[encoded data removed]",
      "text/plain": [
       "<PIL.Image.Image image mode=L size=198x198>"
      ]
     },
     "execution_count": 33,
     "metadata": {},
     "output_type": "execute_result"
    }
   ],
   "source": [
    "# 输入是一个 batch, batch_size ＝ 1\n",
    "print(to_tensor(lena).size())\n",
    "lena = to_tensor(lena).unsqueeze(0)\n",
    "print(\"Input Size:\", lena.size())  # 查看 input 纬度\n",
    "\n",
    "# 锐化卷积核\n",
    "kernel = t.ones(3, 3) / (-9.0)\n",
    "kernel[1][1] = 1\n",
    "print(\"kernel:\", kernel)\n",
    "\n",
    "conv = nn.Conv2d(1, 1, (3, 3), 1, bias=False)\n",
    "conv.weight.data = kernel.view(1, 1, 3, 3)\n",
    "\n",
    "out = conv(lena)\n",
    "print(\"Output Size:\", out.size())\n",
    "to_pil(out.data.squeeze(0))"
   ]
  },
  {
   "cell_type": "markdown",
   "metadata": {
    "id": "VSrpDw5Dxg_z"
   },
   "source": [
    "在上面的例子中, 输入 Tensor 的大小为 $200\\times 200$, 卷积核大小为 $3\\times 3$, 步长为 1, 填充为 0, 则根据式(4.1)可以计算得到输出的形状为:\n",
    "\n",
    "$$\n",
    "H_{out}=W_{out} = \\lfloor {200+{2}\\times{0}-3 \\over 1 }+1\\rfloor=198\n",
    "$$\n",
    "\n",
    "这与程序输出的维度一致."
   ]
  },
  {
   "cell_type": "markdown",
   "metadata": {
    "id": "3WVBte-Zxg_z"
   },
   "source": [
    "这里我们以二维卷积为例对卷积层的输入输出进行了基本的介绍. 除了二维卷积以外, 图像的卷积操作还有各种变体, 感兴趣的读者可以进一步查阅相关资料."
   ]
  },
  {
   "cell_type": "markdown",
   "metadata": {
    "id": "EE-CJi_Wxg_z"
   },
   "source": [
    "#### 池化层\n",
    "\n",
    "池化层可以看作是一种特殊的卷积层, 其主要用于下采样, 增加池化层可以在保留主要特征的同时降低参数量, 从而一定程度上防止了过拟合. 池化层没有可学习参数, 它的 weight 是固定的. 在 `torch.nn` 工具箱中封装好了各种池化层, 常见的有最大池化(MaxPool)和平均池化(AvgPool), 下面将举例说明."
   ]
  },
  {
   "cell_type": "code",
   "execution_count": 34,
   "metadata": {
    "colab": {
     "base_uri": "https://localhost:8080/"
    },
    "id": "w4oep3i6xg_z",
    "outputId": "f654dc2a-cc75-4da2-a6cb-06cdec081565",
    "scrolled": true
   },
   "outputs": [
    {
     "name": "stdout",
     "output_type": "stream",
     "text": [
      "tensor([[[[9, 0, 7, 5],\n",
      "          [7, 9, 4, 1],\n",
      "          [1, 8, 3, 7],\n",
      "          [4, 2, 1, 8]]]])\n"
     ]
    },
    {
     "data": {
      "text/plain": [
       "tensor([[[[6, 4],\n",
       "          [3, 4]]]])"
      ]
     },
     "execution_count": 34,
     "metadata": {},
     "output_type": "execute_result"
    }
   ],
   "source": [
    "input = t.randint(10, (1, 1, 4, 4))\n",
    "print(input)\n",
    "pool = nn.AvgPool2d(\n",
    "    2, 2\n",
    ")  # 平均池化, 池化中的卷积核为 2 * 2, 步长默认等于卷积核长度, 无填充\n",
    "pool(input)"
   ]
  },
  {
   "cell_type": "code",
   "execution_count": 17,
   "metadata": {
    "colab": {
     "base_uri": "https://localhost:8080/"
    },
    "id": "ca_xFyZcxg_z",
    "outputId": "ab0fd6ff-f995-4b38-bcfb-ad4714ac4257"
   },
   "outputs": [
    {
     "data": {
      "text/plain": [
       "[]"
      ]
     },
     "execution_count": 17,
     "metadata": {},
     "output_type": "execute_result"
    }
   ],
   "source": [
    "list(pool.parameters())  # 可以看到, 池化层中并没有可学习参数."
   ]
  },
  {
   "cell_type": "code",
   "execution_count": 35,
   "metadata": {
    "colab": {
     "base_uri": "https://localhost:8080/",
     "height": 117
    },
    "id": "OxXceMl4xg_0",
    "outputId": "de45db12-4aa6-4ad4-8977-2e0b87dfc6d8"
   },
   "outputs": [
    {
     "data": {
      "image/jpeg": "[encoded data removed]",
      "image/png": "[encoded data removed]",
      "text/plain": [
       "<PIL.Image.Image image mode=L size=100x100>"
      ]
     },
     "execution_count": 35,
     "metadata": {},
     "output_type": "execute_result"
    }
   ],
   "source": [
    "out = pool(lena)\n",
    "to_pil(out.data.squeeze(0))  # 输出池化后的 lena"
   ]
  },
  {
   "cell_type": "code",
   "execution_count": 36,
   "metadata": {
    "colab": {
     "base_uri": "https://localhost:8080/"
    },
    "id": "5DTu3PRp5_1x",
    "outputId": "0f2df957-d867-43fb-ec79-da7e3e3ee4ef"
   },
   "outputs": [
    {
     "name": "stdout",
     "output_type": "stream",
     "text": [
      "tensor([[[[1, 8, 2, 9],\n",
      "          [5, 4, 5, 6],\n",
      "          [4, 2, 0, 7],\n",
      "          [4, 0, 8, 4]]]])\n"
     ]
    },
    {
     "data": {
      "text/plain": [
       "tensor([[[[8, 9],\n",
       "          [4, 8]]]])"
      ]
     },
     "execution_count": 36,
     "metadata": {},
     "output_type": "execute_result"
    }
   ],
   "source": [
    "input = t.randint(10, (1, 1, 4, 4))\n",
    "print(input)\n",
    "pool = nn.MaxPool2d(\n",
    "    2, 2\n",
    ")  # 平均池化, 池化中的卷积核为 2 * 2, 步长默认等于卷积核长度, 无填充\n",
    "pool(input)"
   ]
  },
  {
   "cell_type": "markdown",
   "metadata": {
    "id": "ic-LYAM8xg_0"
   },
   "source": [
    "#### 其他层\n",
    "\n",
    "除了卷积层和池化层, 深度学习中还将常用到以下几个层:\n",
    "\n",
    "- Linear: 全连接层\n",
    "\n",
    "- BatchNorm: 批标准化层, 分为 1D、2D 和 3D. 除了标准的 BatchNorm 之外, 还有在风格迁移中常用到的 InstanceNorm 层\n",
    "\n",
    "- Dropout: Dropout 层, 用来防止过拟合, 同样分为 1D、2D 和 3D.\n",
    "\n",
    "下面将举几个例子来说明它们的使用方法."
   ]
  },
  {
   "cell_type": "code",
   "execution_count": 37,
   "metadata": {
    "colab": {
     "base_uri": "https://localhost:8080/"
    },
    "id": "m9i7_Vfmxg_0",
    "outputId": "18b2354e-3baa-422a-ee83-167ebf436843",
    "scrolled": true
   },
   "outputs": [
    {
     "name": "stdout",
     "output_type": "stream",
     "text": [
      "input: tensor([[ 0.3860, -0.5793,  0.0488],\n",
      "        [ 0.0879,  0.4857,  0.0566]])\n"
     ]
    },
    {
     "data": {
      "text/plain": [
       "tensor([[ 0.5768,  0.2134,  0.1675, -0.4061],\n",
       "        [ 0.4870,  0.3004,  0.1329, -0.2611]], grad_fn=<AddmmBackward0>)"
      ]
     },
     "execution_count": 37,
     "metadata": {},
     "output_type": "execute_result"
    }
   ],
   "source": [
    "# 输入 batch_size = 2, 维度 3\n",
    "input = t.randn(2, 3)\n",
    "print(\"input:\", input)\n",
    "linear = nn.Linear(3, 4)\n",
    "h = linear(input)\n",
    "h"
   ]
  },
  {
   "cell_type": "code",
   "execution_count": 42,
   "metadata": {
    "colab": {
     "base_uri": "https://localhost:8080/"
    },
    "id": "OEAgyme6xg_0",
    "outputId": "2f993058-6217-462f-940f-a48e8b12330a",
    "scrolled": true
   },
   "outputs": [
    {
     "name": "stdout",
     "output_type": "stream",
     "text": [
      "bn.weight.data: tensor([4., 4., 4., 4.])\n",
      "bn.bias.data: tensor([0., 0., 0., 0.])\n",
      "\n",
      "tensor([[ 3.9901, -3.9895,  3.9346, -3.9962],\n",
      "        [-3.9901,  3.9895, -3.9345,  3.9962]],\n",
      "       grad_fn=<NativeBatchNormBackward0>)\n",
      "torch.Size([2, 4])\n",
      "\n",
      "tensor([-1.0729e-06,  1.1921e-06,  1.4305e-06,  8.3447e-07],\n",
      "       grad_fn=<MeanBackward1>)\n",
      "\n",
      "tensor([3.9901, 3.9895, 3.9345, 3.9962], grad_fn=<StdBackward0>)\n"
     ]
    }
   ],
   "source": [
    "# 4 channel, 初始化标准差为 4, 均值为 0\n",
    "bn = nn.BatchNorm1d(4)\n",
    "bn.weight.data = t.ones(4) * 4\n",
    "print(\"bn.weight.data:\", bn.weight.data)\n",
    "bn.bias.data = t.zeros(4)\n",
    "print(\"bn.bias.data:\", bn.bias.data)\n",
    "print()\n",
    "\n",
    "bn_out = bn(h)\n",
    "print(bn_out)\n",
    "print(bn_out.size())\n",
    "print()\n",
    "\n",
    "# 注意输出的均值和方差\n",
    "print(bn_out.mean(0))\n",
    "print()\n",
    "print(bn_out.std(0, unbiased=False))"
   ]
  },
  {
   "cell_type": "code",
   "execution_count": 65,
   "metadata": {
    "colab": {
     "base_uri": "https://localhost:8080/"
    },
    "id": "wUDpzALVxg_0",
    "outputId": "d53e8c28-5c64-419e-8fd7-b7aa46608422"
   },
   "outputs": [
    {
     "name": "stdout",
     "output_type": "stream",
     "text": [
      "True\n",
      "tensor([[ 0.0000, -7.9789,  7.8691, -0.0000],\n",
      "        [-7.9802,  0.0000, -7.8691,  0.0000]], grad_fn=<MulBackward0>)\n",
      "False\n",
      "tensor([[ 3.9901, -3.9895,  3.9346, -3.9962],\n",
      "        [-3.9901,  3.9895, -3.9345,  3.9962]],\n",
      "       grad_fn=<NativeBatchNormBackward0>)\n"
     ]
    }
   ],
   "source": [
    "# 每个元素以 0.5 的概率随机舍弃\n",
    "dropout = nn.Dropout(0.5)\n",
    "\n",
    "print(dropout.training)\n",
    "o = dropout(bn_out)\n",
    "print(o)  # 有一半左右的数变为 0\n",
    "\n",
    "dropout.eval()\n",
    "print(dropout.training)\n",
    "o = dropout(bn_out)\n",
    "print(o)  # 有一半左右的数变为 0"
   ]
  },
  {
   "cell_type": "markdown",
   "metadata": {
    "id": "kkSq4hg6xg_0"
   },
   "source": [
    "以上很多例子中都对 module 的属性直接操作, 其大多数是可学习参数, 一般会随着学习的进行而不断改变. 实际使用中除非需要使用特殊的初始化, 否则应尽量不要直接修改这些参数."
   ]
  },
  {
   "cell_type": "markdown",
   "metadata": {
    "id": "PpGmGoz8xg_0"
   },
   "source": [
    "### 4.2.2 激活函数\n",
    "\n",
    "PyTorch 实现了常见的激活函数, 其具体的接口信息可参见官方文档, 这些激活函数可作为独立的 layer 使用. 这里将介绍最常用的激活函数 ReLU, 其数学表达式为:\n",
    "\n",
    "$$\n",
    "ReLU(x)=max(0,x) \\tag{4.2}\n",
    "$$\n",
    "\n",
    "下面来看如何在 `torch.nn` 中使用 ReLU 函数:"
   ]
  },
  {
   "cell_type": "code",
   "execution_count": 23,
   "metadata": {
    "colab": {
     "base_uri": "https://localhost:8080/"
    },
    "id": "6vtYp-NJxg_1",
    "outputId": "5a0e311e-74cc-4090-c1aa-cbdffbfbea10"
   },
   "outputs": [
    {
     "name": "stdout",
     "output_type": "stream",
     "text": [
      "tensor([[ 0.0642,  0.9442, -0.7237],\n",
      "        [-0.3582, -0.0193,  1.5449]])\n",
      "tensor([[0.0642, 0.9442, 0.0000],\n",
      "        [0.0000, 0.0000, 1.5449]])\n"
     ]
    }
   ],
   "source": [
    "relu = nn.ReLU(inplace=True)\n",
    "input = t.randn(2, 3)\n",
    "print(input)\n",
    "output = relu(input)\n",
    "print(output)  # 小于 0 的都被截断为 0\n",
    "# 等价于 input.clamp(min=0)"
   ]
  },
  {
   "cell_type": "markdown",
   "metadata": {
    "id": "3oeNjvWuxg_1"
   },
   "source": [
    "ReLU 函数有个 inplace 参数, 如果设为 True, 它会把输出直接覆盖到输入中, 这样可以节省内存/显存. 这里之所以可以直接覆盖, 是因为在计算 ReLU 的反向传播时, 只需根据输出就能够推算出反向传播的梯度. 但是只有少数的 autograd 操作支持 inplace 操作(如 tensor.sigmoid_()), 因此除非你明确地知道自己在做什么, 否则一般不要使用 inplace 操作. 除此以外, 常见的激活函数还有 $tanh={{e^x}-{e^{-x}} \\over {e^x}+{e^{-x}}}$ 和 $sigmoid={1 \\over {1 + {e^{-x}}}}$. 读者可以根据实际的网络结构、数据分布等灵活地选用各类激活函数."
   ]
  },
  {
   "cell_type": "markdown",
   "metadata": {
    "id": "L542Fk-lxg_1"
   },
   "source": [
    "### 4.2.3 构建网络\n",
    "\n",
    "在以上的例子中, 我们基本上都是将每一层的输出直接作为下一层的输入, 这种网络称为前馈传播网络(Feedforward Neural Network). 对于此类网络如果每次都写复杂的 `forward` 函数会有些麻烦, 这里有两种简化方式: `ModuleList` 和 `Sequential`. 其中 Sequential 是一个特殊的 module, 它包含几个子 Module, 前向传播时会将输入一层接一层的传递下去. ModuleList 也是一个特殊的 Module, 可以包含几个子 module, 我们可以像用 list 一样使用它, 但不能直接把输入传给 ModuleList, 下面将举例说明."
   ]
  },
  {
   "cell_type": "code",
   "execution_count": 45,
   "metadata": {
    "colab": {
     "base_uri": "https://localhost:8080/"
    },
    "id": "72pw1Pxexg_1",
    "outputId": "cb9cfa8f-ddbc-489a-ad6f-57e95ebe28a8"
   },
   "outputs": [
    {
     "name": "stdout",
     "output_type": "stream",
     "text": [
      "net1: Sequential(\n",
      "  (conv): Conv2d(3, 3, kernel_size=(3, 3), stride=(1, 1))\n",
      "  (batchnorm): BatchNorm2d(3, eps=1e-05, momentum=0.1, affine=True, track_running_stats=True)\n",
      "  (activation_layer): ReLU()\n",
      ")\n",
      "net2: Sequential(\n",
      "  (0): Conv2d(3, 3, kernel_size=(3, 3), stride=(1, 1))\n",
      "  (1): BatchNorm2d(3, eps=1e-05, momentum=0.1, affine=True, track_running_stats=True)\n",
      "  (2): ReLU()\n",
      ")\n",
      "net3: Sequential(\n",
      "  (conv1): Conv2d(3, 3, kernel_size=(3, 3), stride=(1, 1))\n",
      "  (bn1): BatchNorm2d(3, eps=1e-05, momentum=0.1, affine=True, track_running_stats=True)\n",
      "  (relu1): ReLU()\n",
      ")\n"
     ]
    }
   ],
   "source": [
    "# Sequential 的三种写法\n",
    "net1 = nn.Sequential()\n",
    "net1.add_module(\"conv\", nn.Conv2d(3, 3, 3))\n",
    "net1.add_module(\"batchnorm\", nn.BatchNorm2d(3))\n",
    "net1.add_module(\"activation_layer\", nn.ReLU())\n",
    "\n",
    "net2 = nn.Sequential(nn.Conv2d(3, 3, 3), nn.BatchNorm2d(3), nn.ReLU())\n",
    "\n",
    "from collections import OrderedDict\n",
    "\n",
    "net3 = nn.Sequential(\n",
    "    OrderedDict(\n",
    "        [\n",
    "            (\"conv1\", nn.Conv2d(3, 3, 3)),\n",
    "            (\"bn1\", nn.BatchNorm2d(3)),\n",
    "            (\"relu1\", nn.ReLU()),\n",
    "        ]\n",
    "    )\n",
    ")\n",
    "print(\"net1:\", net1)\n",
    "print(\"net2:\", net2)\n",
    "print(\"net3:\", net3)"
   ]
  },
  {
   "cell_type": "code",
   "execution_count": 46,
   "metadata": {},
   "outputs": [
    {
     "name": "stdout",
     "output_type": "stream",
     "text": [
      "net1: Sequential(\n",
      "  (conv): Conv2d(3, 3, kernel_size=(3, 3), stride=(1, 1))\n",
      "  (batchnorm): BatchNorm2d(3, eps=1e-05, momentum=0.1, affine=True, track_running_stats=True)\n",
      "  (activation_layer): ReLU()\n",
      ")\n",
      "net1._parameters: OrderedDict()\n",
      "net1._modules: OrderedDict([('conv', Conv2d(3, 3, kernel_size=(3, 3), stride=(1, 1))), ('batchnorm', BatchNorm2d(3, eps=1e-05, momentum=0.1, affine=True, track_running_stats=True)), ('activation_layer', ReLU())])\n",
      "net1._buffers: OrderedDict()\n",
      "net1._backward_hooks: OrderedDict()\n",
      "net1._forward_hooks: OrderedDict()\n",
      "net1.training: True\n",
      "net1.__dict__: {'training': True, '_parameters': OrderedDict(), '_buffers': OrderedDict(), '_non_persistent_buffers_set': set(), '_backward_pre_hooks': OrderedDict(), '_backward_hooks': OrderedDict(), '_is_full_backward_hook': None, '_forward_hooks': OrderedDict(), '_forward_hooks_with_kwargs': OrderedDict(), '_forward_hooks_always_called': OrderedDict(), '_forward_pre_hooks': OrderedDict(), '_forward_pre_hooks_with_kwargs': OrderedDict(), '_state_dict_hooks': OrderedDict(), '_state_dict_pre_hooks': OrderedDict(), '_load_state_dict_pre_hooks': OrderedDict(), '_load_state_dict_post_hooks': OrderedDict(), '_modules': OrderedDict([('conv', Conv2d(3, 3, kernel_size=(3, 3), stride=(1, 1))), ('batchnorm', BatchNorm2d(3, eps=1e-05, momentum=0.1, affine=True, track_running_stats=True)), ('activation_layer', ReLU())])}\n"
     ]
    }
   ],
   "source": [
    "print(\"net1:\", net1)\n",
    "print(\"net1._parameters:\", net1._parameters)\n",
    "print(\"net1._modules:\", net1._modules)\n",
    "print(\"net1._buffers:\", net1._buffers)\n",
    "print(\"net1._backward_hooks:\", net1._backward_hooks)\n",
    "print(\"net1._forward_hooks:\", net1._forward_hooks)\n",
    "print(\"net1.training:\", net1.training)\n",
    "print(\"net1.__dict__:\", net1.__dict__)"
   ]
  },
  {
   "cell_type": "code",
   "execution_count": 47,
   "metadata": {
    "colab": {
     "base_uri": "https://localhost:8080/"
    },
    "id": "ShrgAufyxg_1",
    "outputId": "30898d2e-9109-4230-9185-b0a6d2278a99"
   },
   "outputs": [
    {
     "data": {
      "text/plain": [
       "(Conv2d(3, 3, kernel_size=(3, 3), stride=(1, 1)),\n",
       " Conv2d(3, 3, kernel_size=(3, 3), stride=(1, 1)),\n",
       " Conv2d(3, 3, kernel_size=(3, 3), stride=(1, 1)))"
      ]
     },
     "execution_count": 47,
     "metadata": {},
     "output_type": "execute_result"
    }
   ],
   "source": [
    "# 可根据名字或序号取出子 module\n",
    "net1.conv, net2[0], net3.conv1"
   ]
  },
  {
   "cell_type": "code",
   "execution_count": 27,
   "metadata": {
    "colab": {
     "base_uri": "https://localhost:8080/"
    },
    "id": "JMOnIwecxg_1",
    "outputId": "d3a77ad4-4d58-489e-af5e-b3702b1e0971"
   },
   "outputs": [
    {
     "name": "stdout",
     "output_type": "stream",
     "text": [
      "tensor([[[[0.8842, 0.0000],\n",
      "          [0.7566, 0.0000]],\n",
      "\n",
      "         [[0.0000, 0.7076],\n",
      "          [1.1892, 0.0000]],\n",
      "\n",
      "         [[1.0496, 0.0000],\n",
      "          [0.0000, 0.7088]]]], grad_fn=<ReluBackward0>)\n",
      "tensor([[[[0.0000, 1.6196],\n",
      "          [0.0000, 0.0000]],\n",
      "\n",
      "         [[1.3235, 0.0000],\n",
      "          [0.4016, 0.0000]],\n",
      "\n",
      "         [[0.6298, 0.6212],\n",
      "          [0.0000, 0.4763]]]], grad_fn=<ReluBackward0>)\n",
      "tensor([[[[1.5063, 0.0000],\n",
      "          [0.0000, 0.2384]],\n",
      "\n",
      "         [[0.0000, 0.9916],\n",
      "          [0.2786, 0.3963]],\n",
      "\n",
      "         [[1.6676, 0.0000],\n",
      "          [0.0000, 0.0000]]]], grad_fn=<ReluBackward0>)\n",
      "tensor([[[[0.8842, 0.0000],\n",
      "          [0.7566, 0.0000]],\n",
      "\n",
      "         [[0.0000, 0.7076],\n",
      "          [1.1892, 0.0000]],\n",
      "\n",
      "         [[1.0496, 0.0000],\n",
      "          [0.0000, 0.7088]]]], grad_fn=<ReluBackward0>)\n"
     ]
    }
   ],
   "source": [
    "# 调用已构建的网络\n",
    "input = t.rand(1, 3, 4, 4)\n",
    "\n",
    "output = net1(input)\n",
    "print(output)\n",
    "\n",
    "output = net2(input)\n",
    "print(output)\n",
    "\n",
    "output = net3(input)\n",
    "print(output)\n",
    "\n",
    "output = net3.relu1(net1.batchnorm(net1.conv(input)))\n",
    "print(output)"
   ]
  },
  {
   "cell_type": "code",
   "execution_count": 31,
   "metadata": {
    "colab": {
     "base_uri": "https://localhost:8080/"
    },
    "id": "rSirg5A0xg_1",
    "outputId": "4e12486e-d4f6-453e-f908-49cdffade092"
   },
   "outputs": [
    {
     "name": "stdout",
     "output_type": "stream",
     "text": [
      "tensor([[-0.3506, -0.4682, -1.5710]])\n",
      "tensor([[-0.8970, -0.7523, -1.1201, -1.1833]], grad_fn=<AddmmBackward0>)\n",
      "\n",
      "tensor([[-0.8970, -0.7523, -1.1201, -1.1833]], grad_fn=<AddmmBackward0>)\n",
      "tensor([[0., 0., 0., 0.]], grad_fn=<ReluBackward0>)\n",
      "\n",
      "tensor([[0., 0., 0., 0.]], grad_fn=<ReluBackward0>)\n",
      "tensor([[0.4871, 0.1692]], grad_fn=<AddmmBackward0>)\n",
      "\n"
     ]
    }
   ],
   "source": [
    "modellist = nn.ModuleList([nn.Linear(3, 4), nn.ReLU(), nn.Linear(4, 2)])\n",
    "input = t.randn(1, 3)\n",
    "for model in modellist:\n",
    "    print(input)\n",
    "    input = model(input)\n",
    "    print(input)\n",
    "    print()\n",
    "\n",
    "# 下面会报错,因为 modellist 没有实现 forward 方法\n",
    "# output = modelist(input)"
   ]
  },
  {
   "cell_type": "markdown",
   "metadata": {
    "id": "ff7qe3KDxg_2"
   },
   "source": [
    "看到这里, 读者可能会问, 为何不直接使用 Python 中自带的 list, 而非要多此一举呢? 这是因为 `ModuleList` 是 `Module` 的子类, 当在 `Module` 中使用它的时候, 就能自动识别为子 module, 下面将举例说明."
   ]
  },
  {
   "cell_type": "code",
   "execution_count": 48,
   "metadata": {
    "colab": {
     "base_uri": "https://localhost:8080/"
    },
    "id": "uT-DhLPSxg_5",
    "outputId": "b97f00d7-0864-4d30-92d7-9ba93b6f04bd"
   },
   "outputs": [
    {
     "name": "stdout",
     "output_type": "stream",
     "text": [
      "model: MyModule(\n",
      "  (module_list): ModuleList(\n",
      "    (0): Conv2d(3, 3, kernel_size=(3, 3), stride=(1, 1))\n",
      "    (1): ReLU()\n",
      "  )\n",
      ")\n",
      "model._parameters: OrderedDict()\n",
      "model._modules: OrderedDict([('module_list', ModuleList(\n",
      "  (0): Conv2d(3, 3, kernel_size=(3, 3), stride=(1, 1))\n",
      "  (1): ReLU()\n",
      "))])\n",
      "model._buffers: OrderedDict()\n",
      "model._backward_hooks: OrderedDict()\n",
      "model._forward_hooks: OrderedDict()\n",
      "model.training: True\n",
      "model.__dict__: {'training': True, '_parameters': OrderedDict(), '_buffers': OrderedDict(), '_non_persistent_buffers_set': set(), '_backward_pre_hooks': OrderedDict(), '_backward_hooks': OrderedDict(), '_is_full_backward_hook': None, '_forward_hooks': OrderedDict(), '_forward_hooks_with_kwargs': OrderedDict(), '_forward_hooks_always_called': OrderedDict(), '_forward_pre_hooks': OrderedDict(), '_forward_pre_hooks_with_kwargs': OrderedDict(), '_state_dict_hooks': OrderedDict(), '_state_dict_pre_hooks': OrderedDict(), '_load_state_dict_pre_hooks': OrderedDict(), '_load_state_dict_post_hooks': OrderedDict(), '_modules': OrderedDict([('module_list', ModuleList(\n",
      "  (0): Conv2d(3, 3, kernel_size=(3, 3), stride=(1, 1))\n",
      "  (1): ReLU()\n",
      "))]), 'list': [Linear(in_features=3, out_features=4, bias=True), ReLU()]}\n"
     ]
    }
   ],
   "source": [
    "class MyModule(nn.Module):\n",
    "    def __init__(self):\n",
    "        super(MyModule, self).__init__()\n",
    "        self.list = [nn.Linear(3, 4), nn.ReLU()]\n",
    "        self.module_list = nn.ModuleList([nn.Conv2d(3, 3, 3), nn.ReLU()])\n",
    "\n",
    "    def forward(self):\n",
    "        pass\n",
    "\n",
    "\n",
    "model = MyModule()\n",
    "print(\"model:\", model)\n",
    "print(\"model._parameters:\", model._parameters)\n",
    "print(\"model._modules:\", model._modules)\n",
    "print(\"model._buffers:\", model._buffers)\n",
    "print(\"model._backward_hooks:\", model._backward_hooks)\n",
    "print(\"model._forward_hooks:\", model._forward_hooks)\n",
    "print(\"model.training:\", model.training)\n",
    "print(\"model.__dict__:\", model.__dict__)"
   ]
  },
  {
   "cell_type": "code",
   "execution_count": 49,
   "metadata": {
    "colab": {
     "base_uri": "https://localhost:8080/"
    },
    "id": "V_ws1u63xg_6",
    "outputId": "962d7f46-f12e-4cc0-f346-2a26ca0a12af"
   },
   "outputs": [
    {
     "name": "stdout",
     "output_type": "stream",
     "text": [
      "module_list.0.weight torch.Size([3, 3, 3, 3])\n",
      "module_list.0.bias torch.Size([3])\n"
     ]
    }
   ],
   "source": [
    "for name, param in model.named_parameters():\n",
    "    print(name, param.size())"
   ]
  },
  {
   "cell_type": "markdown",
   "metadata": {
    "id": "cKJqrWhGxg_6"
   },
   "source": [
    "可见, list 中的子 module 并不能被主 module 所识别, 而 `ModuleList` 中的子 module 能够被主 module所 识别. 这意味着如果用 list 保存子 module, 将无法调整其参数, 因其未加入到主 module 的参数中."
   ]
  },
  {
   "cell_type": "markdown",
   "metadata": {
    "id": "da79QQI2xg_6"
   },
   "source": [
    "除了 `ModuleList` 之外还有 `ParameterList`, 它是一个可以包含多个 parameter 的类 list 对象. 在实际应用中, 其使用方式与 `ModuleList` 类似. 如果在构造函数 `__init__` 中用到 list、tuple、dict 等对象时, 一定要思考是否应该用 `ModuleList` 或 `ParameterList` 代替."
   ]
  },
  {
   "cell_type": "markdown",
   "metadata": {
    "id": "8MK9DuEXxg_6"
   },
   "source": [
    "### 4.2.3 循环神经网络层(RNN)\n",
    "\n",
    "近年来, 随着深度学习和自然语言处理领域的逐渐火热, RNN 的使用也越来越多. PyTorch 中实现了如今最常用的三种 RNN: RNN(vanilla RNN)、LSTM 和 GRU. 此外还有对应的三种 RNNCell.\n",
    "\n",
    "RNN 和 RNNCell 层的区别在于前者一次能够处理整个序列, 而后者一次只处理序列中一个时间点的数据; 同时, RNN 的封装更完备更易于使用, 相比之下 RNNCell 层更具灵活性. 实际上 RNN 层的一种后端实现方式就是调用 RNNCell 来实现的. 下面将举例说明这两种 RNN 层结构."
   ]
  },
  {
   "cell_type": "code",
   "execution_count": 50,
   "metadata": {
    "colab": {
     "base_uri": "https://localhost:8080/"
    },
    "id": "-2yqxVipxg_6",
    "outputId": "688235a1-ef8a-4316-eaaf-af9946e1fee4",
    "scrolled": true
   },
   "outputs": [
    {
     "name": "stdout",
     "output_type": "stream",
     "text": [
      "input: tensor([[[-0.1452,  0.9747,  0.6023,  1.5775],\n",
      "         [ 0.5700,  0.4273, -0.0021, -1.6452],\n",
      "         [ 0.4675, -0.2879, -0.0742,  0.1680]],\n",
      "\n",
      "        [[ 0.6188,  0.7807,  1.5127,  0.9355],\n",
      "         [-0.8463, -0.0393, -1.9088, -0.3105],\n",
      "         [ 0.0857,  0.4377,  0.1639,  1.2274]]])\n",
      "h0: tensor([[[ 0.3641, -0.5107,  2.5208],\n",
      "         [ 0.5941, -0.6451, -0.1779],\n",
      "         [-2.1938,  0.5200, -0.0772]]])\n",
      "c0: tensor([[[-0.6075,  2.4684, -0.5174],\n",
      "         [ 1.0258, -1.5808, -1.0347],\n",
      "         [ 0.4003,  1.1366,  0.5626]]])\n"
     ]
    },
    {
     "data": {
      "text/plain": [
       "torch.Size([2, 3, 3])"
      ]
     },
     "execution_count": 50,
     "metadata": {},
     "output_type": "execute_result"
    }
   ],
   "source": [
    "t.manual_seed(2021)\n",
    "\n",
    "input = t.randn(2, 3, 4).float()\n",
    "print(\"input:\", input)\n",
    "\n",
    "lstm = nn.LSTM(4, 3, 1)\n",
    "\n",
    "h0 = t.randn(1, 3, 3)\n",
    "print(\"h0:\", h0)\n",
    "\n",
    "c0 = t.randn(1, 3, 3)\n",
    "print(\"c0:\", c0)\n",
    "\n",
    "out1, hn = lstm(input, (h0, c0))\n",
    "out1.shape"
   ]
  },
  {
   "cell_type": "code",
   "execution_count": 51,
   "metadata": {
    "colab": {
     "base_uri": "https://localhost:8080/"
    },
    "id": "LFnug18wxg_6",
    "outputId": "0f613a79-c13b-4159-c4a8-004850f7b067",
    "scrolled": true
   },
   "outputs": [
    {
     "data": {
      "text/plain": [
       "torch.Size([2, 3, 3])"
      ]
     },
     "execution_count": 51,
     "metadata": {},
     "output_type": "execute_result"
    }
   ],
   "source": [
    "t.manual_seed(2021)\n",
    "\n",
    "input = t.randn(2, 3, 4).float()\n",
    "\n",
    "lstm = nn.LSTMCell(4, 3)\n",
    "hx = t.randn(3, 3)\n",
    "cx = t.randn(3, 3)\n",
    "\n",
    "out = []\n",
    "for i_ in input:\n",
    "    hx, cx = lstm(i_, (hx, cx))\n",
    "    out.append(hx)\n",
    "out2 = t.stack(out)\n",
    "out2.shape"
   ]
  },
  {
   "cell_type": "markdown",
   "metadata": {
    "id": "yyp3yp8Nxg_7"
   },
   "source": [
    "其中, 上述两种实现方式下 LSTM 的结果是完全一致的. 读者可以对比一下这两种实现方式有何区别, 并从中体会 RNN 和 RNNCell 层实现的不同."
   ]
  },
  {
   "cell_type": "code",
   "execution_count": 52,
   "metadata": {
    "colab": {
     "base_uri": "https://localhost:8080/"
    },
    "id": "ov8VtzU6xg_7",
    "outputId": "bb2d2612-3359-421c-8a17-32461899f66c"
   },
   "outputs": [
    {
     "data": {
      "text/plain": [
       "True"
      ]
     },
     "execution_count": 52,
     "metadata": {},
     "output_type": "execute_result"
    }
   ],
   "source": [
    "# 受限于精度问题, 这里使用 allclose 函数说明结果的一致性\n",
    "out1.allclose(out2)"
   ]
  },
  {
   "cell_type": "markdown",
   "metadata": {
    "id": "qKjnkL3Axg_7"
   },
   "source": [
    "词向量在自然语言中应用十分普及, PyTorch 同样提供了 Embedding 层, 下面将举例说明."
   ]
  },
  {
   "cell_type": "code",
   "execution_count": 57,
   "metadata": {
    "colab": {
     "base_uri": "https://localhost:8080/"
    },
    "id": "mJ2x6AMExg_7",
    "outputId": "339eb932-2a8c-4dec-9994-e60e390d17dc"
   },
   "outputs": [
    {
     "data": {
      "text/plain": [
       "tensor([[-1.2042, -1.2447, -1.3487, -0.6362,  0.8926],\n",
       "        [-0.1286, -1.0406,  0.4500,  0.2018,  0.9161],\n",
       "        [ 2.4706,  0.8514, -0.7210, -1.2572, -1.1421],\n",
       "        [ 0.7959, -0.2146, -0.0667,  0.3148, -0.3237]])"
      ]
     },
     "execution_count": 57,
     "metadata": {},
     "output_type": "execute_result"
    }
   ],
   "source": [
    "# 有 4 个词, 每个词用 5 维的向量表示\n",
    "embedding = nn.Embedding(4, 5)\n",
    "\n",
    "# 可以用预训练好的词向量初始化 embedding\n",
    "weight = t.arange(0, 20).view(4, 5).float()\n",
    "embedding.from_pretrained(weight)\n",
    "embedding.weight.data"
   ]
  },
  {
   "cell_type": "code",
   "execution_count": 58,
   "metadata": {
    "colab": {
     "base_uri": "https://localhost:8080/"
    },
    "id": "9jrNcZcAxg_7",
    "outputId": "e3c395b1-7e21-4153-ae4f-e20c3f8422e1"
   },
   "outputs": [
    {
     "name": "stdout",
     "output_type": "stream",
     "text": [
      "input: tensor([3, 2, 1])\n"
     ]
    },
    {
     "data": {
      "text/plain": [
       "tensor([[ 0.7959, -0.2146, -0.0667,  0.3148, -0.3237],\n",
       "        [ 2.4706,  0.8514, -0.7210, -1.2572, -1.1421],\n",
       "        [-0.1286, -1.0406,  0.4500,  0.2018,  0.9161]],\n",
       "       grad_fn=<EmbeddingBackward0>)"
      ]
     },
     "execution_count": 58,
     "metadata": {},
     "output_type": "execute_result"
    }
   ],
   "source": [
    "input = t.arange(3, 0, -1).long()\n",
    "print(\"input:\", input)\n",
    "\n",
    "output = embedding(input)\n",
    "output"
   ]
  },
  {
   "cell_type": "markdown",
   "metadata": {
    "id": "758DcoO_xg_7"
   },
   "source": [
    "### 4.2.4 损失函数\n",
    "\n",
    "在深度学习中会经常使用各种各样的损失函数(loss function), 这些损失函数可看作是一种特殊的 layer, PyTorch 也将这些损失函数实现为 `nn.Module` 的子类. 然而在实际使用中通常将这些损失函数专门提取出来, 作为独立的一部分. 详细的 loss 使用请参照官方文档, 这里以分类中最常用的交叉熵损失 CrossEntropyloss 为例进行讲解."
   ]
  },
  {
   "cell_type": "code",
   "execution_count": 59,
   "metadata": {
    "colab": {
     "base_uri": "https://localhost:8080/"
    },
    "id": "ijOHW3EMxg_7",
    "outputId": "20d1b71d-279b-4bb3-bbc1-d61ae6b4607a"
   },
   "outputs": [
    {
     "name": "stdout",
     "output_type": "stream",
     "text": [
      "score: tensor([[-0.4485, -0.0661],\n",
      "        [ 0.9854, -2.2637],\n",
      "        [-0.9039,  0.2389]])\n",
      "label: tensor([1, 0, 1])\n"
     ]
    },
    {
     "data": {
      "text/plain": [
       "tensor(0.2783)"
      ]
     },
     "execution_count": 59,
     "metadata": {},
     "output_type": "execute_result"
    }
   ],
   "source": [
    "# batch_size = 3, 计算对应每个类别的分数(只有两个类别)\n",
    "score = t.randn(3, 2)\n",
    "print(\"score:\", score)\n",
    "\n",
    "# 三个样本分别属于 1, 0, 1 类, label 必须是 LongTensor\n",
    "label = t.Tensor([1, 0, 1]).long()\n",
    "print(\"label:\", label)\n",
    "\n",
    "# loss 与普通的 layer 无差异\n",
    "criterion = nn.CrossEntropyLoss()\n",
    "loss = criterion(score, label)\n",
    "loss"
   ]
  },
  {
   "cell_type": "markdown",
   "metadata": {
    "id": "tUfQoTnVxg_8"
   },
   "source": [
    "本小节对 nn 中的常用模块进行了详细的介绍, 利用这些模块读者便可以快速地搭建神经网络. 读者在使用这些模块时应当注意每一个 module 所包含的参数和输入、输出的形状及含义, 从而避免一些不必要的错误."
   ]
  },
  {
   "cell_type": "markdown",
   "metadata": {
    "id": "5nc1wGGyxg_8"
   },
   "source": [
    "## 4.3 nn.functional\n",
    "\n",
    "`torch.nn` 中还有一个很常用的模块: `nn.functional`. `torch.nn` 中的大多数 layer, 在 `functional` 中都有一个与之相对应的函数. `nn.functional` 中的函数和 `nn.Module` 的主要区别在于, 用 `nn.Module` 实现的 layers 是一个特殊的类, 都是由 `class layer(nn.Module)` 定义, 会自动提取可学习的参数; 而 `nn.functional` 中的函数更像是纯函数, 由`def function(input)` 定义. 下面将举例说明 functional 的使用, 并对比二者的不同之处."
   ]
  },
  {
   "cell_type": "markdown",
   "metadata": {
    "id": "aX94vqLoxg_8"
   },
   "source": [
    "### 4.3.1 与 nn.module 的区别"
   ]
  },
  {
   "cell_type": "code",
   "execution_count": 60,
   "metadata": {
    "colab": {
     "base_uri": "https://localhost:8080/"
    },
    "id": "ooborpSYxg_8",
    "outputId": "e7f69d93-3a8d-4b99-becd-5edf581259af"
   },
   "outputs": [
    {
     "data": {
      "text/plain": [
       "tensor([[True, True, True, True],\n",
       "        [True, True, True, True]])"
      ]
     },
     "execution_count": 60,
     "metadata": {},
     "output_type": "execute_result"
    }
   ],
   "source": [
    "input = t.randn(2, 3)\n",
    "model = nn.Linear(3, 4)\n",
    "output1 = model(input)\n",
    "output2 = nn.functional.linear(input, model.weight, model.bias)\n",
    "output1 == output2"
   ]
  },
  {
   "cell_type": "code",
   "execution_count": 61,
   "metadata": {
    "colab": {
     "base_uri": "https://localhost:8080/"
    },
    "id": "2kmj6mB6xg_8",
    "outputId": "7cf366ae-b817-437b-b3d9-4a08018516da"
   },
   "outputs": [
    {
     "data": {
      "text/plain": [
       "tensor([[True, True, True],\n",
       "        [True, True, True]])"
      ]
     },
     "execution_count": 61,
     "metadata": {},
     "output_type": "execute_result"
    }
   ],
   "source": [
    "b = nn.functional.relu(input)\n",
    "b2 = nn.ReLU()(input)\n",
    "b == b2"
   ]
  },
  {
   "cell_type": "markdown",
   "metadata": {
    "id": "jcKyzeHRxg_8"
   },
   "source": [
    "此时读者可能会问, 应该什么时候使用 `nn.Module`, 什么时候使用 `nn.functional` 呢? 答案很简单, 如果模型有可学习的参数, 最好用 `nn.Module`, 否则既可以使用 `nn.functional` 也可以使用 `nn.Module`, 二者在性能上没有太大差异, 具体的使用取决于个人的喜好. 由于激活函数(`ReLU`、`sigmoid`、`tanh`)、池化(MaxPool)等层没有可学习参数, 可以使用对应的 functional 函数代替; 而卷积、全连接等具有可学习参数的网络建议使用 `nn.Module`. 另外虽然 dropout 操作也没有可学习参数, 但建议还是使用 `nn.Dropout` 而不是 `nn.functional.dropout`, 因为 dropout 在训练和测试两个阶段的行为有所差别, 使用 `nn.Module` 对象能够通过 `model.eval` 操作加以区分. 下面将举例说明如何在模型中搭配使用 `nn.Module` 和 `nn.functional`."
   ]
  },
  {
   "cell_type": "code",
   "execution_count": 66,
   "metadata": {
    "id": "jnu3RpDRxg_8"
   },
   "outputs": [
    {
     "name": "stdout",
     "output_type": "stream",
     "text": [
      "model: Net(\n",
      "  (conv1): Conv2d(3, 6, kernel_size=(5, 5), stride=(1, 1))\n",
      "  (conv2): Conv2d(6, 16, kernel_size=(5, 5), stride=(1, 1))\n",
      "  (fc1): Linear(in_features=400, out_features=120, bias=True)\n",
      "  (fc2): Linear(in_features=120, out_features=84, bias=True)\n",
      "  (fc3): Linear(in_features=84, out_features=10, bias=True)\n",
      ")\n",
      "model._parameters: OrderedDict()\n",
      "model._modules: OrderedDict([('conv1', Conv2d(3, 6, kernel_size=(5, 5), stride=(1, 1))), ('conv2', Conv2d(6, 16, kernel_size=(5, 5), stride=(1, 1))), ('fc1', Linear(in_features=400, out_features=120, bias=True)), ('fc2', Linear(in_features=120, out_features=84, bias=True)), ('fc3', Linear(in_features=84, out_features=10, bias=True))])\n",
      "model._buffers: OrderedDict()\n",
      "model._backward_hooks: OrderedDict()\n",
      "model._forward_hooks: OrderedDict()\n",
      "model.training: True\n",
      "model.__dict__: {'training': True, '_parameters': OrderedDict(), '_buffers': OrderedDict(), '_non_persistent_buffers_set': set(), '_backward_pre_hooks': OrderedDict(), '_backward_hooks': OrderedDict(), '_is_full_backward_hook': None, '_forward_hooks': OrderedDict(), '_forward_hooks_with_kwargs': OrderedDict(), '_forward_hooks_always_called': OrderedDict(), '_forward_pre_hooks': OrderedDict(), '_forward_pre_hooks_with_kwargs': OrderedDict(), '_state_dict_hooks': OrderedDict(), '_state_dict_pre_hooks': OrderedDict(), '_load_state_dict_pre_hooks': OrderedDict(), '_load_state_dict_post_hooks': OrderedDict(), '_modules': OrderedDict([('conv1', Conv2d(3, 6, kernel_size=(5, 5), stride=(1, 1))), ('conv2', Conv2d(6, 16, kernel_size=(5, 5), stride=(1, 1))), ('fc1', Linear(in_features=400, out_features=120, bias=True)), ('fc2', Linear(in_features=120, out_features=84, bias=True)), ('fc3', Linear(in_features=84, out_features=10, bias=True))])}\n"
     ]
    }
   ],
   "source": [
    "from torch.nn import functional as F\n",
    "\n",
    "\n",
    "class Net(nn.Module):\n",
    "    def __init__(self):\n",
    "        super(Net, self).__init__()\n",
    "        self.conv1 = nn.Conv2d(3, 6, 5)\n",
    "        self.conv2 = nn.Conv2d(6, 16, 5)\n",
    "        self.fc1 = nn.Linear(16 * 5 * 5, 120)\n",
    "        self.fc2 = nn.Linear(120, 84)\n",
    "        self.fc3 = nn.Linear(84, 10)\n",
    "\n",
    "    def forward(self, x):\n",
    "        x = F.pool(F.relu(self.conv1(x)), 2)\n",
    "        x = F.pool(F.relu(self.conv2(x)), 2)\n",
    "        x = x.view(-1, 16 * 5 * 5)\n",
    "        x = F.relu(self.fc1(x))\n",
    "        x = F.relu(self.fc2(x))\n",
    "        x = self.fc3(x)\n",
    "        return x\n",
    "\n",
    "\n",
    "model = Net()\n",
    "print(\"model:\", model)\n",
    "print(\"model._parameters:\", model._parameters)\n",
    "print(\"model._modules:\", model._modules)\n",
    "print(\"model._buffers:\", model._buffers)\n",
    "print(\"model._backward_hooks:\", model._backward_hooks)\n",
    "print(\"model._forward_hooks:\", model._forward_hooks)\n",
    "print(\"model.training:\", model.training)\n",
    "print(\"model.__dict__:\", model.__dict__)"
   ]
  },
  {
   "cell_type": "markdown",
   "metadata": {
    "id": "N7QW_JWOxg_9"
   },
   "source": [
    "对于不具备可学习参数的层(激活层、池化层等), 将它们用函数代替, 这样可以不用放置在构造函数 `__init__` 中. 而对于有可学习参数的模块, 也可以用 functional 代替, 只不过实现起来较为繁琐, 这是因为我们需要手动定义参数 parameter, 如下文自定义实现的全连接层 `MyLinear`, 它需要将 weight 和 bias 两个参数单独拿出来, 在构造函数中初始化为 parameter."
   ]
  },
  {
   "cell_type": "code",
   "execution_count": 69,
   "metadata": {
    "id": "JUQH-vMsxg_9"
   },
   "outputs": [
    {
     "name": "stdout",
     "output_type": "stream",
     "text": [
      "model: MyLinear()\n",
      "model._parameters: OrderedDict([('weight', Parameter containing:\n",
      "tensor([[-0.5944,  1.3759, -0.1351, -0.0746],\n",
      "        [ 0.5213, -0.1982, -0.8121,  0.9569],\n",
      "        [-0.7358, -0.5140,  0.2562, -0.0492]], requires_grad=True)), ('bias', Parameter containing:\n",
      "tensor([0., 0., 0.], requires_grad=True))])\n",
      "model._modules: OrderedDict()\n",
      "model._buffers: OrderedDict()\n",
      "model._backward_hooks: OrderedDict()\n",
      "model._forward_hooks: OrderedDict()\n",
      "model.training: True\n",
      "model.__dict__: {'training': True, '_parameters': OrderedDict([('weight', Parameter containing:\n",
      "tensor([[-0.5944,  1.3759, -0.1351, -0.0746],\n",
      "        [ 0.5213, -0.1982, -0.8121,  0.9569],\n",
      "        [-0.7358, -0.5140,  0.2562, -0.0492]], requires_grad=True)), ('bias', Parameter containing:\n",
      "tensor([0., 0., 0.], requires_grad=True))]), '_buffers': OrderedDict(), '_non_persistent_buffers_set': set(), '_backward_pre_hooks': OrderedDict(), '_backward_hooks': OrderedDict(), '_is_full_backward_hook': None, '_forward_hooks': OrderedDict(), '_forward_hooks_with_kwargs': OrderedDict(), '_forward_hooks_always_called': OrderedDict(), '_forward_pre_hooks': OrderedDict(), '_forward_pre_hooks_with_kwargs': OrderedDict(), '_state_dict_hooks': OrderedDict(), '_state_dict_pre_hooks': OrderedDict(), '_load_state_dict_pre_hooks': OrderedDict(), '_load_state_dict_post_hooks': OrderedDict(), '_modules': OrderedDict()}\n"
     ]
    }
   ],
   "source": [
    "class MyLinear(nn.Module):\n",
    "    def __init__(self):\n",
    "        super(MyLinear, self).__init__()\n",
    "        self.weight = nn.Parameter(t.randn(3, 4))\n",
    "        self.bias = nn.Parameter(t.zeros(3))\n",
    "\n",
    "    def forward(self, input):\n",
    "        return F.linear(input, weight, bias)\n",
    "\n",
    "\n",
    "model = MyLinear()\n",
    "print(\"model:\", model)\n",
    "print(\"model._parameters:\", model._parameters)\n",
    "print(\"model._modules:\", model._modules)\n",
    "print(\"model._buffers:\", model._buffers)\n",
    "print(\"model._backward_hooks:\", model._backward_hooks)\n",
    "print(\"model._forward_hooks:\", model._forward_hooks)\n",
    "print(\"model.training:\", model.training)\n",
    "print(\"model.__dict__:\", model.__dict__)"
   ]
  },
  {
   "cell_type": "markdown",
   "metadata": {
    "id": "4HpRVa_pxg_9"
   },
   "source": [
    "关于 nn.functional 的设计初衷, 以及它和 nn.Module 更多的比较说明, 读者可参看 PyTorch 中论坛的相关讨论和说明."
   ]
  },
  {
   "cell_type": "markdown",
   "metadata": {
    "id": "tHCTC-3gxg_9"
   },
   "source": [
    "### 4.3.2 采样函数\n",
    "\n",
    "在 `nn.functional` 中还有一个常用的函数: 采样函数 `torch.nn.functional.grid_sample`, 它的主要作用是对输入的 Tensor 进行双线性采样, 并让输出变换为我们想要的形状. 这里我们用 lena 来进行举例说明."
   ]
  },
  {
   "cell_type": "code",
   "execution_count": 75,
   "metadata": {
    "colab": {
     "base_uri": "https://localhost:8080/",
     "height": 217
    },
    "id": "UMWxU9s5xg_9",
    "outputId": "73f798d7-cd4c-4ab8-d793-6195ad1a800a"
   },
   "outputs": [
    {
     "name": "stdout",
     "output_type": "stream",
     "text": [
      "tensor([[[[0.6353, 0.6314, 0.6314,  ..., 0.6118, 0.6667, 0.5922],\n",
      "          [0.6353, 0.6314, 0.6314,  ..., 0.6078, 0.6510, 0.5647],\n",
      "          [0.6275, 0.6235, 0.6235,  ..., 0.4824, 0.4157, 0.3098],\n",
      "          ...,\n",
      "          [0.1961, 0.2078, 0.2078,  ..., 0.2510, 0.3098, 0.3412],\n",
      "          [0.1922, 0.2000, 0.2039,  ..., 0.3098, 0.3686, 0.3804],\n",
      "          [0.1843, 0.2078, 0.1961,  ..., 0.3569, 0.3961, 0.4078]]]])\n",
      "torch.Size([1, 1, 200, 200])\n",
      "tensor([[[[0.6353, 0.6314, 0.6314,  ..., 0.6118, 0.6667, 0.5922],\n",
      "          [0.6353, 0.6314, 0.6314,  ..., 0.6078, 0.6510, 0.5647],\n",
      "          [0.6275, 0.6235, 0.6235,  ..., 0.4824, 0.4157, 0.3098],\n",
      "          ...,\n",
      "          [0.1961, 0.2078, 0.2078,  ..., 0.2510, 0.3098, 0.3412],\n",
      "          [0.1922, 0.2000, 0.2039,  ..., 0.3098, 0.3686, 0.3804],\n",
      "          [0.1843, 0.2078, 0.1961,  ..., 0.3569, 0.3961, 0.4078]]]])\n",
      "torch.Size([1, 1, 200, 200])\n",
      "tensor([[[[True, True, True,  ..., True, True, True],\n",
      "          [True, True, True,  ..., True, True, True],\n",
      "          [True, True, True,  ..., True, True, True],\n",
      "          ...,\n",
      "          [True, True, True,  ..., True, True, True],\n",
      "          [True, True, True,  ..., True, True, True],\n",
      "          [True, True, True,  ..., True, True, True]]]])\n",
      "torch.Size([1, 200, 200])\n"
     ]
    },
    {
     "data": {
      "image/jpeg": "[encoded data removed]",
      "image/png": "[encoded data removed]",
      "text/plain": [
       "<PIL.Image.Image image mode=L size=200x200>"
      ]
     },
     "execution_count": 75,
     "metadata": {},
     "output_type": "execute_result"
    }
   ],
   "source": [
    "print(lena)\n",
    "print(lena.size())\n",
    "print(lena.data)\n",
    "print(lena.data.size())\n",
    "print(lena == lena.data)\n",
    "print(lena.data.squeeze(0).size())\n",
    "to_pil(lena.data.squeeze(0))  # 原始的 lena 数据"
   ]
  },
  {
   "cell_type": "code",
   "execution_count": 76,
   "metadata": {
    "id": "ak5i_pA3xg_9"
   },
   "outputs": [],
   "source": [
    "# lena 的形状是 1 x 1 x 200 x 200, (N, C, Hin, Win)\n",
    "w = 400  # 准备将图像放大至 400\n",
    "# 得到 400 x 400 的介于 [-1, 1] 之间的均匀分布张量\n",
    "h_out = t.linspace(-1, 1, w).view(-1, 1).repeat(1, w)\n",
    "w_out = t.linspace(-1, 1, w).repeat(w, 1)\n",
    "\n",
    "grid = t.cat((w_out.unsqueeze(2), h_out.unsqueeze(2)), dim=2)\n",
    "\n",
    "# grid 形状为 (N, Hout, Wout, 2)\n",
    "# grid 最后一个维度大小为 2, 表示输入中 pixel 的位置信息, 取值范围在 (-1, 1)\n",
    "grid = grid.unsqueeze(0)"
   ]
  },
  {
   "cell_type": "code",
   "execution_count": 78,
   "metadata": {
    "colab": {
     "base_uri": "https://localhost:8080/",
     "height": 417
    },
    "id": "616Nz4Nexg_9",
    "outputId": "88048acb-a210-41e0-fbc4-c7464aa6cc5c"
   },
   "outputs": [
    {
     "data": {
      "image/jpeg": "[encoded data removed]",
      "image/png": "[encoded data removed]",
      "text/plain": [
       "<PIL.Image.Image image mode=L size=400x400>"
      ]
     },
     "execution_count": 78,
     "metadata": {},
     "output_type": "execute_result"
    }
   ],
   "source": [
    "import torch\n",
    "from torch.nn import functional as F\n",
    "import warnings\n",
    "\n",
    "warnings.filterwarnings(\"ignore\")\n",
    "\n",
    "out = F.grid_sample(lena, grid=grid, mode=\"bilinear\")\n",
    "to_pil(out.data.squeeze(0))"
   ]
  },
  {
   "cell_type": "markdown",
   "metadata": {
    "id": "UQmrRhcJxg_-"
   },
   "source": [
    "## 4.4 初始化策略\n",
    "\n",
    "在深度学习中参数的初始化十分重要, 良好的初始化能让模型更快地收敛, 并达到更高水平, 而糟糕的初始化则可能使得模型迅速崩溃. PyTorch 中 `nn.Module` 的模块参数都采取了较为合理的初始化策略, 因此一般不用我们考虑. 当然我们也可以用自定义初始化来代替系统的默认初始化. 而当我们在使用 Parameter 时, 自定义初始化则尤为重要, 这是因为 torch.Tensor() 返回的是内存中的随机数, 很可能会有极大值, 这在实际训练网络中会造成溢出或者梯度消失. PyTorch 中 `nn.init` 模块就是专门为初始化而设计的一个模块, 其中实现了常用的初始化策略. 如果某种初始化策略 `nn.init` 不提供, 用户也可以自己直接初始化."
   ]
  },
  {
   "cell_type": "code",
   "execution_count": 83,
   "metadata": {
    "colab": {
     "base_uri": "https://localhost:8080/"
    },
    "id": "umc-A3Ktxg_-",
    "outputId": "8a6f5040-198e-4184-ba6d-fcb3241de905"
   },
   "outputs": [
    {
     "name": "stdout",
     "output_type": "stream",
     "text": [
      "Parameter containing:\n",
      "tensor([[-0.1462, -0.5296,  0.3911],\n",
      "        [-0.5076, -0.3727, -0.1962],\n",
      "        [ 0.2145,  0.2263,  0.3814],\n",
      "        [ 0.0249,  0.2815,  0.3798]], requires_grad=True)\n"
     ]
    },
    {
     "data": {
      "text/plain": [
       "Parameter containing:\n",
       "tensor([[ 1.2225,  0.3428, -0.4605],\n",
       "        [-0.1951, -0.3705,  0.4823],\n",
       "        [-1.4530, -0.7739,  0.3334],\n",
       "        [ 0.2577, -1.2324,  0.4905]], requires_grad=True)"
      ]
     },
     "execution_count": 83,
     "metadata": {},
     "output_type": "execute_result"
    }
   ],
   "source": [
    "# 利用 nn.init 初始化\n",
    "from torch.nn import init\n",
    "\n",
    "linear = nn.Linear(3, 4)\n",
    "print(linear.weight)\n",
    "\n",
    "t.manual_seed(2021)\n",
    "\n",
    "init.xavier_normal_(linear.weight)"
   ]
  },
  {
   "cell_type": "code",
   "execution_count": 84,
   "metadata": {
    "colab": {
     "base_uri": "https://localhost:8080/"
    },
    "id": "tFSadh6rxg_-",
    "outputId": "97a83827-1160-43cc-d9f4-52f6ed5ad1e5"
   },
   "outputs": [
    {
     "data": {
      "text/plain": [
       "tensor([[ 1.2225,  0.3428, -0.4605],\n",
       "        [-0.1951, -0.3705,  0.4823],\n",
       "        [-1.4530, -0.7739,  0.3334],\n",
       "        [ 0.2577, -1.2324,  0.4905]])"
      ]
     },
     "execution_count": 84,
     "metadata": {},
     "output_type": "execute_result"
    }
   ],
   "source": [
    "# 利用公式, 直接初始化\n",
    "import math\n",
    "\n",
    "t.manual_seed(2021)\n",
    "\n",
    "# xavier 初始化的计算公式\n",
    "std = math.sqrt(2) / math.sqrt(7.0)\n",
    "linear.weight.data.normal_(0, std)"
   ]
  },
  {
   "cell_type": "code",
   "execution_count": 85,
   "metadata": {
    "id": "ZqxSgnx1xg_-"
   },
   "outputs": [],
   "source": [
    "# 对模型的所有参数进行初始化\n",
    "net = Net()\n",
    "for name, params in net.named_parameters():\n",
    "    if name.find(\"linear\") != -1:\n",
    "        # init linear\n",
    "        params[0]  # weight\n",
    "        params[1]  # bias\n",
    "    elif name.find(\"conv\") != -1:\n",
    "        pass\n",
    "    elif name.find(\"norm\") != -1:\n",
    "        pass"
   ]
  },
  {
   "cell_type": "markdown",
   "metadata": {
    "id": "j4FR2v8nxg_-"
   },
   "source": [
    "## 4.5 优化器\n",
    "\n",
    "PyTorch 将深度学习中常用的优化方法全部封装在 `torch.optim` 中, 其设计十分灵活, 能够很方便地扩展成自定义的优化方法.\n",
    "\n",
    "所有的优化方法都是继承基类 `optim.Optimizer`, 并实现了自己的优化步骤. 下面就以最基本的优化方法——随机梯度下降法(SGD)举例说明. 这里需要重点掌握:\n",
    "\n",
    "1. 优化方法的基本使用方法\n",
    "\n",
    "2. 如何对模型的不同部分设置不同的学习率\n",
    "\n",
    "3. 如何调整学习率."
   ]
  },
  {
   "cell_type": "code",
   "execution_count": 91,
   "metadata": {
    "id": "IVfJl4lTxg_-"
   },
   "outputs": [
    {
     "name": "stdout",
     "output_type": "stream",
     "text": [
      "layer1.w Parameter containing:\n",
      "tensor([[ 0.3442,  0.0862, -1.0815, -1.4642],\n",
      "        [-0.9875, -0.6719,  1.3694,  1.1286],\n",
      "        [-1.3007, -0.2235,  0.3119, -1.0006]], requires_grad=True)\n",
      "layer1.b Parameter containing:\n",
      "tensor([-0.7277,  0.2880,  0.3517,  1.1309], requires_grad=True)\n",
      "layer2.w Parameter containing:\n",
      "tensor([[ 0.6224],\n",
      "        [-0.8230],\n",
      "        [ 2.5361],\n",
      "        [ 0.4888]], requires_grad=True)\n",
      "layer2.b Parameter containing:\n",
      "tensor([-0.7849], requires_grad=True)\n"
     ]
    }
   ],
   "source": [
    "# 以本章 4.1 节的感知器为例\n",
    "class Perceptron(nn.Module):\n",
    "    def __init__(self, in_features, hidden_features, out_features):\n",
    "        super(Perceptron, self).__init__()\n",
    "        # 此处的 Linear 是前面自定义的全连接层\n",
    "        self.layer1 = Linear(in_features, hidden_features)\n",
    "        self.layer2 = Linear(hidden_features, out_features)\n",
    "\n",
    "    def forward(self, x):\n",
    "        x = self.layer1(x)\n",
    "        x = t.sigmoid(x)\n",
    "        return self.layer2(x)\n",
    "\n",
    "\n",
    "net = Perceptron(3, 4, 1)\n",
    "\n",
    "for name, param in net.named_parameters():\n",
    "    print(name, param)"
   ]
  },
  {
   "cell_type": "code",
   "execution_count": 92,
   "metadata": {
    "id": "xSrR-ozSxg_-"
   },
   "outputs": [
    {
     "name": "stdout",
     "output_type": "stream",
     "text": [
      "layer1.w Parameter containing:\n",
      "tensor([[ 1.4052, -3.3755,  1.6308, -0.9749],\n",
      "        [-2.0446,  2.2990, -1.3834,  0.5876],\n",
      "        [-0.6564,  0.8133,  0.9629, -1.8090]], requires_grad=True)\n",
      "layer1.b Parameter containing:\n",
      "tensor([-2.5167,  4.8613, -8.5671,  0.1335], requires_grad=True)\n",
      "layer2.w Parameter containing:\n",
      "tensor([[ -3.7034],\n",
      "        [-10.8462],\n",
      "        [-17.8969],\n",
      "        [-21.1537]], requires_grad=True)\n",
      "layer2.b Parameter containing:\n",
      "tensor([-24.4299], requires_grad=True)\n"
     ]
    }
   ],
   "source": [
    "from torch import optim\n",
    "\n",
    "optimizer = optim.SGD(params=net.parameters(), lr=1)\n",
    "optimizer.zero_grad()  # 梯度清零, 等价于 net.zero_grad()\n",
    "\n",
    "input = t.randn(32, 3)\n",
    "output = net(input)\n",
    "output.backward(output)  # fake backward\n",
    "\n",
    "optimizer.step()  # 执行优化\n",
    "for name, param in net.named_parameters():\n",
    "    print(name, param)"
   ]
  },
  {
   "cell_type": "code",
   "execution_count": 93,
   "metadata": {
    "colab": {
     "base_uri": "https://localhost:8080/"
    },
    "id": "rgZ_zBfGxg__",
    "outputId": "29641def-ea4d-4e61-e0ba-783903458079",
    "scrolled": true
   },
   "outputs": [
    {
     "data": {
      "text/plain": [
       "SGD (\n",
       "Parameter Group 0\n",
       "    dampening: 0\n",
       "    differentiable: False\n",
       "    foreach: None\n",
       "    fused: None\n",
       "    lr: 1e-05\n",
       "    maximize: False\n",
       "    momentum: 0\n",
       "    nesterov: False\n",
       "    weight_decay: 0\n",
       "\n",
       "Parameter Group 1\n",
       "    dampening: 0\n",
       "    differentiable: False\n",
       "    foreach: None\n",
       "    fused: None\n",
       "    lr: 0.01\n",
       "    maximize: False\n",
       "    momentum: 0\n",
       "    nesterov: False\n",
       "    weight_decay: 0\n",
       ")"
      ]
     },
     "execution_count": 93,
     "metadata": {},
     "output_type": "execute_result"
    }
   ],
   "source": [
    "# 对模型的不同部分设置不同的学习率\n",
    "weight_params = [param for name, param in net.named_parameters() if name.endswith(\".w\")]\n",
    "bias_params = [param for name, param in net.named_parameters() if name.endswith(\".b\")]\n",
    "\n",
    "optimizer = optim.SGD(\n",
    "    [{\"params\": bias_params}, {\"params\": weight_params, \"lr\": 1e-2}], lr=1e-5\n",
    ")\n",
    "optimizer"
   ]
  },
  {
   "cell_type": "code",
   "execution_count": 94,
   "metadata": {
    "colab": {
     "base_uri": "https://localhost:8080/"
    },
    "id": "F2SG-mMwxg__",
    "outputId": "4a3de280-2844-48b1-cba0-29a1ba6e427c"
   },
   "outputs": [
    {
     "data": {
      "text/plain": [
       "SGD (\n",
       "Parameter Group 0\n",
       "    dampening: 0\n",
       "    differentiable: False\n",
       "    foreach: None\n",
       "    fused: None\n",
       "    lr: 0.001\n",
       "    maximize: False\n",
       "    momentum: 0\n",
       "    nesterov: False\n",
       "    weight_decay: 0\n",
       "\n",
       "Parameter Group 1\n",
       "    dampening: 0\n",
       "    differentiable: False\n",
       "    foreach: None\n",
       "    fused: None\n",
       "    lr: 0.01\n",
       "    maximize: False\n",
       "    momentum: 0\n",
       "    nesterov: False\n",
       "    weight_decay: 0\n",
       ")"
      ]
     },
     "execution_count": 94,
     "metadata": {},
     "output_type": "execute_result"
    }
   ],
   "source": [
    "# 只为第一个全连接层设置较大的学习率, 其余层的学习率较小\n",
    "special_layers = nn.ModuleList([net.layer1])\n",
    "special_layers_params = list(map(id, special_layers.parameters()))\n",
    "base_params = [\n",
    "    param for param in net.parameters() if id(param) not in special_layers_params\n",
    "]\n",
    "optimizer = t.optim.SGD(\n",
    "    [{\"params\": base_params}, {\"params\": special_layers.parameters(), \"lr\": 0.01}],\n",
    "    lr=0.001,\n",
    ")\n",
    "optimizer"
   ]
  },
  {
   "cell_type": "markdown",
   "metadata": {
    "id": "wkRMD_cOxg__"
   },
   "source": [
    "调整学习率主要有两种做法:\n",
    "\n",
    "1. 修改 optimizer.param_groups 中对应的学习率\n",
    "\n",
    "2. 新建一个优化器.\n",
    "\n",
    "相比之下笔者更加推荐第二种做法, 这是因为 optimizer 一般构建开销很小, 故而可以构建新的 optimizer. 但是新建优化器会重新初始化动量等状态信息, 这对于使用动量的优化器(如Adam), 可能会造成损失函数在收敛过程中出现震荡等情况."
   ]
  },
  {
   "cell_type": "code",
   "execution_count": 95,
   "metadata": {
    "colab": {
     "base_uri": "https://localhost:8080/"
    },
    "id": "jAaLsmzjxg__",
    "outputId": "a3cd0c13-be37-4b62-de2c-807aa0ce129a"
   },
   "outputs": [
    {
     "data": {
      "text/plain": [
       "SGD (\n",
       "Parameter Group 0\n",
       "    dampening: 0\n",
       "    differentiable: False\n",
       "    foreach: None\n",
       "    fused: None\n",
       "    lr: 1e-05\n",
       "    maximize: False\n",
       "    momentum: 0\n",
       "    nesterov: False\n",
       "    weight_decay: 0\n",
       "\n",
       "Parameter Group 1\n",
       "    dampening: 0\n",
       "    differentiable: False\n",
       "    foreach: None\n",
       "    fused: None\n",
       "    lr: 0.010000000000000002\n",
       "    maximize: False\n",
       "    momentum: 0\n",
       "    nesterov: False\n",
       "    weight_decay: 0\n",
       ")"
      ]
     },
     "execution_count": 95,
     "metadata": {},
     "output_type": "execute_result"
    }
   ],
   "source": [
    "# 调整学习率, 新建一个 optimizer\n",
    "old_lr = 0.1\n",
    "optimizer1 = optim.SGD(\n",
    "    [{\"params\": bias_params}, {\"params\": weight_params, \"lr\": old_lr * 0.1}], lr=1e-5\n",
    ")\n",
    "optimizer1"
   ]
  },
  {
   "cell_type": "code",
   "execution_count": 57,
   "metadata": {
    "colab": {
     "base_uri": "https://localhost:8080/"
    },
    "id": "DjsObQjSxg__",
    "outputId": "08f9b141-8035-4953-fc96-6dd5658b95b2"
   },
   "outputs": [
    {
     "data": {
      "text/plain": [
       "SGD (\n",
       "Parameter Group 0\n",
       "    dampening: 0\n",
       "    differentiable: False\n",
       "    foreach: None\n",
       "    fused: None\n",
       "    lr: 1e-05\n",
       "    maximize: False\n",
       "    momentum: 0\n",
       "    nesterov: False\n",
       "    weight_decay: 0\n",
       "\n",
       "Parameter Group 1\n",
       "    dampening: 0\n",
       "    differentiable: False\n",
       "    foreach: None\n",
       "    fused: None\n",
       "    lr: 0.0001\n",
       "    maximize: False\n",
       "    momentum: 0\n",
       "    nesterov: False\n",
       "    weight_decay: 0\n",
       ")"
      ]
     },
     "execution_count": 57,
     "metadata": {},
     "output_type": "execute_result"
    }
   ],
   "source": [
    "# 调整学习率, 手动 decay, 保存动量\n",
    "for param_group in optimizer.param_groups:\n",
    "    param_group[\"lr\"] *= 0.1  # 学习率为之前的 0.1 倍\n",
    "optimizer"
   ]
  },
  {
   "cell_type": "markdown",
   "metadata": {
    "id": "6Rfmgtuxxg__"
   },
   "source": [
    "## 4.6 nn.Module 深入分析\n",
    "\n",
    "如果想要更深入地理解 nn.Module, 研究其原理是很有必要的. 首先来看看 nn.Module 基类的构造函数:\n",
    "\n",
    "```python\n",
    "def __init__(self):\n",
    "    self._parameters = OrderedDict()\n",
    "    self._modules = OrderedDict()\n",
    "    self._buffers = OrderedDict()\n",
    "    self._backward_hooks = OrderedDict()\n",
    "    self._forward_hooks = OrderedDict()\n",
    "    self.training = True\n",
    "    # python 默认还有一个 __dict__ 属性\n",
    "```\n",
    "\n",
    "其中:\n",
    "\n",
    "- `_parameters`: 字典, 保存用户直接设置的 parameter. 例如 `self.param1 = nn.Parameter(t.randn(3, 3))` 会被检测到, 在字典中加入一个 key 为 param, value 为对应 parameter 的 item. 而 self.submodule = nn.Linear(3, 4) 中的 parameter 则不会存于此\n",
    "\n",
    "- `_modules`: 子 module, 例如通过 `self.submodel = nn.Linear(3, 4)` 指定的子 module 会保存于此\n",
    "\n",
    "- `_buffers`: 缓存. 例如 BatchNorm 使用 Momentum 机制, 每次前向传播需用到上一次前向传播的结果\n",
    "\n",
    "- `_backward_hooks` 与 `_forward_hooks`: 钩子技术, 用来提取中间变量\n",
    "\n",
    "- `training`: BatchNorm 与 Dropout 层在训练阶段和测试阶段中采取的策略不同, 通过判断 training 值来决定前向传播策略.\n",
    "\n",
    "上述几个属性中, `_parameters`、`_modules` 和 `_buffers` 这三个字典中的键值, 都可以通过 `self.key` 方式获得, 效果等价于 `self._parameters['key']`, 下面将举例说明."
   ]
  },
  {
   "cell_type": "code",
   "execution_count": 96,
   "metadata": {
    "colab": {
     "base_uri": "https://localhost:8080/"
    },
    "id": "GwPfVTLlxhAA",
    "outputId": "5af93fc6-0d71-4be0-c457-994b1ea93f37"
   },
   "outputs": [
    {
     "name": "stdout",
     "output_type": "stream",
     "text": [
      "net: Net(\n",
      "  (submodel1): Linear(in_features=3, out_features=4, bias=True)\n",
      ")\n",
      "net._parameters: OrderedDict([('param1', Parameter containing:\n",
      "tensor([[0.8919, 0.3783, 0.2719],\n",
      "        [0.6543, 0.3218, 0.6907],\n",
      "        [0.5306, 0.3943, 0.8600]], requires_grad=True))])\n",
      "net._modules: OrderedDict([('submodel1', Linear(in_features=3, out_features=4, bias=True))])\n",
      "net._buffers: OrderedDict()\n",
      "net._backward_hooks: OrderedDict()\n",
      "net._forward_hooks: OrderedDict()\n",
      "net.training: True\n",
      "net.__dict__: {'training': True, '_parameters': OrderedDict([('param1', Parameter containing:\n",
      "tensor([[0.8919, 0.3783, 0.2719],\n",
      "        [0.6543, 0.3218, 0.6907],\n",
      "        [0.5306, 0.3943, 0.8600]], requires_grad=True))]), '_buffers': OrderedDict(), '_non_persistent_buffers_set': set(), '_backward_pre_hooks': OrderedDict(), '_backward_hooks': OrderedDict(), '_is_full_backward_hook': None, '_forward_hooks': OrderedDict(), '_forward_hooks_with_kwargs': OrderedDict(), '_forward_hooks_always_called': OrderedDict(), '_forward_pre_hooks': OrderedDict(), '_forward_pre_hooks_with_kwargs': OrderedDict(), '_state_dict_hooks': OrderedDict(), '_state_dict_pre_hooks': OrderedDict(), '_load_state_dict_pre_hooks': OrderedDict(), '_load_state_dict_post_hooks': OrderedDict(), '_modules': OrderedDict([('submodel1', Linear(in_features=3, out_features=4, bias=True))])}\n",
      "\n",
      "net.submodel1._parameters: OrderedDict([('weight', Parameter containing:\n",
      "tensor([[ 0.4979, -0.0204, -0.2100],\n",
      "        [-0.2074, -0.3614,  0.1969],\n",
      "        [ 0.4540, -0.3989, -0.0173],\n",
      "        [-0.5773,  0.5430,  0.0299]], requires_grad=True)), ('bias', Parameter containing:\n",
      "tensor([0.3539, 0.5452, 0.3932, 0.4434], requires_grad=True))])\n",
      "net.submodel1._modules: OrderedDict()\n",
      "net.submodel1._buffers: OrderedDict()\n",
      "net.submodel1._backward_hooks: OrderedDict()\n",
      "net.submodel1._forward_hooks: OrderedDict()\n",
      "net.submodel1.training: True\n",
      "net.submodel1.__dict__: {'training': True, '_parameters': OrderedDict([('weight', Parameter containing:\n",
      "tensor([[ 0.4979, -0.0204, -0.2100],\n",
      "        [-0.2074, -0.3614,  0.1969],\n",
      "        [ 0.4540, -0.3989, -0.0173],\n",
      "        [-0.5773,  0.5430,  0.0299]], requires_grad=True)), ('bias', Parameter containing:\n",
      "tensor([0.3539, 0.5452, 0.3932, 0.4434], requires_grad=True))]), '_buffers': OrderedDict(), '_non_persistent_buffers_set': set(), '_backward_pre_hooks': OrderedDict(), '_backward_hooks': OrderedDict(), '_is_full_backward_hook': None, '_forward_hooks': OrderedDict(), '_forward_hooks_with_kwargs': OrderedDict(), '_forward_hooks_always_called': OrderedDict(), '_forward_pre_hooks': OrderedDict(), '_forward_pre_hooks_with_kwargs': OrderedDict(), '_state_dict_hooks': OrderedDict(), '_state_dict_pre_hooks': OrderedDict(), '_load_state_dict_pre_hooks': OrderedDict(), '_load_state_dict_post_hooks': OrderedDict(), '_modules': OrderedDict(), 'in_features': 3, 'out_features': 4}\n"
     ]
    }
   ],
   "source": [
    "class Net(nn.Module):\n",
    "    def __init__(self):\n",
    "        super(Net, self).__init__()\n",
    "        # 等价与 self.register_parameter('param1' ,nn.Parameter(t.randn(3, 3)))\n",
    "        self.param1 = nn.Parameter(t.rand(3, 3))\n",
    "        self.submodel1 = nn.Linear(3, 4)\n",
    "\n",
    "    def forward(self, input):\n",
    "        x = self.param1.mm(input)\n",
    "        x = self.submodel1(x)\n",
    "        return x\n",
    "\n",
    "\n",
    "net = Net()\n",
    "print(\"net:\", net)\n",
    "print(\"net._parameters:\", net._parameters)\n",
    "print(\"net._modules:\", net._modules)\n",
    "print(\"net._buffers:\", net._buffers)\n",
    "print(\"net._backward_hooks:\", net._backward_hooks)\n",
    "print(\"net._forward_hooks:\", net._forward_hooks)\n",
    "print(\"net.training:\", net.training)\n",
    "print(\"net.__dict__:\", net.__dict__)\n",
    "print()\n",
    "print(\"net.submodel1._parameters:\", net.submodel1._parameters)\n",
    "print(\"net.submodel1._modules:\", net.submodel1._modules)\n",
    "print(\"net.submodel1._buffers:\", net.submodel1._buffers)\n",
    "print(\"net.submodel1._backward_hooks:\", net.submodel1._backward_hooks)\n",
    "print(\"net.submodel1._forward_hooks:\", net.submodel1._forward_hooks)\n",
    "print(\"net.submodel1.training:\", net.submodel1.training)\n",
    "print(\"net.submodel1.__dict__:\", net.submodel1.__dict__)"
   ]
  },
  {
   "cell_type": "code",
   "execution_count": 97,
   "metadata": {
    "colab": {
     "base_uri": "https://localhost:8080/"
    },
    "id": "wDCq5zZDxhAA",
    "outputId": "6070fdb1-869e-4210-e260-85b62aef8c00"
   },
   "outputs": [
    {
     "data": {
      "text/plain": [
       "OrderedDict([('submodel1', Linear(in_features=3, out_features=4, bias=True))])"
      ]
     },
     "execution_count": 97,
     "metadata": {},
     "output_type": "execute_result"
    }
   ],
   "source": [
    "net._modules"
   ]
  },
  {
   "cell_type": "code",
   "execution_count": 98,
   "metadata": {
    "colab": {
     "base_uri": "https://localhost:8080/"
    },
    "id": "-A8wSWXvxhAA",
    "outputId": "0a4ac4bb-c35e-4328-90c7-e138c3cc68a9"
   },
   "outputs": [
    {
     "data": {
      "text/plain": [
       "OrderedDict([('param1',\n",
       "              Parameter containing:\n",
       "              tensor([[0.8919, 0.3783, 0.2719],\n",
       "                      [0.6543, 0.3218, 0.6907],\n",
       "                      [0.5306, 0.3943, 0.8600]], requires_grad=True))])"
      ]
     },
     "execution_count": 98,
     "metadata": {},
     "output_type": "execute_result"
    }
   ],
   "source": [
    "net._parameters"
   ]
  },
  {
   "cell_type": "code",
   "execution_count": 99,
   "metadata": {
    "colab": {
     "base_uri": "https://localhost:8080/"
    },
    "id": "bXxPfQdAxhAA",
    "outputId": "5c548889-6b08-49c7-c30c-60c65b75965f",
    "scrolled": true
   },
   "outputs": [
    {
     "data": {
      "text/plain": [
       "Parameter containing:\n",
       "tensor([[0.8919, 0.3783, 0.2719],\n",
       "        [0.6543, 0.3218, 0.6907],\n",
       "        [0.5306, 0.3943, 0.8600]], requires_grad=True)"
      ]
     },
     "execution_count": 99,
     "metadata": {},
     "output_type": "execute_result"
    }
   ],
   "source": [
    "net.param1  # 等价于 net._parameters['param1']"
   ]
  },
  {
   "cell_type": "code",
   "execution_count": 100,
   "metadata": {},
   "outputs": [
    {
     "data": {
      "text/plain": [
       "Linear(in_features=3, out_features=4, bias=True)"
      ]
     },
     "execution_count": 100,
     "metadata": {},
     "output_type": "execute_result"
    }
   ],
   "source": [
    "net.submodel1"
   ]
  },
  {
   "cell_type": "code",
   "execution_count": 101,
   "metadata": {
    "colab": {
     "base_uri": "https://localhost:8080/"
    },
    "id": "m3zkrLYqxhAA",
    "outputId": "f3a68ba7-c731-4ff9-9006-26b2fe5f7a60"
   },
   "outputs": [
    {
     "name": "stdout",
     "output_type": "stream",
     "text": [
      "param1 torch.Size([3, 3])\n",
      "submodel1.weight torch.Size([4, 3])\n",
      "submodel1.bias torch.Size([4])\n"
     ]
    }
   ],
   "source": [
    "for name, param in net.named_parameters():\n",
    "    print(name, param.size())"
   ]
  },
  {
   "cell_type": "code",
   "execution_count": 102,
   "metadata": {
    "colab": {
     "base_uri": "https://localhost:8080/"
    },
    "id": "XwooOqXtxhAA",
    "outputId": "38229fa7-c43f-4bfd-ac57-93a8ed4268d3"
   },
   "outputs": [
    {
     "name": "stdout",
     "output_type": "stream",
     "text": [
      " Net(\n",
      "  (submodel1): Linear(in_features=3, out_features=4, bias=True)\n",
      ")\n",
      "submodel1 Linear(in_features=3, out_features=4, bias=True)\n"
     ]
    }
   ],
   "source": [
    "for name, submodel in net.named_modules():\n",
    "    print(name, submodel)  # 当前 module 和他的子 module"
   ]
  },
  {
   "cell_type": "code",
   "execution_count": 103,
   "metadata": {
    "colab": {
     "base_uri": "https://localhost:8080/"
    },
    "id": "NLznMBBcxhAB",
    "outputId": "04460524-b0f4-42b1-826d-4870e88dfe7f"
   },
   "outputs": [
    {
     "name": "stdout",
     "output_type": "stream",
     "text": [
      "bn._parameters: OrderedDict([('weight', Parameter containing:\n",
      "tensor([1., 1.], requires_grad=True)), ('bias', Parameter containing:\n",
      "tensor([0., 0.], requires_grad=True))])\n",
      "bn._modules: OrderedDict()\n",
      "bn._buffers: OrderedDict([('running_mean', tensor([0.0626, 0.0458])), ('running_var', tensor([0.9001, 0.9021])), ('num_batches_tracked', tensor(1))])\n",
      "bn._backward_hooks: OrderedDict()\n",
      "bn._forward_hooks: OrderedDict()\n",
      "bn.training: True\n",
      "bn.__dict__: {'training': True, '_parameters': OrderedDict([('weight', Parameter containing:\n",
      "tensor([1., 1.], requires_grad=True)), ('bias', Parameter containing:\n",
      "tensor([0., 0.], requires_grad=True))]), '_buffers': OrderedDict([('running_mean', tensor([0.0626, 0.0458])), ('running_var', tensor([0.9001, 0.9021])), ('num_batches_tracked', tensor(1))]), '_non_persistent_buffers_set': set(), '_backward_pre_hooks': OrderedDict(), '_backward_hooks': OrderedDict(), '_is_full_backward_hook': None, '_forward_hooks': OrderedDict(), '_forward_hooks_with_kwargs': OrderedDict(), '_forward_hooks_always_called': OrderedDict(), '_forward_pre_hooks': OrderedDict(), '_forward_pre_hooks_with_kwargs': OrderedDict(), '_state_dict_hooks': OrderedDict(), '_state_dict_pre_hooks': OrderedDict(), '_load_state_dict_pre_hooks': OrderedDict(), '_load_state_dict_post_hooks': OrderedDict(), '_modules': OrderedDict(), 'num_features': 2, 'eps': 1e-05, 'momentum': 0.1, 'affine': True, 'track_running_stats': True}\n"
     ]
    }
   ],
   "source": [
    "bn = nn.BatchNorm1d(2)\n",
    "input = t.rand(3, 2)\n",
    "output = bn(input)\n",
    "print(\"bn._parameters:\", bn._parameters)\n",
    "print(\"bn._modules:\", bn._modules)\n",
    "print(\"bn._buffers:\", bn._buffers)\n",
    "print(\"bn._backward_hooks:\", bn._backward_hooks)\n",
    "print(\"bn._forward_hooks:\", bn._forward_hooks)\n",
    "print(\"bn.training:\", bn.training)\n",
    "print(\"bn.__dict__:\", bn.__dict__)"
   ]
  },
  {
   "cell_type": "markdown",
   "metadata": {
    "id": "nEkDv1vkxhAB"
   },
   "source": [
    "从上面的示例中可以看出, `nn.Module` 在实际使用中可能层层嵌套: 一个 module 包含若干个子 module, 每一个子 module 又包含了更多的子 module. 为方便用户访问各个子 module, `nn.Module` 实现了很多方法, 如函数 `children` 可以查看直接子 module, 函数 `modules` 可以查看所有的子 module(包括当前 module). 与之相对应的还有函数 `named_childen` 和 `named_modules`, 其能够在返回 module 列表的同时返回它们的名字."
   ]
  },
  {
   "cell_type": "code",
   "execution_count": 104,
   "metadata": {
    "colab": {
     "base_uri": "https://localhost:8080/"
    },
    "id": "HRQJeQ6dxhAB",
    "outputId": "b83d46b0-c75e-4355-f51b-628108d5fdf9"
   },
   "outputs": [
    {
     "name": "stdout",
     "output_type": "stream",
     "text": [
      "model._parameters: OrderedDict()\n",
      "model._modules: OrderedDict()\n",
      "model._buffers: OrderedDict()\n",
      "model._backward_hooks: OrderedDict()\n",
      "model._forward_hooks: OrderedDict()\n",
      "model.training: True\n",
      "model.__dict__: {'training': True, '_parameters': OrderedDict(), '_buffers': OrderedDict(), '_non_persistent_buffers_set': set(), '_backward_pre_hooks': OrderedDict(), '_backward_hooks': OrderedDict(), '_is_full_backward_hook': None, '_forward_hooks': OrderedDict(), '_forward_hooks_with_kwargs': OrderedDict(), '_forward_hooks_always_called': OrderedDict(), '_forward_pre_hooks': OrderedDict(), '_forward_pre_hooks_with_kwargs': OrderedDict(), '_state_dict_hooks': OrderedDict(), '_state_dict_pre_hooks': OrderedDict(), '_load_state_dict_pre_hooks': OrderedDict(), '_load_state_dict_post_hooks': OrderedDict(), '_modules': OrderedDict(), 'p': 0.5, 'inplace': False}\n",
      "tensor([[ 0.,  0.,  0.,  0.],\n",
      "        [ 8.,  0.,  0.,  0.],\n",
      "        [16., 18., 20.,  0.]])\n"
     ]
    }
   ],
   "source": [
    "input = t.arange(0, 12).view(3, 4).float()\n",
    "model = nn.Dropout()\n",
    "print(\"model._parameters:\", model._parameters)\n",
    "print(\"model._modules:\", model._modules)\n",
    "print(\"model._buffers:\", model._buffers)\n",
    "print(\"model._backward_hooks:\", model._backward_hooks)\n",
    "print(\"model._forward_hooks:\", model._forward_hooks)\n",
    "print(\"model.training:\", model.training)\n",
    "print(\"model.__dict__:\", model.__dict__)\n",
    "# 在训练阶段, 会有一半左右的数被随机置为 0\n",
    "print(model(input))"
   ]
  },
  {
   "cell_type": "code",
   "execution_count": 105,
   "metadata": {
    "colab": {
     "base_uri": "https://localhost:8080/"
    },
    "id": "Upf0QPEbxhAB",
    "outputId": "00625417-5a17-4a65-b318-26fb76c320e7"
   },
   "outputs": [
    {
     "name": "stdout",
     "output_type": "stream",
     "text": [
      "model._parameters: OrderedDict()\n",
      "model._modules: OrderedDict()\n",
      "model._buffers: OrderedDict()\n",
      "model._backward_hooks: OrderedDict()\n",
      "model._forward_hooks: OrderedDict()\n",
      "model.training: False\n",
      "model.__dict__: {'training': False, '_parameters': OrderedDict(), '_buffers': OrderedDict(), '_non_persistent_buffers_set': set(), '_backward_pre_hooks': OrderedDict(), '_backward_hooks': OrderedDict(), '_is_full_backward_hook': None, '_forward_hooks': OrderedDict(), '_forward_hooks_with_kwargs': OrderedDict(), '_forward_hooks_always_called': OrderedDict(), '_forward_pre_hooks': OrderedDict(), '_forward_pre_hooks_with_kwargs': OrderedDict(), '_state_dict_hooks': OrderedDict(), '_state_dict_pre_hooks': OrderedDict(), '_load_state_dict_pre_hooks': OrderedDict(), '_load_state_dict_post_hooks': OrderedDict(), '_modules': OrderedDict(), 'p': 0.5, 'inplace': False}\n",
      "tensor([[ 0.,  1.,  2.,  3.],\n",
      "        [ 4.,  5.,  6.,  7.],\n",
      "        [ 8.,  9., 10., 11.]])\n"
     ]
    }
   ],
   "source": [
    "model.training = False\n",
    "print(\"model._parameters:\", model._parameters)\n",
    "print(\"model._modules:\", model._modules)\n",
    "print(\"model._buffers:\", model._buffers)\n",
    "print(\"model._backward_hooks:\", model._backward_hooks)\n",
    "print(\"model._forward_hooks:\", model._forward_hooks)\n",
    "print(\"model.training:\", model.training)\n",
    "print(\"model.__dict__:\", model.__dict__)\n",
    "# 在测试阶段, dropout 什么都不做\n",
    "print(model(input))"
   ]
  },
  {
   "cell_type": "markdown",
   "metadata": {
    "id": "sA-5K_CVxhAB"
   },
   "source": [
    "对于 BatchNorm、Dropout、InstanceNorm 等在训练和测试阶段行为差距较大的层, 如果在测试时不将其 training 值设为 False, 则可能会有很大影响, 这在实际使用中要格外注意. 虽然可以通过直接设置 `training` 属性来将子 module 设为 train 和 eval 模式, 但这种方式较为繁琐. 因为, 如果一个模型具有多个 Dropout 层, 就需要为每个 Dropout 层指定 training 属性. 笔者推荐的做法是调用 `model.train()` 函数, 它会将当前 module 及其子 module 中的所有 training 属性都设为True, 相应地, `model.eval()` 函数会把 training 属性都设为 False."
   ]
  },
  {
   "cell_type": "code",
   "execution_count": 106,
   "metadata": {
    "colab": {
     "base_uri": "https://localhost:8080/"
    },
    "id": "opUAHUKSxhAB",
    "outputId": "58087855-a431-4321-ca48-fca6b9166a6d"
   },
   "outputs": [
    {
     "data": {
      "text/plain": [
       "(True, True)"
      ]
     },
     "execution_count": 106,
     "metadata": {},
     "output_type": "execute_result"
    }
   ],
   "source": [
    "net.training, net.submodel1.training"
   ]
  },
  {
   "cell_type": "code",
   "execution_count": 107,
   "metadata": {
    "colab": {
     "base_uri": "https://localhost:8080/"
    },
    "id": "sjWEq-L_xhAB",
    "outputId": "0537fa41-c37c-4388-fda9-506152be5cf9"
   },
   "outputs": [
    {
     "data": {
      "text/plain": [
       "(False, False)"
      ]
     },
     "execution_count": 107,
     "metadata": {},
     "output_type": "execute_result"
    }
   ],
   "source": [
    "net.eval()  # eval() 将所有的 training 属性设为 False\n",
    "net.training, net.submodel1.training"
   ]
  },
  {
   "cell_type": "code",
   "execution_count": 69,
   "metadata": {
    "colab": {
     "base_uri": "https://localhost:8080/"
    },
    "id": "gxsxYGMbxhAC",
    "outputId": "99eec3c1-cbde-41b2-d6d4-dfb97bb981ee"
   },
   "outputs": [
    {
     "data": {
      "text/plain": [
       "[('',\n",
       "  Net(\n",
       "    (submodel1): Linear(in_features=3, out_features=4, bias=True)\n",
       "  )),\n",
       " ('submodel1', Linear(in_features=3, out_features=4, bias=True))]"
      ]
     },
     "execution_count": 69,
     "metadata": {},
     "output_type": "execute_result"
    }
   ],
   "source": [
    "list(net.named_modules())"
   ]
  },
  {
   "cell_type": "markdown",
   "metadata": {
    "id": "uIuuaFZdxhAC"
   },
   "source": [
    "`register_forward_hook` 和 `register_backward_hook` 函数可以在 module 前向传播或反向传播时注册钩子. 每次前向传播执行结束后会执行钩子函数(hook). 前向传播的钩子函数具有如下形式: `hook(module, input, output) -> None`, 而反向传播则具有如下形式: `hook(module, grad_input, grad_output) -> Tensor or None`. 钩子函数不应修改输入和输出, 并且在使用后应及时删除, 以避免每次都运行钩子增加运行负载. 钩子函数主要用在获取某些中间结果的情景, 如中间某一层的输出或某一层的梯度. 这些结果本应写在 forward 函数中, 但如果在 forward 函数中专门加上这些处理, 可能会使处理逻辑比较复杂, 这时候使用钩子技术就更加合适. 下面考虑一种场景, 有一个预训练好的模型, 需要提取模型的某一层(不是最后一层)的输出作为特征进行分类, 但又不希望修改其原有的模型定义文件, 这时就可以利用钩子函数. 下面给出实现的伪代码.\n",
    "\n",
    "```python\n",
    "model = VGG()\n",
    "features = t.Tensor()\n",
    "def hook(module, input, output):\n",
    "    '''把这层的输出拷贝到 features 中 '''\n",
    "    features.copy_(output.data)\n",
    "\n",
    "handle = model.layer8.register_forward_hook(hook)\n",
    "_ = model(input)\n",
    "# 用完 hook 后删除\n",
    "handle.remove()\n",
    "```"
   ]
  },
  {
   "cell_type": "markdown",
   "metadata": {
    "id": "ypJmVpHvxhAC"
   },
   "source": [
    "`nn.Module` 对象在构造函数中的行为看起来有些怪异, 如果想要真正掌握其原理, 就需要看两个魔法方法 `__getattr__` 和 `__setattr__`. 在 Python 中有两个常用的 buildin 方法 `getattr` 和 `setattr`.\n",
    "\n",
    "1. 对于 `getattr(obj, 'attr1')`, 其等价于 `obj.attr`, 如果 `getattr` 函数无法找到所需属性, Python 会调用 `obj.__getattr__('attr1')` 方法, 即 `getattr` 函数无法找到的交给 `__getattr__` 函数处理; 如果这个对象没有实现 `__getattr__` 方法, 或者遇到 `__getattr__` 方法也无法处理情况, 程序就会抛出异常 AttributeError.\n",
    "\n",
    "2. 对于 `setattr(obj, 'name', value)`, 其等价于 `obj.name=value`, 如果 obj 对象实现了 `__setattr__` 方法, `setattr` 会直接调用 `obj.__setattr__('name', value)`, 否则调用 buildin 方法.\n",
    "\n",
    "总结如下:\n",
    "\n",
    "- result  = obj.name 会调用 buildin 函数 `getattr(obj, 'name')`, 如果该属性找不到, 则会调用 `obj.__getattr__('name')`\n",
    "\n",
    "- obj.name = value 会调用 buildin 函数 `setattr(obj, 'name', value)`, 如果 obj 对象实现了 `__setattr__` 方法, `setattr` 会直接调用 `obj.__setattr__('name', value)`"
   ]
  },
  {
   "cell_type": "markdown",
   "metadata": {
    "id": "wSwNa3RwxhAC"
   },
   "source": [
    "nn.Module 实现了自定义的 `__setattr__` 函数, 当执行 `module.name=value`时 , 会在 `__setattr__` 中判断 value 是否为 `Parameter` 或 `nn.Module` 对象, 如果是则将这些对象加到 `_parameters` 和 `_modules` 两个字典中; 而如果是其它类型的对象, 如 `list`、`dict` 等, 则调用默认的操作, 将这个值保存在 `__dict__` 中."
   ]
  },
  {
   "cell_type": "code",
   "execution_count": 70,
   "metadata": {
    "colab": {
     "base_uri": "https://localhost:8080/"
    },
    "id": "HnZmML74xhAC",
    "outputId": "f6d74a7e-8559-4407-8dec-dc40526d8020"
   },
   "outputs": [
    {
     "data": {
      "text/plain": [
       "OrderedDict([('param',\n",
       "              Parameter containing:\n",
       "              tensor([[1., 1.],\n",
       "                      [1., 1.]], requires_grad=True))])"
      ]
     },
     "execution_count": 70,
     "metadata": {},
     "output_type": "execute_result"
    }
   ],
   "source": [
    "module = nn.Module()\n",
    "module.param = nn.Parameter(t.ones(2, 2))\n",
    "module._parameters"
   ]
  },
  {
   "cell_type": "code",
   "execution_count": 71,
   "metadata": {
    "colab": {
     "base_uri": "https://localhost:8080/"
    },
    "id": "5jEAjzeqxhAC",
    "outputId": "a9e1f9ae-f020-49a5-bc41-8e0740d61648"
   },
   "outputs": [
    {
     "name": "stdout",
     "output_type": "stream",
     "text": [
      "_modules:  OrderedDict()\n",
      "__dict__['submodules']: [Linear(in_features=2, out_features=2, bias=True), Linear(in_features=2, out_features=2, bias=True)]\n"
     ]
    }
   ],
   "source": [
    "submodule1 = nn.Linear(2, 2)\n",
    "submodule2 = nn.Linear(2, 2)\n",
    "module_list = [submodule1, submodule2]\n",
    "# 对于 list 对象, 调用 buildin 函数, 保存在 __dict__ 中\n",
    "module.submodules = module_list\n",
    "print(\"_modules: \", module._modules)\n",
    "print(\"__dict__['submodules']:\", module.__dict__.get(\"submodules\"))"
   ]
  },
  {
   "cell_type": "code",
   "execution_count": 72,
   "metadata": {
    "colab": {
     "base_uri": "https://localhost:8080/"
    },
    "id": "3BiDnMvZxhAD",
    "outputId": "64bff998-b156-4285-d0ef-3dc29087ea23",
    "scrolled": true
   },
   "outputs": [
    {
     "name": "stdout",
     "output_type": "stream",
     "text": [
      "ModuleList is instance of nn.Module:  True\n",
      "_modules:  OrderedDict([('submodules', ModuleList(\n",
      "  (0-1): 2 x Linear(in_features=2, out_features=2, bias=True)\n",
      "))])\n",
      "__dict__['submodules']: None\n"
     ]
    }
   ],
   "source": [
    "module_list = nn.ModuleList(module_list)\n",
    "module.submodules = module_list\n",
    "print(\"ModuleList is instance of nn.Module: \", isinstance(module_list, nn.Module))\n",
    "print(\"_modules: \", module._modules)\n",
    "print(\"__dict__['submodules']:\", module.__dict__.get(\"submodules\"))"
   ]
  },
  {
   "cell_type": "markdown",
   "metadata": {
    "id": "jnyv88ktxhAD"
   },
   "source": [
    "因 `_modules` 和 `_parameters` 中的 item 未保存在 `__dict__` 中, 所以默认的 `getattr` 方法无法获取它, 因而 `nn.Module` 实现了自定义的 `__getattr__` 方法. 如果默认的 `getattr` 无法处理, 就调用自定义的 `__getattr__` 方法, 尝试从 `_modules`、`_parameters` 和 `_buffers` 这三个字典中获取."
   ]
  },
  {
   "cell_type": "code",
   "execution_count": 73,
   "metadata": {
    "colab": {
     "base_uri": "https://localhost:8080/"
    },
    "id": "eyNAvjUJxhAD",
    "outputId": "cf0811dd-4dba-4ea8-add2-87a936f9fe03"
   },
   "outputs": [
    {
     "data": {
      "text/plain": [
       "True"
      ]
     },
     "execution_count": 73,
     "metadata": {},
     "output_type": "execute_result"
    }
   ],
   "source": [
    "getattr(module, \"training\")  # 等价于 module.training\n",
    "# error\n",
    "# module.__getattr__('training')"
   ]
  },
  {
   "cell_type": "code",
   "execution_count": 74,
   "metadata": {
    "colab": {
     "base_uri": "https://localhost:8080/"
    },
    "id": "PBv-XTGBxhAD",
    "outputId": "8f6bba51-2e9f-4f76-ae40-c957feb3e5c1"
   },
   "outputs": [
    {
     "data": {
      "text/plain": [
       "2"
      ]
     },
     "execution_count": 74,
     "metadata": {},
     "output_type": "execute_result"
    }
   ],
   "source": [
    "module.attr1 = 2\n",
    "getattr(module, \"attr1\")\n",
    "# 报错\n",
    "# module.__getattr__('attr1')"
   ]
  },
  {
   "cell_type": "code",
   "execution_count": 75,
   "metadata": {
    "colab": {
     "base_uri": "https://localhost:8080/"
    },
    "id": "pDQuBOp3xhAD",
    "outputId": "6fea2013-de40-4e0f-9943-c576cddb489f"
   },
   "outputs": [
    {
     "data": {
      "text/plain": [
       "Parameter containing:\n",
       "tensor([[1., 1.],\n",
       "        [1., 1.]], requires_grad=True)"
      ]
     },
     "execution_count": 75,
     "metadata": {},
     "output_type": "execute_result"
    }
   ],
   "source": [
    "# 即 module.param, 会调用 module.__getattr__('param')\n",
    "getattr(module, \"param\")"
   ]
  },
  {
   "cell_type": "markdown",
   "metadata": {
    "id": "CPu1PoB9xhAD"
   },
   "source": [
    "在 PyTorch 中保存模型十分简单, 所有的 Module 对象都具有 state_dict() 函数, 返回当前 Module 所有的状态数据. 将这些状态数据保存后, 下次使用模型时即可利用 `model.load_state_dict()` 函数将状态加载进来. 优化器(optimizer)也有类似的机制, 不过一般并不需要保存优化器的运行状态."
   ]
  },
  {
   "cell_type": "code",
   "execution_count": 76,
   "metadata": {
    "colab": {
     "base_uri": "https://localhost:8080/"
    },
    "id": "GQFsqxUgxhAD",
    "outputId": "591b554a-fa22-43f7-b30c-a0f64c57d45d"
   },
   "outputs": [
    {
     "data": {
      "text/plain": [
       "<All keys matched successfully>"
      ]
     },
     "execution_count": 76,
     "metadata": {},
     "output_type": "execute_result"
    }
   ],
   "source": [
    "# 保存模型\n",
    "t.save(net.state_dict(), \"net.pth\")\n",
    "\n",
    "# 加载已保存的模型\n",
    "net2 = Net()\n",
    "net2.load_state_dict(t.load(\"net.pth\"))"
   ]
  },
  {
   "cell_type": "markdown",
   "metadata": {
    "id": "xwBNyCu0xhAE"
   },
   "source": [
    "实际上还有另外一种保存方法, 但因其严重依赖模型定义方式及文件路径结构等, 很容易出问题, 因而不建议使用."
   ]
  },
  {
   "cell_type": "code",
   "execution_count": 77,
   "metadata": {
    "colab": {
     "base_uri": "https://localhost:8080/"
    },
    "id": "i9DSwjn0xhAE",
    "outputId": "f49384d9-d913-4291-b922-b7e99bb09f4e"
   },
   "outputs": [
    {
     "data": {
      "text/plain": [
       "Net(\n",
       "  (submodel1): Linear(in_features=3, out_features=4, bias=True)\n",
       ")"
      ]
     },
     "execution_count": 77,
     "metadata": {},
     "output_type": "execute_result"
    }
   ],
   "source": [
    "t.save(net, \"net_all.pth\")\n",
    "net2 = t.load(\"net_all.pth\")\n",
    "net2"
   ]
  },
  {
   "cell_type": "markdown",
   "metadata": {
    "id": "8OefZZNgxhAE"
   },
   "source": [
    "将 Module 放在 GPU 上运行也十分简单, 只需以下两步:\n",
    "\n",
    "- model = model.cuda(): 将模型的所有参数转存到 GPU\n",
    "\n",
    "- input.cuda(): 将输入数据放置到 GPU 上.\n",
    "\n",
    "至于如何在多个 GPU 上并行计算, PyTorch 也提供了两个函数, 可实现简单高效的并行 GPU 计算.\n",
    "\n",
    "- nn.parallel.data_parallel(module, inputs, device_ids=None, output_device=None, dim=0, module_kwargs=None)\n",
    "\n",
    "- class torch.nn.DataParallel(module, device_ids=None, output_device=None, dim=0)\n",
    "\n",
    "可见二者的参数十分相似, 通过 `device_ids` 参数可以指定在哪些 GPU 上进行优化, 而通过 `output_device` 参数可以指定输出到哪个 GPU 上. 二者唯一的不同就在于前者直接利用多 GPU 并行计算得出结果, 而后者则返回一个新的 module, 能够自动在多 GPU 上进行并行加速.\n",
    "\n",
    "```\n",
    "# method 1\n",
    "new_net = nn.DataParallel(net, device_ids=[0, 1])\n",
    "output = new_net(input)\n",
    "\n",
    "# method 2\n",
    "output = nn.parallel.data_parallel(new_net, input, device_ids=[0, 1])\n",
    "```"
   ]
  },
  {
   "cell_type": "markdown",
   "metadata": {
    "id": "HB90WEQwxhAE"
   },
   "source": [
    "DataParallel 并行的方式, 是将输入一个 batch 的数据均分成多份, 分别送到对应的 GPU 进行计算, 各个 GPU 得到的梯度累加. 与 Module 相关的所有数据也都会以浅复制的方式复制多份."
   ]
  },
  {
   "cell_type": "markdown",
   "metadata": {
    "id": "P-oX3KqpxhAE"
   },
   "source": [
    "## 4.7 小试牛刀: 搭建 ResNet\n",
    "\n",
    "Kaiming He 提出的深度残差网络(ResNet)在深度学习的发展中起到了很重要的作用, ResNet 不仅一举拿下了当年多个计算机视觉比赛项目的冠军, 更重要的是这一结构解决了训练极深网络时的梯度消失问题.\n",
    "\n",
    "这里选取的是 ResNet 的一个变种 ResNet34 来讲解 ResNet 的网络结构. ResNet 的网络结构如图 4-2 所示, 除了最开始的卷积池化和最后的池化全连接之外, 网络中有很多结构相似的单元, 这些重复单元的共同点就是有个跨层直连的 shortcut. ResNet 中将一个跨层直连的单元称为 Residual Block, 其结构如图 4-3 所示, 左边部分是普通的卷积网络结构, 右边是直连, 但如果输入和输出的通道数不一致, 或其步长不为 1, 那么就需要有一个专门的单元将二者转成一致, 使其可以相加.\n",
    "\n",
    "另外我们可以发现 Residual Block 的大小也是有规律的, 在最开始的 pool 之后有连续的几个一模一样的 Residual Block 单元, 这些单元的通道数一样, 在这里我们将这几个拥有多个 Residual Block 单元的结构称之为 layer. 读者需要将这里的 layer 和之前讲的 layer 区分开来, 这里的 layer 是几个层的集合.\n",
    "\n",
    "考虑到 Residual Block 和 layer 出现了多次, 我们可以把它们实现为一个子 Module 或函数. 这里我们将 Residual Block 实现为一个子 module, 而将 layer 实现为一个函数. 下面是实现代码, 规律总结如下:\n",
    "\n",
    "- 对于模型中的重复部分, 实现为子 module 或用函数生成相应的 module\n",
    "\n",
    "- nn.Module 和 nn.Functional 结合使用\n",
    "\n",
    "- 尽量使用 `nn.Seqential`.\n",
    "\n",
    "![图4-2: ResNet34网络结构](imgs/resnet1.png)\n",
    "\n",
    "![图4-3: Residual block 结构图](imgs/residual.png)\n"
   ]
  },
  {
   "cell_type": "code",
   "execution_count": 78,
   "metadata": {
    "id": "wN2ctIUvxhAE"
   },
   "outputs": [],
   "source": [
    "from torch import nn\n",
    "import torch as t\n",
    "from torch.nn import functional as F"
   ]
  },
  {
   "cell_type": "code",
   "execution_count": 80,
   "metadata": {
    "id": "L7X8XGL2xhAE"
   },
   "outputs": [],
   "source": [
    "class ResidualBlock(nn.Module):\n",
    "    \"\"\"\n",
    "    实现子 module: Residual Block\n",
    "    \"\"\"\n",
    "\n",
    "    def __init__(self, inchannel, outchannel, stride=1, shortcut=None):\n",
    "        super(ResidualBlock, self).__init__()\n",
    "        self.left = nn.Sequential(\n",
    "            nn.Conv2d(inchannel, outchannel, 3, stride, 1, bias=False),\n",
    "            nn.BatchNorm2d(outchannel),\n",
    "            nn.ReLU(inplace=True),\n",
    "            nn.Conv2d(outchannel, outchannel, 3, 1, 1, bias=False),\n",
    "            nn.BatchNorm2d(outchannel),\n",
    "        )\n",
    "        self.right = shortcut\n",
    "\n",
    "    def forward(self, x):\n",
    "        out = self.left(x)\n",
    "        residual = x if self.right is None else self.right(x)\n",
    "        out += residual\n",
    "        return F.relu(out)\n",
    "\n",
    "\n",
    "class ResNet(nn.Module):\n",
    "    \"\"\"\n",
    "    实现主 module: ResNet34\n",
    "    ResNet34 包含多个 layer, 每个 layer 又包含多个 residual block\n",
    "    用子 module 来实现 residual block, 用 _make_layer 函数来实现 layer\n",
    "    \"\"\"\n",
    "\n",
    "    def __init__(self, num_classes=1000):\n",
    "        super(ResNet, self).__init__()\n",
    "        # 前几层图像转换\n",
    "        self.pre = nn.Sequential(\n",
    "            nn.Conv2d(3, 64, 7, 2, 3, bias=False),\n",
    "            nn.BatchNorm2d(64),\n",
    "            nn.ReLU(inplace=True),\n",
    "            nn.MaxPool2d(3, 2, 1),\n",
    "        )\n",
    "\n",
    "        # 重复的 layer, 分别有 3, 4, 6, 3 个 Residual Block\n",
    "        self.layer1 = self._make_layer(64, 64, 3, 1, is_shortcut=False)\n",
    "        self.layer2 = self._make_layer(64, 128, 4, 2)\n",
    "        self.layer3 = self._make_layer(128, 256, 6, 2)\n",
    "        self.layer4 = self._make_layer(256, 512, 3, 2)\n",
    "\n",
    "        # 分类用的全连接\n",
    "        self.classifier = nn.Linear(512, num_classes)\n",
    "\n",
    "    def _make_layer(self, inchannel, outchannel, block_num, stride, is_shortcut=True):\n",
    "        \"\"\"\n",
    "        构建 layer, 包含多个 residual block\n",
    "        \"\"\"\n",
    "        if is_shortcut:\n",
    "            shortcut = nn.Sequential(\n",
    "                nn.Conv2d(inchannel, outchannel, 1, stride, bias=False),\n",
    "                nn.BatchNorm2d(outchannel),\n",
    "            )\n",
    "        else:\n",
    "            shortcut = None\n",
    "\n",
    "        layers = []\n",
    "        layers.append(ResidualBlock(inchannel, outchannel, stride, shortcut))\n",
    "\n",
    "        for i in range(1, block_num):\n",
    "            layers.append(ResidualBlock(outchannel, outchannel))\n",
    "        return nn.Sequential(*layers)\n",
    "\n",
    "    def forward(self, x):\n",
    "        x = self.pre(x)\n",
    "\n",
    "        x = self.layer1(x)\n",
    "        x = self.layer2(x)\n",
    "        x = self.layer3(x)\n",
    "        x = self.layer4(x)\n",
    "\n",
    "        x = F.avg_pool2d(x, 7)\n",
    "        x = x.view(x.size(0), -1)\n",
    "        return self.classifier(x)"
   ]
  },
  {
   "cell_type": "code",
   "execution_count": 81,
   "metadata": {
    "id": "FjqBhpeoxhAF"
   },
   "outputs": [],
   "source": [
    "model = ResNet()\n",
    "input = t.randn(1, 3, 224, 224)\n",
    "out = model(input)"
   ]
  },
  {
   "cell_type": "markdown",
   "metadata": {
    "id": "PNvPnNqFxhAF"
   },
   "source": [
    "感兴趣的读者可以尝试实现一下 Google 的 Inception 网络结构或 ResNet 的其它变体, 看看如何能够简洁明了地实现这些经典的网络结构. 另外, 与 PyTorch 配套的图像工具包 `torchvision` 已经实现了深度学习中大多数经典的模型, 其中就包括 ResNet34, 读者可以通过下面两行代码使用:\n",
    "\n",
    "```python\n",
    "from torchvision import models\n",
    "model = models.resnet34()\n",
    "```\n",
    "\n",
    "关于 `torchvision` 的具体内容将在本书第五章进行讲解, 通过 torchvision 我们便可以方便地使用深度学习中经典的网络模型了."
   ]
  },
  {
   "cell_type": "markdown",
   "metadata": {
    "id": "rYRbQnMHxhAF"
   },
   "source": [
    "## 本章小结\n",
    "\n",
    "本章详细介绍了神经网络工具箱 nn 的使用. 首先本章对神经网络中常用层结构进行了介绍, 并举例说明了如何使用 `nn.Module` 模块来实现这些常用的层结构; 其次, 本章对 `nn.Module` 进行了深入剖析, 并详细介绍了其构造函数与两种魔法方法; 同时, 本章还对神经网络中的初始化策略与优化器进行了详细讲解; 最后, 本章运用 `nn.Module` 模块实现了经典的 ResNet 网络结构. 通过本章的学习, 读者可以掌握神经网络工具箱中大部分类和函数的用法, 并按照实际需要搭建自己的网络结构."
   ]
  },
  {
   "cell_type": "code",
   "execution_count": null,
   "metadata": {
    "id": "zmnWQbkbMO6q"
   },
   "outputs": [],
   "source": []
  }
 ],
 "metadata": {
  "colab": {
   "provenance": [],
   "toc_visible": true
  },
  "kernelspec": {
   "display_name": "Python 3 (ipykernel)",
   "language": "python",
   "name": "python3"
  },
  "language_info": {
   "codemirror_mode": {
    "name": "ipython",
    "version": 3
   },
   "file_extension": ".py",
   "mimetype": "text/x-python",
   "name": "python",
   "nbconvert_exporter": "python",
   "pygments_lexer": "ipython3",
   "version": "3.11.6"
  }
 },
 "nbformat": 4,
 "nbformat_minor": 4
}
