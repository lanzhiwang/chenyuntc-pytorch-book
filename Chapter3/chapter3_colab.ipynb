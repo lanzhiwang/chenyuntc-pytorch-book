{
 "cells": [
  {
   "cell_type": "markdown",
   "metadata": {
    "id": "pOSiZktNu10g"
   },
   "source": [
    "# 第三章 Tensor\n",
    "\n",
    "几乎所有的深度学习框架背后的设计核心都是张量和计算图, PyTorch 也不例外, 本章我们将学习 PyTorch 中的张量系统(Tensor)和自动微分系统(autograd).\n",
    "\n",
    "## 3.1 Tensor 基础\n",
    "\n",
    "Tensor, 又名张量, 读者可能对这个名词似曾相识, 因为它不仅在 PyTorch 中出现过, 它也是 Theano、TensorFlow、Torch 和 MXNet 中重要的数据结构. 关于张量的本质不乏深度剖析的文章, 但从工程角度讲, 可简单地认为它就是一个数组, 且支持高效的科学计算. 它可以是一个数(标量)、一维数组(向量)、二维数组(矩阵)或更高维的数组(高阶数据). Tensor 和 Numpy 的 ndarrays 类似, 但前者支持 GPU 加速.\n",
    "\n",
    "本节将系统讲解 Tensor 的使用, 力求面面俱到, 但不会涉及每个函数. 对于更多函数及其用法, 读者可通过在 IPython/Notebook 中使用函数名加 `?` 查看帮助文档, 或查阅 PyTorch 官方文档."
   ]
  },
  {
   "cell_type": "code",
   "execution_count": 1,
   "metadata": {
    "id": "eCsTkYQeu10i",
    "colab": {
     "base_uri": "https://localhost:8080/",
     "height": 35
    },
    "outputId": "d7d719fc-d74f-4c25-93bd-6ee738cfe7f2"
   },
   "outputs": [
    {
     "output_type": "execute_result",
     "data": {
      "text/plain": [
       "'2.4.1+cu121'"
      ],
      "application/vnd.google.colaboratory.intrinsic+json": {
       "type": "string"
      }
     },
     "metadata": {},
     "execution_count": 1
    }
   ],
   "source": [
    "import torch as t\n",
    "\n",
    "# 查看 PyTorch 的版本号\n",
    "t.__version__"
   ]
  },
  {
   "cell_type": "markdown",
   "metadata": {
    "id": "b-mXgu9su10j"
   },
   "source": [
    "### 3.1.1 Tensor 的基本操作\n",
    "\n",
    "学习过 NumPy 的读者会对本节内容感到非常熟悉, 因为 Tensor 的接口设计得与 Numpy 类似, 以方便用户使用. 当然, 若读者不熟悉 Numpy 也没关系, 本节内容并不要求读者事先掌握 Numpy.\n",
    "\n",
    "从接口的角度来讲, 对 Tensor 的操作可分为两类:\n",
    "\n",
    "1. `torch.function`, 如 `torch.save` 等.\n",
    "2. `Tensor.function`, 如 `Tensor.view` 等.\n",
    "\n",
    "为方便使用, 对 Tensor 的大部分操作同时支持这两类接口, 在本书中不做具体区分, 如 `torch.sum(a, b)` 与 `a.sum(b)` 功能等价.\n",
    "\n",
    "而从存储的角度来讲, 对 Tensor的 操作又可分为两类:\n",
    "\n",
    "1. 不会修改自身的数据, 如 `a.add(b)`, 加法的结果会返回一个新的 Tensor.\n",
    "2. 会修改自身的数据, 如 `a.add_(b)`, 加法的结果仍存储在 a 中, a 被修改了.\n",
    "\n",
    "函数名以 `_` 结尾的都是 inplace 方式, 即会修改调用者自己的数据, 在实际应用中需加以区分.\n",
    "\n",
    "#### 创建 Tensor\n",
    "\n",
    "在 PyTorch 中创建 Tensor 的方法有很多, 具体如表 3-1 所示:\n",
    "\n",
    "表3-1: 常见创建 Tensor 的方法\n",
    "\n",
    "|函数|功能|\n",
    "|:---:|:---:|\n",
    "|Tensor(\\*sizes)|基础构造函数|\n",
    "|tensor(data,)|类似np.array的构造函数|\n",
    "|ones(\\*sizes)|全1的Tensor|\n",
    "|zeros(\\*sizes)|全0的Tensor|\n",
    "|eye(\\*sizes)|对角线为1, 其他为0|\n",
    "|arange(s,e,step)|从s到e, 步长为step|\n",
    "|linspace(s,e,steps)|从s到e, 均匀切分成steps份|\n",
    "|rand / randn(\\*sizes)|均匀/标准分布|\n",
    "|normal(mean,std) / uniform(from,to)|正态分布/均匀分布|\n",
    "|randperm(m)|随机排列|\n",
    "|tensor.new_\\* / torch.\\*_like | 创建一个相同size大小, 用*类型去填充(如tensor.new_ones就是使用全一的数据去填充)的张量, 具有相同的torch.dtype和torch.device|\n",
    "\n",
    "这些创建方法都可以在创建的时候指定数据类型 dtype 和存放 device(CPU/GPU).\n",
    "\n",
    "使用 `Tensor` 函数新建 Tensor 可以接收一个 list, 并根据 list 的数据新建 Tensor, 同时也能根据指定的形状新建 Tensor, 还能传入其他的 Tensor, 下面将举几个例子说明.\n"
   ]
  },
  {
   "cell_type": "code",
   "execution_count": 2,
   "metadata": {
    "id": "eexuf4VQu10j",
    "colab": {
     "base_uri": "https://localhost:8080/"
    },
    "outputId": "ca19d0d8-3d71-4d29-d41e-8b5f86bf055c"
   },
   "outputs": [
    {
     "output_type": "execute_result",
     "data": {
      "text/plain": [
       "tensor([[2.3533e+00, 4.3742e-41, 2.3533e+00],\n",
       "        [4.3742e-41, 0.0000e+00, 0.0000e+00]])"
      ]
     },
     "metadata": {},
     "execution_count": 2
    }
   ],
   "source": [
    "# 指定 Tensor 的形状\n",
    "a = t.Tensor(2, 3)\n",
    "a  # 数值取决于内存空间的状态, print 时候可能 overflow"
   ]
  },
  {
   "cell_type": "code",
   "execution_count": 3,
   "metadata": {
    "id": "sr4M33yxu10k",
    "colab": {
     "base_uri": "https://localhost:8080/"
    },
    "outputId": "f0fead7d-0e66-4e73-97d4-34ad198dd4f0"
   },
   "outputs": [
    {
     "output_type": "execute_result",
     "data": {
      "text/plain": [
       "tensor([[1., 2., 3.],\n",
       "        [4., 5., 6.]])"
      ]
     },
     "metadata": {},
     "execution_count": 3
    }
   ],
   "source": [
    "# 用 list 的数据创建 Tensor\n",
    "b = t.Tensor([[1, 2, 3], [4, 5, 6]])\n",
    "b"
   ]
  },
  {
   "cell_type": "code",
   "execution_count": 4,
   "metadata": {
    "id": "ddixHxc2u10k",
    "colab": {
     "base_uri": "https://localhost:8080/"
    },
    "outputId": "612b4aec-7b8e-47aa-e55d-318349e319a3"
   },
   "outputs": [
    {
     "output_type": "execute_result",
     "data": {
      "text/plain": [
       "[[1.0, 2.0, 3.0], [4.0, 5.0, 6.0]]"
      ]
     },
     "metadata": {},
     "execution_count": 4
    }
   ],
   "source": [
    "b.tolist()  # 把 Tensor 转为 list"
   ]
  },
  {
   "cell_type": "markdown",
   "metadata": {
    "id": "O2ezSVQou10k"
   },
   "source": [
    "`tensor.size()` 返回 `torch.Size` 对象, 它是 tuple 的子类, 但其使用方式与 tuple 略有区别."
   ]
  },
  {
   "cell_type": "code",
   "execution_count": 5,
   "metadata": {
    "id": "9jqGlMfGu10k",
    "colab": {
     "base_uri": "https://localhost:8080/"
    },
    "outputId": "dbeab5b8-0f20-442c-c215-aebcf54ec92f"
   },
   "outputs": [
    {
     "output_type": "execute_result",
     "data": {
      "text/plain": [
       "torch.Size([2, 3])"
      ]
     },
     "metadata": {},
     "execution_count": 5
    }
   ],
   "source": [
    "b_size = b.size()\n",
    "b_size"
   ]
  },
  {
   "cell_type": "code",
   "execution_count": 6,
   "metadata": {
    "id": "xoM0w3dnu10k",
    "colab": {
     "base_uri": "https://localhost:8080/"
    },
    "outputId": "4f085d7e-c400-4ef7-bab6-d8c1a48d715e"
   },
   "outputs": [
    {
     "output_type": "execute_result",
     "data": {
      "text/plain": [
       "(6, 6)"
      ]
     },
     "metadata": {},
     "execution_count": 6
    }
   ],
   "source": [
    "# 统计 b 中元素总个数, 2*3, 两种方式等价\n",
    "b.numel(), b.nelement()"
   ]
  },
  {
   "cell_type": "code",
   "execution_count": 7,
   "metadata": {
    "id": "n9lE8Vgcu10l",
    "colab": {
     "base_uri": "https://localhost:8080/"
    },
    "outputId": "aa2ba876-0bb5-4c9d-a88e-71bb936d948e"
   },
   "outputs": [
    {
     "output_type": "execute_result",
     "data": {
      "text/plain": [
       "(tensor([[-2.4697e-23,  3.1354e-41, -3.3753e+37],\n",
       "         [ 4.3740e-41,  1.4013e-45,  0.0000e+00]]),\n",
       " tensor([2., 3.]))"
      ]
     },
     "metadata": {},
     "execution_count": 7
    }
   ],
   "source": [
    "# 创建一个和 b 形状一样的 Tensor c\n",
    "c = t.Tensor(b_size)\n",
    "\n",
    "# 创建一个元素为 2 和 3 的 Tensor d\n",
    "d = t.Tensor((2, 3))\n",
    "c, d"
   ]
  },
  {
   "cell_type": "markdown",
   "metadata": {
    "id": "cVAE2YQxu10l"
   },
   "source": [
    "需要注意的是, `t.Tensor(*sizes)` 创建 Tensor 时, 系统不会马上分配空间, 只是会计算剩余的内存是否足够使用, 在真正使用到 Tensor 时才会分配, 而其它操作都是在创建完 Tensor 之后马上进行空间分配. 在使用中, 我们更推荐使用 `torch.tensor` 而非 `torch.Tensor`. 接下来比较一下两者的区别.\n",
    "\n",
    "`torch.Tensor` 是Python类, 并且默认是 torch.FloatTensor(), 运行 `torch.Tensor([2,3])` 会直接调用 Tensor 类的构造函数 `__init__()`, 生成结果是单精度浮点类型的 Tensor(FloatTensor).\n",
    "\n",
    "而 `torch.tensor()` 是一个 Python 函数, 函数的原型为: `torch.tensor(data, dtype=None, device=None, requires_grad=False)`. 其中 `data` 支持 list、tuple、array、scalar 等类型, `torch.tensor()` 直接从 `data` 中做数据拷贝, 并根据原数据类型生成相应的 Tensor.\n",
    "\n",
    "由于 `torch.tensor()` 能够根据数据类型生成对应的 Tensor, 因此在实际应用中我们更加推荐使用 `torch.tensor()` 方法来创建一个新的 Tensor. 下面将举例说明二者的不同之处."
   ]
  },
  {
   "cell_type": "code",
   "execution_count": 8,
   "metadata": {
    "pycharm": {
     "name": "#%%\n"
    },
    "id": "RV0t_buDu10l",
    "colab": {
     "base_uri": "https://localhost:8080/"
    },
    "outputId": "dd00eb12-2230-441c-84b5-58c09bb5c23f"
   },
   "outputs": [
    {
     "output_type": "execute_result",
     "data": {
      "text/plain": [
       "tensor([])"
      ]
     },
     "metadata": {},
     "execution_count": 8
    }
   ],
   "source": [
    "# torch.Tensor 能直接创建空的张量\n",
    "t.Tensor()"
   ]
  },
  {
   "cell_type": "code",
   "execution_count": 9,
   "metadata": {
    "pycharm": {
     "name": "#%%\n"
    },
    "id": "opHMBRqyu10l",
    "colab": {
     "base_uri": "https://localhost:8080/"
    },
    "outputId": "b39b9cc6-76db-4360-9dba-c87b08fbb288"
   },
   "outputs": [
    {
     "output_type": "execute_result",
     "data": {
      "text/plain": [
       "tensor([])"
      ]
     },
     "metadata": {},
     "execution_count": 9
    }
   ],
   "source": [
    "# torch.tensor 不能直接创建空的张量, 需要传入一个空的 data\n",
    "# t.tensor()\n",
    "# TypeError: tensor() missing 1 required positional arguments: \"data\"\n",
    "\n",
    "t.tensor(())"
   ]
  },
  {
   "cell_type": "code",
   "execution_count": 10,
   "metadata": {
    "id": "QDIDj82Eu10l",
    "colab": {
     "base_uri": "https://localhost:8080/"
    },
    "outputId": "b92e4fb7-5922-4556-ac18-21e7c076fdec"
   },
   "outputs": [
    {
     "output_type": "stream",
     "name": "stdout",
     "text": [
      "torch.LongTensor\n",
      "torch.FloatTensor\n"
     ]
    }
   ],
   "source": [
    "a = t.tensor([2, 3])\n",
    "print(a.type())\n",
    "b = t.Tensor([2, 3])\n",
    "print(b.type())"
   ]
  },
  {
   "cell_type": "code",
   "execution_count": 11,
   "metadata": {
    "id": "q9z3CAlCu10m",
    "colab": {
     "base_uri": "https://localhost:8080/"
    },
    "outputId": "9995df99-2c10-4bc1-cb5a-68e46f0414b5"
   },
   "outputs": [
    {
     "output_type": "execute_result",
     "data": {
      "text/plain": [
       "tensor([[1., 1., 1.],\n",
       "        [1., 1., 1.]], dtype=torch.float64)"
      ]
     },
     "metadata": {},
     "execution_count": 11
    }
   ],
   "source": [
    "import numpy as np\n",
    "\n",
    "arr = np.ones((2, 3), dtype=np.float64)\n",
    "a = t.tensor(arr)\n",
    "a"
   ]
  },
  {
   "cell_type": "markdown",
   "metadata": {
    "id": "LXgtcAsAu10m"
   },
   "source": [
    "其它常用的创建 Tensor 方法举例如下."
   ]
  },
  {
   "cell_type": "code",
   "execution_count": 12,
   "metadata": {
    "id": "B1ZVsgbTu10m",
    "colab": {
     "base_uri": "https://localhost:8080/"
    },
    "outputId": "9155febf-1c15-4eb8-ba1f-fa18d93716ad"
   },
   "outputs": [
    {
     "output_type": "execute_result",
     "data": {
      "text/plain": [
       "tensor([[1., 1., 1.],\n",
       "        [1., 1., 1.]])"
      ]
     },
     "metadata": {},
     "execution_count": 12
    }
   ],
   "source": [
    "# 创建一个形状是 (2, 3) 值全为 1 的 Tensor\n",
    "t.ones(2, 3)"
   ]
  },
  {
   "cell_type": "markdown",
   "metadata": {
    "id": "uDmSES6Ru10m"
   },
   "source": [
    "与 `torch.ones()` 类似的函数还有 `torch.ones_like(input)`, 输入 `input` 是一个 Tensor, 返回一个与之大小相同的全部填充为 1 的新 Tensor. 这意味着, `torch.ones_like(input)` 等价于 `torch.ones(input.size(), dtype=input.dtype, layout=input.layout, device=input.device)`."
   ]
  },
  {
   "cell_type": "code",
   "execution_count": 13,
   "metadata": {
    "id": "duw1ruuVu10m",
    "colab": {
     "base_uri": "https://localhost:8080/"
    },
    "outputId": "cf27f06d-0788-4bd0-8e95-e6b35bab98a5"
   },
   "outputs": [
    {
     "output_type": "execute_result",
     "data": {
      "text/plain": [
       "tensor([[1, 1, 1],\n",
       "        [1, 1, 1]])"
      ]
     },
     "metadata": {},
     "execution_count": 13
    }
   ],
   "source": [
    "input_tensor = t.tensor([[1, 2, 3], [4, 5, 6]])\n",
    "t.ones_like(input_tensor)"
   ]
  },
  {
   "cell_type": "code",
   "execution_count": 14,
   "metadata": {
    "id": "TJXpPJL_u10m",
    "colab": {
     "base_uri": "https://localhost:8080/"
    },
    "outputId": "299b5b3f-d28d-4aaf-8fdb-99d7c9d4b7f1"
   },
   "outputs": [
    {
     "output_type": "execute_result",
     "data": {
      "text/plain": [
       "tensor([[0., 0., 0.],\n",
       "        [0., 0., 0.]])"
      ]
     },
     "metadata": {},
     "execution_count": 14
    }
   ],
   "source": [
    "# 创建一个形状是 (2, 3) 的全 0 的 Tensor\n",
    "t.zeros(2, 3)"
   ]
  },
  {
   "cell_type": "code",
   "execution_count": 15,
   "metadata": {
    "id": "ESdEPc-Xu10m",
    "colab": {
     "base_uri": "https://localhost:8080/"
    },
    "outputId": "4181cefd-7467-495b-aa81-18550122e896"
   },
   "outputs": [
    {
     "output_type": "execute_result",
     "data": {
      "text/plain": [
       "tensor([[1, 0, 0],\n",
       "        [0, 1, 0]], dtype=torch.int32)"
      ]
     },
     "metadata": {},
     "execution_count": 15
    }
   ],
   "source": [
    "# 创建一个对角线为 1, 其余为 0 的 Tensor, 不要求行列数一致\n",
    "t.eye(2, 3, dtype=t.int)"
   ]
  },
  {
   "cell_type": "code",
   "execution_count": 16,
   "metadata": {
    "id": "AdDbzCbVu10n",
    "colab": {
     "base_uri": "https://localhost:8080/"
    },
    "outputId": "3e2133ea-8e21-4f4c-af84-3763c90648cf"
   },
   "outputs": [
    {
     "output_type": "execute_result",
     "data": {
      "text/plain": [
       "tensor([1, 3, 5])"
      ]
     },
     "metadata": {},
     "execution_count": 16
    }
   ],
   "source": [
    "# 创建一个起始值为 1, 上限为 6, 步长为 2 的 Tensor\n",
    "t.arange(1, 6, 2)"
   ]
  },
  {
   "cell_type": "code",
   "execution_count": 17,
   "metadata": {
    "id": "GfilpLYyu10n",
    "colab": {
     "base_uri": "https://localhost:8080/"
    },
    "outputId": "6238a7ed-35a4-4186-8afa-e88bd2032d22"
   },
   "outputs": [
    {
     "output_type": "execute_result",
     "data": {
      "text/plain": [
       "tensor([ 1.0000,  5.5000, 10.0000])"
      ]
     },
     "metadata": {},
     "execution_count": 17
    }
   ],
   "source": [
    "# 创建一个均匀间距的 Tensor, 将 1 到 10 的数分为 3 份\n",
    "t.linspace(1, 10, 3)"
   ]
  },
  {
   "cell_type": "code",
   "execution_count": 18,
   "metadata": {
    "id": "be4GhKQGu10n",
    "colab": {
     "base_uri": "https://localhost:8080/"
    },
    "outputId": "1630b449-abdd-438d-c2ab-aeb337e63513"
   },
   "outputs": [
    {
     "output_type": "execute_result",
     "data": {
      "text/plain": [
       "tensor([[ 1.6744,  1.7029,  0.1849],\n",
       "        [-1.4183, -0.2134, -2.2111]])"
      ]
     },
     "metadata": {},
     "execution_count": 18
    }
   ],
   "source": [
    "# 创建一个形状是 (2, 3) 的 Tensor, 其取值为从标准正态分布中抽取的随机数\n",
    "t.randn(2, 3)"
   ]
  },
  {
   "cell_type": "code",
   "execution_count": 19,
   "metadata": {
    "id": "gnn03gKZu10n",
    "colab": {
     "base_uri": "https://localhost:8080/"
    },
    "outputId": "daeb1a52-2c5b-43aa-8fcb-0de53d851af4"
   },
   "outputs": [
    {
     "output_type": "execute_result",
     "data": {
      "text/plain": [
       "tensor([0, 3, 1, 4, 2])"
      ]
     },
     "metadata": {},
     "execution_count": 19
    }
   ],
   "source": [
    "# 创建一个长度为 5 的随机排列的 Tensor\n",
    "t.randperm(5)"
   ]
  },
  {
   "cell_type": "code",
   "execution_count": 20,
   "metadata": {
    "id": "U9UXD_epu10n",
    "colab": {
     "base_uri": "https://localhost:8080/"
    },
    "outputId": "37fda8fe-62fd-4f5f-bfd0-80815c38ed95"
   },
   "outputs": [
    {
     "output_type": "execute_result",
     "data": {
      "text/plain": [
       "tensor([[1, 1, 1],\n",
       "        [1, 1, 1]], dtype=torch.int32)"
      ]
     },
     "metadata": {},
     "execution_count": 20
    }
   ],
   "source": [
    "# 创建一个大小为 (2, 3) 值全 1 的Tensor, 保留原始的 torch.dtype 和 torch.device\n",
    "tensor3 = t.tensor((), dtype=t.int32)\n",
    "tensor3.new_ones((2, 3))"
   ]
  },
  {
   "cell_type": "markdown",
   "metadata": {
    "id": "ztQpLp5Lu10n"
   },
   "source": [
    "#### 命名张量\n",
    "\n",
    "命名张量(Named Tensors)旨在允许用户将显式名称与张量维度关联起来, 使张量更易于使用. 在大多数情况下, 使用维度名称来进行维度操作, 从而避免了按位置确定维度的需要. 此外, 命名张量使用名称来自动检查 API 是否在运行时正确使用, 从而提供额外的安全性. 名称还可用于重新排列维度, 例如, 支\"按名称广播\"而不是\"按位置广播\"等等. 现在允许张量拥有命名维度的工厂函数(factory functions)有: tensor, empty, ones, zeros, randn 等等.\n",
    "\n",
    "下面将以深度学习中常用的维度来举例说明命名张量的使用, 其中 `N` 代表 batch_size, `C` 代表通道数, `H` 代表高度, `W` 代表宽度."
   ]
  },
  {
   "cell_type": "code",
   "execution_count": 21,
   "metadata": {
    "id": "meJUzf9Du10n",
    "colab": {
     "base_uri": "https://localhost:8080/"
    },
    "outputId": "56099a3a-daa9-4685-c9ff-4a12d0252498"
   },
   "outputs": [
    {
     "output_type": "execute_result",
     "data": {
      "text/plain": [
       "tensor([[[[-0.6862,  0.6183,  1.2738],\n",
       "          [ 1.0361, -1.1061,  1.2310]],\n",
       "\n",
       "         [[ 0.1128,  1.8800, -0.7921],\n",
       "          [ 1.9595,  1.6170, -0.7782]]]], names=('N', 'C', 'H', 'W'))"
      ]
     },
     "metadata": {},
     "execution_count": 21
    }
   ],
   "source": [
    "# 命名张量 API 在后续还有可能还有变化, 所以系统会提示 warning, 在此忽略\n",
    "import warnings\n",
    "\n",
    "warnings.filterwarnings(\"ignore\")\n",
    "\n",
    "# 直接使用 names 参数创建命名张量\n",
    "imgs = t.randn(1, 2, 2, 3, names=(\"N\", \"C\", \"H\", \"W\"))\n",
    "imgs.names\n",
    "imgs"
   ]
  },
  {
   "cell_type": "code",
   "execution_count": 22,
   "metadata": {
    "pycharm": {
     "name": "#%%\n"
    },
    "id": "Bt7WzlHgu10o",
    "colab": {
     "base_uri": "https://localhost:8080/"
    },
    "outputId": "9f8f6a65-55a4-44d8-982c-1318746ff07d"
   },
   "outputs": [
    {
     "output_type": "execute_result",
     "data": {
      "text/plain": [
       "tensor([[[[-0.6862,  1.0361],\n",
       "          [ 0.6183, -1.1061],\n",
       "          [ 1.2738,  1.2310]],\n",
       "\n",
       "         [[ 0.1128,  1.9595],\n",
       "          [ 1.8800,  1.6170],\n",
       "          [-0.7921, -0.7782]]]], names=('N', 'C', 'W', 'H'))"
      ]
     },
     "metadata": {},
     "execution_count": 22
    }
   ],
   "source": [
    "# 查看旋转操作造成的维度变换\n",
    "imgs_rotate = imgs.transpose(2, 3)\n",
    "imgs_rotate.names\n",
    "imgs_rotate"
   ]
  },
  {
   "cell_type": "code",
   "execution_count": 23,
   "metadata": {
    "pycharm": {
     "name": "#%%\n"
    },
    "id": "fs68coH5u10o",
    "colab": {
     "base_uri": "https://localhost:8080/"
    },
    "outputId": "e75b86e7-086d-4608-c887-4258e91711ab"
   },
   "outputs": [
    {
     "output_type": "execute_result",
     "data": {
      "text/plain": [
       "('N', None, 'H', 'W')"
      ]
     },
     "metadata": {},
     "execution_count": 23
    }
   ],
   "source": [
    "# 通过 refine_names() 函数对未命名的张量命名, 其中不需要名字的可以用 None 表示\n",
    "another_imgs = t.rand(1, 3, 2, 2)\n",
    "another_imgs = another_imgs.refine_names(\"N\", None, \"H\", \"W\")\n",
    "another_imgs.names"
   ]
  },
  {
   "cell_type": "code",
   "execution_count": 24,
   "metadata": {
    "pycharm": {
     "name": "#%%\n"
    },
    "id": "Wx6FXmjLu10o",
    "colab": {
     "base_uri": "https://localhost:8080/"
    },
    "outputId": "46632ffa-49d7-4a4a-9152-0e83ae1d855b"
   },
   "outputs": [
    {
     "output_type": "execute_result",
     "data": {
      "text/plain": [
       "('N', 'C', 'height', 'width')"
      ]
     },
     "metadata": {},
     "execution_count": 24
    }
   ],
   "source": [
    "# 修改部分维度的名称\n",
    "renamed_imgs = imgs.rename(H=\"height\", W=\"width\")\n",
    "renamed_imgs.names"
   ]
  },
  {
   "cell_type": "code",
   "execution_count": 25,
   "metadata": {
    "pycharm": {
     "name": "#%%\n"
    },
    "id": "IcmhpEulu10o",
    "colab": {
     "base_uri": "https://localhost:8080/"
    },
    "outputId": "345223fd-dc4f-43dd-cb9e-67b9cee46550"
   },
   "outputs": [
    {
     "output_type": "execute_result",
     "data": {
      "text/plain": [
       "('N', 'height', 'width', 'C')"
      ]
     },
     "metadata": {},
     "execution_count": 25
    }
   ],
   "source": [
    "# 通过维度的名称做维度转换\n",
    "convert_imgs = renamed_imgs.align_to(\"N\", \"height\", \"width\", \"C\")\n",
    "convert_imgs.names"
   ]
  },
  {
   "cell_type": "markdown",
   "metadata": {
    "id": "8YdbF-Xou10o"
   },
   "source": [
    "命名张量还可以直观的用于说明 Tensor 的形状改变和维度增减, 这一部分将在 3.2 节进行详细介绍.\n",
    "\n",
    "#### Tensor 的类型\n",
    "\n",
    " Tensor 有不同的数据类型, 如表 3-2 所示, 每种类型分别对应有 CPU 和 GPU 版本(HalfTensor 除外). 默认的 Tensor 是 FloatTensor, 可通过 `torch.set_default_tensor_type` 来修改默认 Tensor 类型(如果默认类型为 GPU tensor, 则所有操作都将在 GPU 上进行). Tensor 的类型对分析内存占用很有帮助. 例如, 一个 size 为 (1000, 1000, 1000) 的 FloatTensor, 它有`1000*1000*1000=10^9` 个元素, 每个元素占 32bit/8 = 4Byte 内存, 所以共占大约 4GB 内存/显存.\n",
    "\n",
    " HalfTensor 是专门为 GPU 版本设计的, 同样的元素个数, 显存占用只有 FloatTensor 的一半, 所以可以极大缓解 GPU 显存不足的问题, 但由于 HalfTensor 所能表示的数值大小和精度有限, 所以可能出现溢出等问题.\n",
    "\n",
    "\n",
    "表3-2: Tensor 数据类型\n",
    "\n",
    "| Data type | dtype | CPU tensor   | GPU tensor   |\n",
    "| ------------------------ | --------------------------------- | ----------------------------------------- | ------------------------- |\n",
    "| 32-bit 浮点型   | `torch.float32` or `torch.float`  | `torch.FloatTensor`  | `torch.cuda.FloatTensor`  |\n",
    "| 64-bit 浮点型   | `torch.float64` or `torch.double` | `torch.DoubleTensor` | `torch.cuda.DoubleTensor` |\n",
    "| 16-bit 半精度浮点型    | `torch.float16` or `torch.half`  | `torch.HalfTensor`| `torch.cuda.HalfTensor`|\n",
    "| 8-bit无符号整型 | `torch.uint8`  | `torch.ByteTensor`| `torch.cuda.ByteTensor`|\n",
    "| 8-bit有符号整型  | `torch.int8`  | `torch.CharTensor`| `torch.cuda.CharTensor`|\n",
    "| 16-bit有符号整型  | `torch.int16` or `torch.short`   | `torch.ShortTensor` | `torch.cuda.ShortTensor`  |\n",
    "| 32-bit有符号整型 | `torch.int32` or `torch.int`  | `torch.IntTensor` | `torch.cuda.IntTensor` |\n",
    "| 64-bit有符号整型  | `torch.int64` or `torch.long`  | `torch.LongTensor` | `torch.cuda.LongTensor`|\n",
    "\n",
    "\n",
    "不同 Tensor 类型之间是可以互相转换的, 下面是常用的三种转换方法:\n",
    "\n",
    "1. 各种数据类型之间可以互相转换, `type(new_type)` 是通用的做法, 同时还有 `float`、`long`、`half` 等快捷方法；\n",
    "2. CPU Tensor 与 GPU Tensor之 间的互相转换通过 `tensor.cuda` 和 `tensor.cpu` 方法实现, 此外还可以使用` tensor.to(device)`\n",
    "3. 创建同种类型的张量: `torch.*_like` 和 `tensor.new_*`. Tensor 还有一个 `new` 方法, 用法与 `torch.Tensor` 一样, 会调用该 Tensor 对应类型的构造函数, 生成与当前 Tensor 类型一致的 Tensor. 如 `torch.*_like(tensorA)` 可以生成和 `tensorA` 拥有同样属性(类型, 形状, CPU/GPU)的新 Tensor, 例如 `torch.ones_like()`, 而 `tensor.new_*(new_shape)` 可以新建一个不同形状的 Tensor, 例如 `tensor.new_zeros()`.\n",
    "\n",
    "下面将举例说明 Tensor 之间的转换:"
   ]
  },
  {
   "cell_type": "code",
   "execution_count": 26,
   "metadata": {
    "id": "xo5BzyB0u10o",
    "colab": {
     "base_uri": "https://localhost:8080/"
    },
    "outputId": "e77dbd27-c9ab-4947-eed2-8c97d4c27b16"
   },
   "outputs": [
    {
     "output_type": "stream",
     "name": "stdout",
     "text": [
      "torch.float32\n",
      "torch.float32\n",
      "torch.float64\n"
     ]
    },
    {
     "output_type": "execute_result",
     "data": {
      "text/plain": [
       "torch.float32"
      ]
     },
     "metadata": {},
     "execution_count": 26
    }
   ],
   "source": [
    "print(t.get_default_dtype())\n",
    "# 更改默认 Tensor 的类型\n",
    "a = t.rand(2, 3)\n",
    "print(a.dtype)\n",
    "\n",
    "# 设置默认类型为 DoubleTensor\n",
    "t.set_default_dtype(t.float64)\n",
    "a = t.rand(2, 3)\n",
    "print(a.dtype)\n",
    "\n",
    "# 恢复之前的默认设置\n",
    "t.set_default_dtype(t.float32)\n",
    "t.get_default_dtype()"
   ]
  },
  {
   "cell_type": "code",
   "execution_count": 27,
   "metadata": {
    "id": "lUI2-6Hiu10p",
    "colab": {
     "base_uri": "https://localhost:8080/"
    },
    "outputId": "b5270322-b3f5-458a-e33f-eefb59225dd4"
   },
   "outputs": [
    {
     "output_type": "stream",
     "name": "stdout",
     "text": [
      "torch.float32\n",
      "torch.float64\n"
     ]
    },
    {
     "output_type": "execute_result",
     "data": {
      "text/plain": [
       "(torch.float64, torch.float32, torch.float32)"
      ]
     },
     "metadata": {},
     "execution_count": 27
    }
   ],
   "source": [
    "print(t.get_default_dtype())\n",
    "print(a.dtype)\n",
    "\n",
    "# 通过 type 方法和快捷方法修改 Tensor 的类型\n",
    "b1 = a.type(t.FloatTensor)\n",
    "b2 = a.float()\n",
    "a.dtype, b1.dtype, b2.dtype"
   ]
  },
  {
   "cell_type": "code",
   "execution_count": 28,
   "metadata": {
    "id": "0Ma5zIptu10p",
    "colab": {
     "base_uri": "https://localhost:8080/"
    },
    "outputId": "24875b89-3abe-46ee-ca1f-0b20cdffdecd"
   },
   "outputs": [
    {
     "output_type": "execute_result",
     "data": {
      "text/plain": [
       "tensor([[4.2522e+180, 7.4854e+247, 2.3236e+251],\n",
       "        [6.1113e+223, 2.5990e-144, 1.9321e+184]], dtype=torch.float64)"
      ]
     },
     "metadata": {},
     "execution_count": 28
    }
   ],
   "source": [
    "# new 方法相当于利用 DoubleTensor 的构造函数, 因为此时 a 是 torch.float64 类型\n",
    "# pytorch 2.4 的文档中没有找到 new 方法\n",
    "a.new(2, 3)"
   ]
  },
  {
   "cell_type": "markdown",
   "metadata": {
    "id": "wXRdFL7Su10p"
   },
   "source": [
    "#### 索引操作\n",
    "\n",
    "Tensor 支持与 numpy.ndarray 类似的索引操作, 语法上也类似, 下面将通过一些例子讲解常用的索引操作. 其中, 能通过修改张量 stride/start/dim 等属性实现的索引操作与原 Tensor 共享内存, 也就是说如果修改其中一个, 另一个会跟着修改. 关于索引操作更详细的内容将在本书第六章中进行讲解."
   ]
  },
  {
   "cell_type": "code",
   "execution_count": 29,
   "metadata": {
    "id": "mCWbVuDTu10p",
    "colab": {
     "base_uri": "https://localhost:8080/"
    },
    "outputId": "908768d7-f1b1-4ef9-9d6c-d6d00ce1c849"
   },
   "outputs": [
    {
     "output_type": "execute_result",
     "data": {
      "text/plain": [
       "tensor([[ 0.1183, -0.1970, -1.1688, -0.8730],\n",
       "        [ 0.7523,  0.7478, -0.6928, -1.6453],\n",
       "        [-0.0370,  1.0595,  1.3300, -0.9504]])"
      ]
     },
     "metadata": {},
     "execution_count": 29
    }
   ],
   "source": [
    "a = t.randn(3, 4)\n",
    "a"
   ]
  },
  {
   "cell_type": "code",
   "execution_count": 30,
   "metadata": {
    "id": "2LEVFRtYu10p",
    "colab": {
     "base_uri": "https://localhost:8080/"
    },
    "outputId": "dabd7061-3d06-41d0-f066-8d51904b6f6b"
   },
   "outputs": [
    {
     "output_type": "stream",
     "name": "stdout",
     "text": [
      "查看第 1 行结果:  tensor([ 0.1183, -0.1970, -1.1688, -0.8730])\n",
      "查看第 2 列结果:  tensor([-0.1970,  0.7478,  1.0595])\n",
      "查看第 2 行最后两个元素:  tensor([-0.6928, -1.6453])\n"
     ]
    }
   ],
   "source": [
    "print(\"查看第 1 行结果: \", a[0])\n",
    "print(\"查看第 2 列结果: \", a[:, 1])\n",
    "print(\"查看第 2 行最后两个元素: \", a[1, -2:])"
   ]
  },
  {
   "cell_type": "code",
   "execution_count": 31,
   "metadata": {
    "id": "VbKcJGO8u10t",
    "colab": {
     "base_uri": "https://localhost:8080/"
    },
    "outputId": "1a0e40e5-d637-4e69-9af8-f63078761d6f"
   },
   "outputs": [
    {
     "output_type": "stream",
     "name": "stdout",
     "text": [
      "tensor([[ True, False, False, False],\n",
      "        [ True,  True, False, False],\n",
      "        [False,  True,  True, False]])\n",
      "tensor([[1, 0, 0, 0],\n",
      "        [1, 1, 0, 0],\n",
      "        [0, 1, 1, 0]], dtype=torch.int32)\n"
     ]
    }
   ],
   "source": [
    "# 返回一个 ByteTensor\n",
    "print(a > 0)  # bool 型\n",
    "print((a > 0).int())  # 整型"
   ]
  },
  {
   "cell_type": "code",
   "execution_count": 32,
   "metadata": {
    "id": "kj1mnH0Iu10t",
    "colab": {
     "base_uri": "https://localhost:8080/"
    },
    "outputId": "bcf91430-53f5-4f69-dee3-5e9d41094b05"
   },
   "outputs": [
    {
     "output_type": "stream",
     "name": "stdout",
     "text": [
      "tensor([0.1183, 0.7523, 0.7478, 1.0595, 1.3300])\n",
      "tensor([0.1183, 0.7523, 0.7478, 1.0595, 1.3300])\n",
      "tensor([[0.1183, 0.0000, 0.0000, 0.0000],\n",
      "        [0.7523, 0.7478, 0.0000, 0.0000],\n",
      "        [0.0000, 1.0595, 1.3300, 0.0000]])\n"
     ]
    }
   ],
   "source": [
    "# 返回 Tensor 中满足条件的结果, 下面两种写法等价\n",
    "# 选择返回的结果与原 Tensor 不共享内存空间\n",
    "print(a[a > 0])\n",
    "print(a.masked_select(a > 0))\n",
    "\n",
    "# 用 torch.where 保留原始的索引位置, 不满足条件的位置置 0\n",
    "print(t.where(a > 0, a, t.zeros_like(a)))"
   ]
  },
  {
   "cell_type": "markdown",
   "metadata": {
    "id": "qzNobagiu10t"
   },
   "source": [
    "其它常用的选择函数如表 3-3 所示.\n",
    "\n",
    "表 3-3 常用的选择函数\n",
    "\n",
    "函数|功能|\n",
    ":---:|:---:|\n",
    "index_select(input, dim, index)|在指定维度dim上选取, 比如选取某些行、某些列\n",
    "masked_select(input, mask)|例子如上, a[a>0], 使用ByteTensor进行选取\n",
    "non_zero(input)|非0元素的下标\n",
    "gather(input, dim, index)|根据index, 在dim维度上选取数据, 输出的size与index一样\n",
    "\n",
    "`gather` 是一个比较复杂的操作, 对一个 2 维 Tensor, 输出的每个元素如下:\n",
    "\n",
    "```python\n",
    "out[i][j] = input[index[i][j]][j]  # dim=0\n",
    "out[i][j] = input[i][index[i][j]]  # dim=1\n",
    "```"
   ]
  },
  {
   "cell_type": "code",
   "execution_count": 33,
   "metadata": {
    "id": "6MuNFuqOu10u",
    "colab": {
     "base_uri": "https://localhost:8080/"
    },
    "outputId": "ebf4c325-cb77-45ed-8da8-473df7e7c3e3"
   },
   "outputs": [
    {
     "output_type": "execute_result",
     "data": {
      "text/plain": [
       "tensor([[ 0,  1,  2,  3],\n",
       "        [ 4,  5,  6,  7],\n",
       "        [ 8,  9, 10, 11],\n",
       "        [12, 13, 14, 15]])"
      ]
     },
     "metadata": {},
     "execution_count": 33
    }
   ],
   "source": [
    "a = t.arange(0, 16).view(4, 4)\n",
    "a"
   ]
  },
  {
   "cell_type": "code",
   "execution_count": 34,
   "metadata": {
    "id": "3s_jktQIu10u",
    "colab": {
     "base_uri": "https://localhost:8080/"
    },
    "outputId": "21db6472-d0b7-4b03-e874-6eec01548b05"
   },
   "outputs": [
    {
     "output_type": "execute_result",
     "data": {
      "text/plain": [
       "tensor([[ 0,  5, 10, 15]])"
      ]
     },
     "metadata": {},
     "execution_count": 34
    }
   ],
   "source": [
    "# 选取对角线的元素\n",
    "index = t.tensor([[0, 1, 2, 3]])\n",
    "a.gather(0, index)"
   ]
  },
  {
   "cell_type": "code",
   "execution_count": 35,
   "metadata": {
    "id": "yygMVQvSu10u",
    "colab": {
     "base_uri": "https://localhost:8080/"
    },
    "outputId": "5ba7daa4-622b-490d-982c-102a300cab32"
   },
   "outputs": [
    {
     "output_type": "stream",
     "name": "stdout",
     "text": [
      "tensor([[3],\n",
      "        [2],\n",
      "        [1],\n",
      "        [0]])\n"
     ]
    },
    {
     "output_type": "execute_result",
     "data": {
      "text/plain": [
       "tensor([[ 3],\n",
       "        [ 6],\n",
       "        [ 9],\n",
       "        [12]])"
      ]
     },
     "metadata": {},
     "execution_count": 35
    }
   ],
   "source": [
    "# 选取反对角线上的元素\n",
    "index = t.tensor([[3, 2, 1, 0]]).t()\n",
    "print(index)\n",
    "a.gather(1, index)"
   ]
  },
  {
   "cell_type": "code",
   "execution_count": 36,
   "metadata": {
    "id": "V8cFHfGru10u",
    "colab": {
     "base_uri": "https://localhost:8080/"
    },
    "outputId": "9ffc2508-b709-4b9d-a3b2-7ed30fd8ea84"
   },
   "outputs": [
    {
     "output_type": "stream",
     "name": "stdout",
     "text": [
      "tensor([[0, 3],\n",
      "        [1, 2],\n",
      "        [2, 1],\n",
      "        [3, 0]])\n"
     ]
    },
    {
     "output_type": "execute_result",
     "data": {
      "text/plain": [
       "tensor([[ 0,  3],\n",
       "        [ 5,  6],\n",
       "        [10,  9],\n",
       "        [15, 12]])"
      ]
     },
     "metadata": {},
     "execution_count": 36
    }
   ],
   "source": [
    "# 选取两个对角线上的元素\n",
    "index = t.tensor([[0, 1, 2, 3], [3, 2, 1, 0]]).t()\n",
    "print(index)\n",
    "b = a.gather(1, index)\n",
    "b"
   ]
  },
  {
   "cell_type": "markdown",
   "metadata": {
    "id": "fRx6ZB6yu10u"
   },
   "source": [
    "与 `gather` 相对应的逆操作是 `scatter_`, `gather` 把数据从 input 中按 index 取出, 而 `scatter_` 是把取出的数据再放回去. 注意 `scatter_` 函数是 inplace 操作, 会直接对当前数据进行修改.\n",
    "\n",
    "```python\n",
    "out = input.gather(dim, index)\n",
    "-->近似逆操作\n",
    "out = Tensor()\n",
    "out.scatter_(dim, index)\n",
    "```"
   ]
  },
  {
   "cell_type": "code",
   "execution_count": 37,
   "metadata": {
    "id": "LcACzg6Wu10u",
    "colab": {
     "base_uri": "https://localhost:8080/"
    },
    "outputId": "a841b3eb-b984-40ac-cf50-62af588174ee"
   },
   "outputs": [
    {
     "output_type": "stream",
     "name": "stdout",
     "text": [
      "tensor([[0, 0, 0, 0],\n",
      "        [0, 0, 0, 0],\n",
      "        [0, 0, 0, 0],\n",
      "        [0, 0, 0, 0]])\n"
     ]
    },
    {
     "output_type": "execute_result",
     "data": {
      "text/plain": [
       "tensor([[ 0,  0,  0,  3],\n",
       "        [ 0,  5,  6,  0],\n",
       "        [ 0,  9, 10,  0],\n",
       "        [12,  0,  0, 15]])"
      ]
     },
     "metadata": {},
     "execution_count": 37
    }
   ],
   "source": [
    "# 把两个对角线元素放回去到指定位置\n",
    "c = t.zeros(4, 4).long()\n",
    "print(c)\n",
    "c.scatter_(1, index, b)"
   ]
  },
  {
   "cell_type": "markdown",
   "metadata": {
    "id": "N1xQoubgu10u"
   },
   "source": [
    "对 Tensor 的任何索引操作得到的结果仍是一个 Tensor, 若想要获取标准的 Python 对象数值, 需要调用 `tensor.item()`, 需要注意的是这个方法只对包含一个元素的 Tensor 适用."
   ]
  },
  {
   "cell_type": "code",
   "execution_count": 38,
   "metadata": {
    "id": "JGVxokFau10v",
    "colab": {
     "base_uri": "https://localhost:8080/"
    },
    "outputId": "8058e181-2468-4aad-bccd-d2855be328ce"
   },
   "outputs": [
    {
     "output_type": "execute_result",
     "data": {
      "text/plain": [
       "1.0"
      ]
     },
     "metadata": {},
     "execution_count": 38
    }
   ],
   "source": [
    "t.Tensor([1.0]).item()\n",
    "# t.Tensor([1, 2]).item()\n",
    "# raise ValueError: only one element tensors can be converted to Python scalars"
   ]
  },
  {
   "cell_type": "markdown",
   "metadata": {
    "id": "_6UjLs_wu10v"
   },
   "source": [
    "#### 高级索引\n",
    "\n",
    "目前的 PyTorch 已经支持绝大多数 NumPy 风格的高级索引. 高级索引可以看成是普通索引操作的扩展, 但是高级索引操作的结果一般不和原始的 Tensor 共享内存. 关于更多高级索引的内容可以参考本书第六章第三节."
   ]
  },
  {
   "cell_type": "code",
   "execution_count": 39,
   "metadata": {
    "id": "kwHaHXfbu10v",
    "colab": {
     "base_uri": "https://localhost:8080/"
    },
    "outputId": "c0931f31-44de-4743-b77c-8c833c32bb1e"
   },
   "outputs": [
    {
     "output_type": "execute_result",
     "data": {
      "text/plain": [
       "tensor([[[ 0,  1,  2,  3],\n",
       "         [ 4,  5,  6,  7]],\n",
       "\n",
       "        [[ 8,  9, 10, 11],\n",
       "         [12, 13, 14, 15]]])"
      ]
     },
     "metadata": {},
     "execution_count": 39
    }
   ],
   "source": [
    "x = t.arange(0, 16).view(2, 2, 4)\n",
    "x"
   ]
  },
  {
   "cell_type": "code",
   "execution_count": 40,
   "metadata": {
    "id": "sfADM0vCu10v",
    "colab": {
     "base_uri": "https://localhost:8080/"
    },
    "outputId": "5080d63b-82ec-4b3c-ac45-886a3d5d495b"
   },
   "outputs": [
    {
     "output_type": "execute_result",
     "data": {
      "text/plain": [
       "tensor([14,  4])"
      ]
     },
     "metadata": {},
     "execution_count": 40
    }
   ],
   "source": [
    "x[[1, 0], [1, 1], [2, 0]]  # x[1, 1, 2] 和 x[0, 1, 0]"
   ]
  },
  {
   "cell_type": "code",
   "execution_count": 41,
   "metadata": {
    "id": "4VZ5n31mu10v",
    "colab": {
     "base_uri": "https://localhost:8080/"
    },
    "outputId": "a9d3fe31-0bb4-4b6e-92c2-a00cd2fc28d6"
   },
   "outputs": [
    {
     "output_type": "execute_result",
     "data": {
      "text/plain": [
       "tensor([9, 1])"
      ]
     },
     "metadata": {},
     "execution_count": 41
    }
   ],
   "source": [
    "x[[1, 0], [0], [1]]  # x[1, 0, 1], x[0, 0, 1]"
   ]
  },
  {
   "cell_type": "markdown",
   "metadata": {
    "id": "7mgeKcfru10v"
   },
   "source": [
    "#### 逐元素操作\n",
    "\n",
    "逐元素操作会对 Tensor 的每一个元素(point-wise, 又名 element-wise)进行操作, 此类操作的输入与输出形状一致. 常用的操作如表 3-4 所示.\n",
    "\n",
    "表3-4: 常见的逐元素操作\n",
    "\n",
    "|函数|功能|\n",
    "|:--:|:--:|\n",
    "|abs/sqrt/div/exp/fmod/log/pow..|绝对值/平方根/除法/指数/求余/对数/求幂..|\n",
    "|cos/sin/asin/atan2/cosh..|三角函数|\n",
    "|ceil/round/floor/trunc| 上取整/四舍五入/下取整/只保留整数部分|\n",
    "|clamp(input,min,max)|超过min和max部分截断|\n",
    "|sigmod/tanh..|激活函数\n",
    "\n",
    "对于很多操作, 例如 div、mul、pow、fmod 等, PyTorch 中都实现了运算符重载, 因此读者可以很方便的直接使用. 如 `a ** 2` 等价于 `torch.pow(a, 2)`, `a * 2` 等价于 `torch.mul(a, 2)`.\n",
    "\n",
    "其中 `clamp(x, min, max)` 的输出满足以下公式:\n",
    "$$\n",
    "y_i =\n",
    "\\begin{cases}\n",
    "min,  & \\text{if  } x_i \\lt min \\\\\n",
    "x_i,  & \\text{if  } min \\le x_i \\le max  \\\\\n",
    "max,  & \\text{if  } x_i \\gt max\\\\\n",
    "\\end{cases}\n",
    "$$\n",
    "\n",
    "`clamp` 常用在某些需要比较大小的地方, 如取一个 Tensor 的每个元素与另一个数的较大值. 下面将举例说明一些常见的逐元素操作:"
   ]
  },
  {
   "cell_type": "code",
   "execution_count": 42,
   "metadata": {
    "id": "BF-ZR6yHu10w",
    "colab": {
     "base_uri": "https://localhost:8080/"
    },
    "outputId": "472e2a64-e61c-4b7c-aaca-5c3110dcde12"
   },
   "outputs": [
    {
     "output_type": "execute_result",
     "data": {
      "text/plain": [
       "tensor([[ 1.0000,  0.5403, -0.4161],\n",
       "        [-0.9900, -0.6536,  0.2837]])"
      ]
     },
     "metadata": {},
     "execution_count": 42
    }
   ],
   "source": [
    "a = t.arange(0, 6).float().view(2, 3)\n",
    "t.cos(a)"
   ]
  },
  {
   "cell_type": "code",
   "execution_count": 43,
   "metadata": {
    "id": "a0aLah6fu10w",
    "colab": {
     "base_uri": "https://localhost:8080/"
    },
    "outputId": "7008e9af-6afb-4999-b28c-c58abcdd9277"
   },
   "outputs": [
    {
     "output_type": "stream",
     "name": "stdout",
     "text": [
      "tensor([[0., 1., 2.],\n",
      "        [0., 1., 2.]])\n",
      "tensor([[0., 1., 2.],\n",
      "        [0., 1., 2.]])\n"
     ]
    }
   ],
   "source": [
    "# 取模运算的运算符重载, 二者等价\n",
    "print(a % 3)\n",
    "print(t.fmod(a, 3))"
   ]
  },
  {
   "cell_type": "code",
   "execution_count": 44,
   "metadata": {
    "id": "mUALwJw1u10w",
    "colab": {
     "base_uri": "https://localhost:8080/"
    },
    "outputId": "29b4b254-7f47-42c2-c0b6-896e6e0932ed"
   },
   "outputs": [
    {
     "output_type": "stream",
     "name": "stdout",
     "text": [
      "tensor([[0., 1., 2.],\n",
      "        [3., 4., 5.]])\n",
      "tensor([[2., 2., 2.],\n",
      "        [3., 4., 4.]])\n"
     ]
    }
   ],
   "source": [
    "# 将 a 中的值进行上下限截断\n",
    "print(a)\n",
    "print(t.clamp(a, min=2, max=4))"
   ]
  },
  {
   "cell_type": "markdown",
   "metadata": {
    "id": "sYnJzr23u10w"
   },
   "source": [
    "#### 归并操作\n",
    "\n",
    "归并操作会使用 Tensor 中的部分元素进行计算, 其输出形状可能小于输入形状. 同时我们可以沿着某一维度进行指定的归并操作. 如加法 `sum`, 既可以计算整个 Tensor 的和, 也可以计算 Tensor 中每一行或每一列的和. 常用的归并操作如表 3-5 所示.\n",
    "\n",
    "表3-5: 常用归并操作\n",
    "\n",
    "|函数|功能|\n",
    "|:---:|:---:|\n",
    "|mean/sum/median/mode|均值/求和/中位数/众数|\n",
    "|norm/dist|范数/距离|\n",
    "|std/var|标准差/方差|\n",
    "|cumsum/cumprod|累加/累乘|\n",
    "\n",
    "以上大多数函数都有一个维度参数 `dim`, 用来指定这些操作是在哪个维度上执行的. 关于 `dim` (对应于 Numpy 中的 axis)的解释众说纷纭, 这里提供一个简单的记忆方式:\n",
    "\n",
    "假设输入的形状是(m, n, k)\n",
    "\n",
    "- 如果指定 dim=0, 输出的形状就是 (1, n, k) 或者 (n, k)\n",
    "- 如果指定 dim=1, 输出的形状就是 (m, 1, k) 或者 (m, k)\n",
    "- 如果指定 dim=2, 输出的形状就是 (m, n, 1) 或者 (m, n)\n",
    "\n",
    "其中 size 中是否有 \"1\", 取决于参数 `keepdim`, 若指定 `keepdim=True` 则会保留维度 `1`. 注意, 以上只是经验总结, 并非所有函数都符合这种形状变化方式, 如 `cumsum`. 下面将举例说明:"
   ]
  },
  {
   "cell_type": "code",
   "execution_count": 45,
   "metadata": {
    "id": "qIc2bumqu10w",
    "colab": {
     "base_uri": "https://localhost:8080/"
    },
    "outputId": "cf979b34-acd3-47b5-ddc9-ab1dc7f30e9b"
   },
   "outputs": [
    {
     "output_type": "stream",
     "name": "stdout",
     "text": [
      "tensor([[1., 1., 1.],\n",
      "        [1., 1., 1.]])\n",
      "tensor([[2., 2., 2.]]) torch.Size([1, 3])\n",
      "tensor([2., 2., 2.]) torch.Size([3])\n"
     ]
    }
   ],
   "source": [
    "# 注意对比是否保留维度 1 的区别\n",
    "b = t.ones(2, 3)\n",
    "print(b)\n",
    "print(b.sum(dim=0, keepdim=True), b.sum(dim=0, keepdim=True).shape)\n",
    "print(b.sum(dim=0, keepdim=False), b.sum(dim=0, keepdim=False).shape)"
   ]
  },
  {
   "cell_type": "code",
   "execution_count": 46,
   "metadata": {
    "id": "VleqX-tlu10w",
    "colab": {
     "base_uri": "https://localhost:8080/"
    },
    "outputId": "69a827dc-46b5-4d7d-b26a-278a05f43685"
   },
   "outputs": [
    {
     "output_type": "stream",
     "name": "stdout",
     "text": [
      "tensor([[2, 3, 4],\n",
      "        [5, 6, 7]])\n",
      "tensor([[ 2,  5,  9],\n",
      "        [ 5, 11, 18]])\n"
     ]
    }
   ],
   "source": [
    "a = t.arange(2, 8).view(2, 3)\n",
    "print(a)\n",
    "print(a.cumsum(dim=1))  # 沿着行累加"
   ]
  },
  {
   "cell_type": "markdown",
   "metadata": {
    "id": "zwWJddhwu10x"
   },
   "source": [
    "#### 比较\n",
    "\n",
    "比较函数中有一些是逐元素比较, 操作类似于逐元素操作, 还有一些则类似于归并操作. 常用比较函数如表 3-6 所示.\n",
    "\n",
    "表3-6: 常用比较函数\n",
    "\n",
    "|函数|功能|\n",
    "|:--:|:--:|\n",
    "|gt/lt/ge/le/eq/ne|大于/小于/大于等于/小于等于/等于/不等于|\n",
    "|topk|最大的k个数|\n",
    "|sort|排序|\n",
    "|max/min|比较两个Tensor的最大、最小值|\n",
    "\n",
    "表中第一行的比较操作已经实现了运算符重载, 因此可以使用 `a>=b`、`a>b`、`a!=b`、`a==b`, 其返回结果是一个 `ByteTensor`, 可用来选取元素. max/min 这两个操作比较特殊, 以 max 来说, 它有以下三种使用情况:\n",
    "- t.max(tensor): 返回 Tensor 中最大的一个数\n",
    "- t.max(tensor,dim): 指定维上最大的数, 返回 Tensor 和下标\n",
    "- t.max(tensor1, tensor2): 返回两个 Tensor 相比较大的元素\n",
    "\n",
    "而若要比较一个 Tensor 和一个数, 可以使用 clamp 函数. 下面举例说明."
   ]
  },
  {
   "cell_type": "code",
   "execution_count": 47,
   "metadata": {
    "id": "H5oFYPl-u10x",
    "colab": {
     "base_uri": "https://localhost:8080/"
    },
    "outputId": "2fd63c13-91cf-4cf0-9ca5-18b1870d4052"
   },
   "outputs": [
    {
     "output_type": "stream",
     "name": "stdout",
     "text": [
      "tensor([[ 0.,  3.,  6.],\n",
      "        [ 9., 12., 15.]])\n",
      "tensor([[15., 12.,  9.],\n",
      "        [ 6.,  3.,  0.]])\n",
      "tensor([[False, False, False],\n",
      "        [ True,  True,  True]])\n",
      "a 中大于 b 的元素:  tensor([ 9., 12., 15.])\n",
      "a 中最大的元素:  tensor(15.)\n"
     ]
    }
   ],
   "source": [
    "a = t.linspace(0, 15, 6).view(2, 3)\n",
    "print(a)\n",
    "b = t.linspace(15, 0, 6).view(2, 3)\n",
    "print(b)\n",
    "print(a > b)\n",
    "print(\"a 中大于 b 的元素: \", a[a > b])  # 返回 a 中大于 b 的元素\n",
    "print(\"a 中最大的元素: \", t.max(a))  # 返回 a 中最大的元素"
   ]
  },
  {
   "cell_type": "code",
   "execution_count": 48,
   "metadata": {
    "pycharm": {
     "name": "#%%\n"
    },
    "id": "mRI2u95nu10x",
    "colab": {
     "base_uri": "https://localhost:8080/"
    },
    "outputId": "cb8a7e4d-d9d1-48eb-bd45-7c6712aee43e"
   },
   "outputs": [
    {
     "output_type": "execute_result",
     "data": {
      "text/plain": [
       "torch.return_types.max(\n",
       "values=tensor([15.,  6.]),\n",
       "indices=tensor([0, 0]))"
      ]
     },
     "metadata": {},
     "execution_count": 48
    }
   ],
   "source": [
    "t.max(b, dim=1)\n",
    "# 第一个返回值 15 和 6 分别表示第 0 行和第 1 行最大的元素\n",
    "# 第二个返回值的 0 和 0 表示上述最大的数是该行第 0 个元素"
   ]
  },
  {
   "cell_type": "code",
   "execution_count": 49,
   "metadata": {
    "pycharm": {
     "name": "#%%\n"
    },
    "id": "FIqDbqbuu10x",
    "colab": {
     "base_uri": "https://localhost:8080/"
    },
    "outputId": "c513f065-0998-4e77-ebbe-9c7881b1ce83"
   },
   "outputs": [
    {
     "output_type": "execute_result",
     "data": {
      "text/plain": [
       "tensor([[15., 12.,  9.],\n",
       "        [ 9., 12., 15.]])"
      ]
     },
     "metadata": {},
     "execution_count": 49
    }
   ],
   "source": [
    "t.max(a, b)  # 两个 Tensor 对应位置上较大的元素"
   ]
  },
  {
   "cell_type": "markdown",
   "metadata": {
    "id": "EMn4mQuGu10x"
   },
   "source": [
    "#### 线性代数\n",
    "\n",
    "PyTorch 的线性函数主要封装了 Blas 和 Lapack, 其用法和接口都与之类似. 常用的线性代数函数如表 3-7 所示.\n",
    "\n",
    "表3-7: 常用的线性代数函数\n",
    "\n",
    "|函数|功能|\n",
    "|:---:|:---:|\n",
    "|trace|对角线元素之和(矩阵的迹)|\n",
    "|diag|对角线元素|\n",
    "|triu/tril|矩阵的上三角/下三角, 可指定偏移量|\n",
    "|mm/bmm|矩阵乘法, batch的矩阵乘法|\n",
    "|addmm/addbmm/addmv|矩阵运算\n",
    "|t|转置|\n",
    "|dot/cross|内积/外积\n",
    "|inverse|求逆矩阵\n",
    "|svd|奇异值分解\n",
    "\n",
    "具体使用说明请参见官方文档, 需要注意的是, 矩阵的转置会导致存储空间不连续, 因此需调用它的 `.contiguous` 方法将其转为连续. 下面将举例说明:\n"
   ]
  },
  {
   "cell_type": "code",
   "execution_count": 50,
   "metadata": {
    "id": "KedhM7Ayu10x",
    "colab": {
     "base_uri": "https://localhost:8080/"
    },
    "outputId": "f94a0b74-be34-4533-fc28-e88d52a2e3a7"
   },
   "outputs": [
    {
     "output_type": "stream",
     "name": "stdout",
     "text": [
      "tensor([[ 0.,  3.,  6.],\n",
      "        [ 9., 12., 15.]])\n",
      "True\n",
      "tensor([[ 0.,  9.],\n",
      "        [ 3., 12.],\n",
      "        [ 6., 15.]])\n"
     ]
    },
    {
     "output_type": "execute_result",
     "data": {
      "text/plain": [
       "False"
      ]
     },
     "metadata": {},
     "execution_count": 50
    }
   ],
   "source": [
    "a = t.linspace(0, 15, 6).view(2, 3)\n",
    "print(a)\n",
    "print(a.is_contiguous())\n",
    "b = a.t()\n",
    "print(b)\n",
    "b.is_contiguous()"
   ]
  },
  {
   "cell_type": "code",
   "execution_count": 51,
   "metadata": {
    "id": "tI04FEL0u10x",
    "colab": {
     "base_uri": "https://localhost:8080/"
    },
    "outputId": "00c09c18-c587-40fc-938d-dcb43510753a"
   },
   "outputs": [
    {
     "output_type": "execute_result",
     "data": {
      "text/plain": [
       "True"
      ]
     },
     "metadata": {},
     "execution_count": 51
    }
   ],
   "source": [
    "b = b.contiguous()\n",
    "b.is_contiguous()"
   ]
  },
  {
   "cell_type": "markdown",
   "metadata": {
    "id": "ctEcORGCu10y"
   },
   "source": [
    "### 3.1.2 Tensor 与 NumPy\n",
    "\n",
    "Tensor 和 NumPy 数组之间具有很高的相似性, 彼此之间的互相操作也非常简单高效. 需要注意的是, NumPy 和 Tensor 共享内存. 由于 NumPy 中已经封装了很多常用操作, 所以当遇到 Tensor 不支持的操作时, 可先将其转换成 NumPy 数组, 进行相应处理后再转回 Tensor. 由于这样操作的转换开销很小, 因此在实际应用中我们将经常进行两者的相互转换, 下面将举例说明."
   ]
  },
  {
   "cell_type": "code",
   "execution_count": 52,
   "metadata": {
    "id": "rRvHqkQru10y",
    "colab": {
     "base_uri": "https://localhost:8080/"
    },
    "outputId": "606fa3d8-df81-4007-8fcc-3d44340ee7b0"
   },
   "outputs": [
    {
     "output_type": "execute_result",
     "data": {
      "text/plain": [
       "array([[1., 1., 1.],\n",
       "       [1., 1., 1.]], dtype=float32)"
      ]
     },
     "metadata": {},
     "execution_count": 52
    }
   ],
   "source": [
    "import numpy as np\n",
    "\n",
    "a = np.ones([2, 3], dtype=np.float32)\n",
    "a"
   ]
  },
  {
   "cell_type": "code",
   "execution_count": 53,
   "metadata": {
    "id": "YBn4k9Jju10y",
    "colab": {
     "base_uri": "https://localhost:8080/"
    },
    "outputId": "71df66a8-56a0-4e41-a6f2-13c5d18aa45e"
   },
   "outputs": [
    {
     "output_type": "execute_result",
     "data": {
      "text/plain": [
       "tensor([[1., 1., 1.],\n",
       "        [1., 1., 1.]])"
      ]
     },
     "metadata": {},
     "execution_count": 53
    }
   ],
   "source": [
    "# 从 NumPy 转化为 Tensor, 下面两种方式等价\n",
    "b = t.from_numpy(a)\n",
    "\n",
    "# 注意此时是大写的 Tensor, torch.tensor() 只进行数据拷贝, 不会共享内存.\n",
    "# b = t.Tensor(a)\n",
    "\n",
    "b"
   ]
  },
  {
   "cell_type": "code",
   "execution_count": 54,
   "metadata": {
    "id": "A9KQ3o0Yu10y",
    "colab": {
     "base_uri": "https://localhost:8080/"
    },
    "outputId": "16de0f2e-8aa2-4fbe-9d7c-4c6729b12c05"
   },
   "outputs": [
    {
     "output_type": "execute_result",
     "data": {
      "text/plain": [
       "tensor([[ 1., -1.,  1.],\n",
       "        [ 1.,  1.,  1.]])"
      ]
     },
     "metadata": {},
     "execution_count": 54
    }
   ],
   "source": [
    "# 此时, NumPy 和 Tensor 是共享内存的\n",
    "a[0, 1] = -1\n",
    "b  # 修改 a 的值, b 的值也会被修改"
   ]
  },
  {
   "cell_type": "markdown",
   "metadata": {
    "id": "p6CZVaNsu10y"
   },
   "source": [
    "**注意**:  当 NumPy 的数据类型和T ensor 的类型不一样的时候, 数据会被复制, 不会共享内存."
   ]
  },
  {
   "cell_type": "code",
   "execution_count": 55,
   "metadata": {
    "id": "p4Sxlrq-u10y",
    "colab": {
     "base_uri": "https://localhost:8080/"
    },
    "outputId": "a7ba7459-77fa-4148-b6a2-033a74729515"
   },
   "outputs": [
    {
     "output_type": "execute_result",
     "data": {
      "text/plain": [
       "dtype('float64')"
      ]
     },
     "metadata": {},
     "execution_count": 55
    }
   ],
   "source": [
    "a = np.ones([2, 3])\n",
    "# 注意和上面的 a 的区别(dtype 不是 float32)\n",
    "a.dtype"
   ]
  },
  {
   "cell_type": "code",
   "execution_count": 56,
   "metadata": {
    "id": "IT8D5KSGu10y",
    "colab": {
     "base_uri": "https://localhost:8080/"
    },
    "outputId": "4a014b26-f40e-40e5-f27d-9835bb50ad7e"
   },
   "outputs": [
    {
     "output_type": "execute_result",
     "data": {
      "text/plain": [
       "torch.float32"
      ]
     },
     "metadata": {},
     "execution_count": 56
    }
   ],
   "source": [
    "b = t.Tensor(a)  # 此处进行拷贝, 不共享内存\n",
    "b.dtype"
   ]
  },
  {
   "cell_type": "code",
   "execution_count": 57,
   "metadata": {
    "id": "srQo4xy9u10z",
    "colab": {
     "base_uri": "https://localhost:8080/"
    },
    "outputId": "d1d0c6e0-88aa-478d-ea27-6dd76c0fc267"
   },
   "outputs": [
    {
     "output_type": "execute_result",
     "data": {
      "text/plain": [
       "tensor([[1., 1., 1.],\n",
       "        [1., 1., 1.]], dtype=torch.float64)"
      ]
     },
     "metadata": {},
     "execution_count": 57
    }
   ],
   "source": [
    "c = t.from_numpy(a)  # 注意 c 的类型(DoubleTensor)\n",
    "c"
   ]
  },
  {
   "cell_type": "code",
   "execution_count": 58,
   "metadata": {
    "id": "6vUxc9luu10z",
    "colab": {
     "base_uri": "https://localhost:8080/"
    },
    "outputId": "4d25c34b-4dac-4757-ab9e-4d554e5c3ac1"
   },
   "outputs": [
    {
     "output_type": "stream",
     "name": "stdout",
     "text": [
      "tensor([[1., 1., 1.],\n",
      "        [1., 1., 1.]])\n",
      "tensor([[ 1., -1.,  1.],\n",
      "        [ 1.,  1.,  1.]], dtype=torch.float64)\n"
     ]
    }
   ],
   "source": [
    "a[0, 1] = -1\n",
    "print(b)  # b 与 a 不共享内存, 所以即使 a 改变了, b 也不变\n",
    "print(c)  # c 与 a 共享内存"
   ]
  },
  {
   "cell_type": "markdown",
   "metadata": {
    "id": "FNIyqNqVu10z"
   },
   "source": [
    "**注意:** 不论输入的类型是什么, torch.tensor() 都只进行进行数据拷贝, 不会共享内存. 读者需要注意区分 torch.Tensor(), torch.from_numpy() 与 torch.tensor() 在内存共享方面的区别."
   ]
  },
  {
   "cell_type": "code",
   "execution_count": 59,
   "metadata": {
    "id": "LYsI9TGKu10z",
    "colab": {
     "base_uri": "https://localhost:8080/"
    },
    "outputId": "679a6126-35fe-46f8-d8ae-c62bdc26593d"
   },
   "outputs": [
    {
     "output_type": "execute_result",
     "data": {
      "text/plain": [
       "array([[ 1., -1.,  1.],\n",
       "       [ 1.,  1.,  1.]])"
      ]
     },
     "metadata": {},
     "execution_count": 59
    }
   ],
   "source": [
    "a_tensor = t.tensor(a)\n",
    "a_tensor[0, 1] = 1\n",
    "a  # a 和 a_tensor 不共享内存"
   ]
  },
  {
   "cell_type": "markdown",
   "metadata": {
    "id": "PZ81PC3wu10z"
   },
   "source": [
    "### 3.1.3 Tensor 的基本结构\n",
    "\n",
    "Tensor 的数据结构如图 3-1 所示. Tensor 分为头信息区(Tensor)和存储区(Storage), 头信息区主要保存着 Tensor 的形状(size)、步长(stride)、数据类型(type)等信息, 而真正的数据则保存成连续数组. 由于数据动辄成千上万, 因此头信息区元素占用内存较少, 主要内存占用取决于 Tensor 中元素的数目, 也即存储区的大小.\n",
    "\n",
    "一般来说一个 Tensor 有与之对应的 Storage, Storage 是在 data 之上封装的接口, 便于使用, 而 Tensor 的内存地址是指向 Tensor的头(head). 不同 Tensor 的 head 信息一般不同, 但却可能使用相同的 Storage. 很多关于 Tensor 的操作只是创建了一个新的 head, 但是它们仍共享同一个 Storage, 下面将举例说明.\n",
    "\n",
    "![图3-1: Tensor的数据结构](imgs/tensor_data_structure.png)"
   ]
  },
  {
   "cell_type": "code",
   "execution_count": 60,
   "metadata": {
    "id": "oqRYheocu10z",
    "colab": {
     "base_uri": "https://localhost:8080/"
    },
    "outputId": "d845e5c0-06a4-42f5-8051-e51fcd5664cb"
   },
   "outputs": [
    {
     "output_type": "stream",
     "name": "stdout",
     "text": [
      " 0.0\n",
      " 1.0\n",
      " 2.0\n",
      " 3.0\n",
      " 4.0\n",
      " 5.0\n",
      " 6.0\n",
      " 7.0\n",
      " 8.0\n",
      " 9.0\n",
      "[torch.storage.TypedStorage(dtype=torch.float32, device=cpu) of size 10]\n",
      " 0.0\n",
      " 1.0\n",
      " 2.0\n",
      " 3.0\n",
      " 4.0\n",
      " 5.0\n",
      " 6.0\n",
      " 7.0\n",
      " 8.0\n",
      " 9.0\n",
      "[torch.storage.TypedStorage(dtype=torch.float32, device=cpu) of size 10]\n"
     ]
    },
    {
     "output_type": "execute_result",
     "data": {
      "text/plain": [
       "False"
      ]
     },
     "metadata": {},
     "execution_count": 60
    }
   ],
   "source": [
    "a = t.arange(0, 10).float()\n",
    "b = a.view(2, 5)\n",
    "print(a.storage())\n",
    "print(b.storage())\n",
    "\n",
    "# id(变量) 可以查看它在内存中的地址\n",
    "# Storage 的内存地址一样, 即它们是同一个 Storage\n",
    "id(b.storage()) == id(a.storage())  # 应该输出 True, 之所以输出 False 可能和运行环境有关"
   ]
  },
  {
   "cell_type": "code",
   "execution_count": 61,
   "metadata": {
    "id": "_4f7R1Keu100",
    "colab": {
     "base_uri": "https://localhost:8080/"
    },
    "outputId": "08937898-a6d1-4a0f-d988-ff282c020240"
   },
   "outputs": [
    {
     "output_type": "execute_result",
     "data": {
      "text/plain": [
       "tensor([[  0., 100.,   2.,   3.,   4.],\n",
       "        [  5.,   6.,   7.,   8.,   9.]])"
      ]
     },
     "metadata": {},
     "execution_count": 61
    }
   ],
   "source": [
    "# a 改变, b 也随之改变, 因为他们共享 Storage\n",
    "a[1] = 100\n",
    "b"
   ]
  },
  {
   "cell_type": "code",
   "execution_count": 62,
   "metadata": {
    "id": "AWV5b57Au100",
    "colab": {
     "base_uri": "https://localhost:8080/"
    },
    "outputId": "4e692231-8624-4c85-c896-d909c2769cae"
   },
   "outputs": [
    {
     "output_type": "execute_result",
     "data": {
      "text/plain": [
       "False"
      ]
     },
     "metadata": {},
     "execution_count": 62
    }
   ],
   "source": [
    "# c 取得 a 的部分索引, 只改变了 head 信息, Storage 相同\n",
    "c = a[3:]\n",
    "id(c.storage()) == id(a.storage())  # 应该输出 True, 之所以输出 False 可能和运行环境有关"
   ]
  },
  {
   "cell_type": "code",
   "execution_count": 63,
   "metadata": {
    "id": "nGPJYCHGu100",
    "colab": {
     "base_uri": "https://localhost:8080/"
    },
    "outputId": "50f85caa-8e97-4d82-c4dd-d4615b315474"
   },
   "outputs": [
    {
     "output_type": "execute_result",
     "data": {
      "text/plain": [
       "(96102498545420, 96102498545408)"
      ]
     },
     "metadata": {},
     "execution_count": 63
    }
   ],
   "source": [
    "# data_ptr 返回 Tensor 首元素的内存地址\n",
    "c.data_ptr(), a.data_ptr()\n",
    "# 可以看出两个内存地址相差 12, 这是因为 3*4=12: 相差三个元素, 每个元素占 4 个字节(float)\n",
    "# 如果差值不是 12, 可以用 a.type() 查看一下数据类型是不是 torch.FloatTensor"
   ]
  },
  {
   "cell_type": "code",
   "execution_count": 64,
   "metadata": {
    "id": "8J63MWntu100",
    "colab": {
     "base_uri": "https://localhost:8080/"
    },
    "outputId": "bd6cb518-03f8-4bbd-d9f9-581e6f19cdbf"
   },
   "outputs": [
    {
     "output_type": "execute_result",
     "data": {
      "text/plain": [
       "tensor([   0.,  100.,    2., -100.,    4.,    5.,    6.,    7.,    8.,    9.])"
      ]
     },
     "metadata": {},
     "execution_count": 64
    }
   ],
   "source": [
    "c[0] = -100  # c[0] 的内存地址对应 a[3] 的内存地址\n",
    "a"
   ]
  },
  {
   "cell_type": "code",
   "execution_count": 65,
   "metadata": {
    "id": "DG1TUKxOu100",
    "colab": {
     "base_uri": "https://localhost:8080/"
    },
    "outputId": "96705c1a-77de-4a84-dea2-4131dd9b96f4"
   },
   "outputs": [
    {
     "output_type": "execute_result",
     "data": {
      "text/plain": [
       "tensor([[ 6.6660e+03,  1.0000e+02,  2.0000e+00, -1.0000e+02,  4.0000e+00],\n",
       "        [ 5.0000e+00,  6.0000e+00,  7.0000e+00,  8.0000e+00,  9.0000e+00]])"
      ]
     },
     "metadata": {},
     "execution_count": 65
    }
   ],
   "source": [
    "d = t.Tensor(c.storage())  # 此处拷贝共享了内存\n",
    "d[0] = 6666\n",
    "b"
   ]
  },
  {
   "cell_type": "code",
   "execution_count": 66,
   "metadata": {
    "id": "U5Lmqu8wu101",
    "colab": {
     "base_uri": "https://localhost:8080/"
    },
    "outputId": "d4ada55b-2cfd-43e2-b9bf-377c4846052e"
   },
   "outputs": [
    {
     "output_type": "execute_result",
     "data": {
      "text/plain": [
       "True"
      ]
     },
     "metadata": {},
     "execution_count": 66
    }
   ],
   "source": [
    "# 下面 ４ 个 Tensor 共享 Storage\n",
    "id(a.storage()) == id(b.storage()) == id(c.storage()) == id(\n",
    "    d.storage()\n",
    ")  # 应该输出 True, 之所以输出 False 可能和运行环境有关"
   ]
  },
  {
   "cell_type": "code",
   "execution_count": 67,
   "metadata": {
    "id": "jOBSepJ5u101",
    "colab": {
     "base_uri": "https://localhost:8080/"
    },
    "outputId": "caa98337-47d0-4a09-ad61-e9c378f51dfb"
   },
   "outputs": [
    {
     "output_type": "execute_result",
     "data": {
      "text/plain": [
       "(0, 3, 0)"
      ]
     },
     "metadata": {},
     "execution_count": 67
    }
   ],
   "source": [
    "# c 取得 a 的部分索引, 改变了偏移量\n",
    "\n",
    "a.storage_offset(), c.storage_offset(), d.storage_offset()"
   ]
  },
  {
   "cell_type": "code",
   "execution_count": 68,
   "metadata": {
    "id": "ZRSwEBXeu101",
    "colab": {
     "base_uri": "https://localhost:8080/"
    },
    "outputId": "af3ce643-87f9-4858-ad4e-2562c3bd12c5"
   },
   "outputs": [
    {
     "output_type": "stream",
     "name": "stdout",
     "text": [
      "False\n",
      "False\n"
     ]
    }
   ],
   "source": [
    "e = b[::2, ::2]  # 隔 2 行/列取一个元素\n",
    "print(id(e.storage()) == id(a.storage()))  # 共享内存\n",
    "print(e.is_contiguous())  # e 的存储空间是不连续的"
   ]
  },
  {
   "cell_type": "markdown",
   "metadata": {
    "id": "YHJsXrIKu101"
   },
   "source": [
    "可见绝大多数操作并不修改 Tensor 的数据, 而只是修改了 Tensor 的头信息. 这种做法更节省内存, 同时提升了处理速度. 在使用中需要注意: 有些操作会导致 Tensor 不连续, 这时需要调用 `tensor.contiguous` 方法将它们变成连续的数据, 该方法会使数据复制一份, 不再与原来的数据共享 Storage.\n",
    "另外读者可以思考一下, 之前说过的高级索引一般不共享 Storage, 而普通索引则共享 Storage, 这是为什么？(提示: 普通索引可以通过修改 Tensor 的 offset、stride 和 size 实现, 不修改Storage 的数据, 高级索引则不行)."
   ]
  },
  {
   "cell_type": "markdown",
   "metadata": {
    "id": "N6LrTtH-u101"
   },
   "source": [
    "## 3.2 变形记: N 种改变 Tensor 形状的方法\n",
    "\n",
    "Tensor 作为 PyTorch 的基本数据对象, 使用过程中常需要改变 Tensor 的形状. 在 PyTorch 中有很多用于改变形状的函数, 在这一小节中我们将详细介绍一些常用的方法.\n",
    "\n",
    "本小节介绍的所有函数都可以用 `tensor.shape` 和 `tensor.reshape(*new_shape)` 来实现, 这里笔者将对常见的 Tensor 形状相关的操作进行总结, 以方便读者选择最灵活便捷的函数.\n",
    "\n",
    "### 查看 Tensor 的维度\n",
    "\n",
    "关于 Tensor 的形状信息, 除了 `tensor.shape`, 还有以下三个常用函数:\n",
    "- `tensor.size()` 等价于 `tensor.shape`\n",
    "- `tensor.dim()` 能查看 Tensor 的维度, 等效于 `len(tensor.shape)`, 对应于 NumPy 中的 `array.ndim`\n",
    "- `tensor.numel()` 用来查看 tensor 中元素的数量, 等价于 `tensor.shape[0]*tensor.shape[1]*...` 或者 `np.prod(tensor.shape)`, 对应于 NumPy 中的 `array.size`."
   ]
  },
  {
   "cell_type": "code",
   "execution_count": 69,
   "metadata": {
    "id": "vtcJ6vU0u101",
    "colab": {
     "base_uri": "https://localhost:8080/"
    },
    "outputId": "9664a16d-c421-4a78-c020-fc983031ee6e"
   },
   "outputs": [
    {
     "output_type": "stream",
     "name": "stdout",
     "text": [
      "a.shape=torch.Size([2, 3, 4]). a.size()=torch.Size([2, 3, 4])\n"
     ]
    }
   ],
   "source": [
    "import torch as t\n",
    "\n",
    "tensor = t.arange(24).reshape(2, 3, 4)\n",
    "# tensor.shape 和tensor.size() 等价\n",
    "\n",
    "print(f\"a.shape={tensor.shape}. a.size()={tensor.size()}\")"
   ]
  },
  {
   "cell_type": "code",
   "execution_count": 70,
   "metadata": {
    "id": "042AuD-_u101",
    "colab": {
     "base_uri": "https://localhost:8080/",
     "height": 35
    },
    "outputId": "763cc7e2-739d-4621-c021-20e01257ab15"
   },
   "outputs": [
    {
     "output_type": "execute_result",
     "data": {
      "text/plain": [
       "'这是个 3 维 Tensor, 总共 24 个元素'"
      ],
      "application/vnd.google.colaboratory.intrinsic+json": {
       "type": "string"
      }
     },
     "metadata": {},
     "execution_count": 70
    }
   ],
   "source": [
    "f\"这是个 {tensor.dim()} 维 Tensor, 总共 {tensor.numel()} 个元素\""
   ]
  },
  {
   "cell_type": "markdown",
   "metadata": {
    "id": "2iWIEJj4u102"
   },
   "source": [
    "### 改变 Tensor 的维度\n",
    "\n",
    "所有改变 Tensor 形状的操作都可以通过 `tensor.reshape` 实现. `tensor.reshape(new_shape)` 会把不连续的 Tensor 变成连续的再进行形状变化, 这一操作等价于 `tensor.contiguous().view(new_shape)`. 关于 `view` 和 `reshape` 的选用可参考下面的建议:\n",
    "\n",
    "1. 对于 `reshape` 而言: 其接口更便捷, 会自动把不连续的 Tensor 变为连续的, 能避免很多报错. 同时它的函数名和 NumPy 一样, 便于使用.\n",
    "2. 对于 `view` 而言: 其函数名更短, 而且 Tensor 经过 `view` 操作之后仍然共享存储空间. 当我们并不希望改变形状之后的 Tensor 和原 Tensor 共享存储时可以使用 `view` 方法."
   ]
  },
  {
   "cell_type": "markdown",
   "metadata": {
    "pycharm": {
     "name": "#%% md\n"
    },
    "id": "yaFRCILVu102"
   },
   "source": [
    "`reshape` 和 `view` 二者之间有一些区别: 如果对 Tensor 使用了 `transpose`、`permute` 等操作, 会造成 Tensor 的内存变得不连续, 而 `view` 方法只能改变连续的张量, 所以需要先调用 `contiguous()` 方法, 但 `reshape` 方法则不受此限制. 具体来说, `view` 方法返回的 Tensor 和原 Tensor 共享 Storage(注意: 不是共享内存地址), 而 `reshape` 方法可能返回原 Tensor 的 copy 或者共享 Storage 的 view. 如果当前满足连续性条件, 则结果与 `view` 相同; 否则返回的就是 copy(此时等价于 `tensor.contiguous().view()`)."
   ]
  },
  {
   "cell_type": "code",
   "execution_count": 71,
   "metadata": {
    "pycharm": {
     "name": "#%%\n"
    },
    "id": "EFwxDO1ou102",
    "colab": {
     "base_uri": "https://localhost:8080/"
    },
    "outputId": "baf4009a-d6ee-44e5-8707-971fe5ec8ddf"
   },
   "outputs": [
    {
     "output_type": "execute_result",
     "data": {
      "text/plain": [
       "False"
      ]
     },
     "metadata": {},
     "execution_count": 71
    }
   ],
   "source": [
    "a = t.arange(1, 13)\n",
    "b = a.view(2, 6)\n",
    "c = a.reshape(2, 6)  # 此时 view 和 reshape 等价, 因为 Tensor 是 contiguous\n",
    "# a,b,c 三个对象的内存地址是不一样的, 其中保存的是 Tensor 的形状(size)、步长(stride)、数据类型(type)等信息\n",
    "\n",
    "id(a) == id(b) == id(c)"
   ]
  },
  {
   "cell_type": "code",
   "execution_count": 72,
   "metadata": {
    "pycharm": {
     "name": "#%%\n"
    },
    "id": "pOe96Pk8u102",
    "colab": {
     "base_uri": "https://localhost:8080/"
    },
    "outputId": "4410ad0c-e065-4e17-a806-68f53a3e8205"
   },
   "outputs": [
    {
     "output_type": "execute_result",
     "data": {
      "text/plain": [
       "False"
      ]
     },
     "metadata": {},
     "execution_count": 72
    }
   ],
   "source": [
    "# view 和 reshape 存储在与原始对象不同的地址内存中, 但是它们共享存储器 Storage, 也就意味着它们共享基础数据\n",
    "\n",
    "id(a.storage()) == id(b.storage()) == id(c.storage())"
   ]
  },
  {
   "cell_type": "code",
   "execution_count": 73,
   "metadata": {
    "pycharm": {
     "name": "#%%\n"
    },
    "id": "XdYYuujqu102",
    "colab": {
     "base_uri": "https://localhost:8080/"
    },
    "outputId": "019a5c9a-5f6b-438f-90d5-0a9c206c6351"
   },
   "outputs": [
    {
     "output_type": "execute_result",
     "data": {
      "text/plain": [
       "tensor([[ 1,  7,  2,  8],\n",
       "        [ 3,  9,  4, 10],\n",
       "        [ 5, 11,  6, 12]])"
      ]
     },
     "metadata": {},
     "execution_count": 73
    }
   ],
   "source": [
    "b = b.t()  # b 不再连续\n",
    "b.reshape(-1, 4)  # reshape 可以\n",
    "\n",
    "# 下面会报错, view 无法在改变数据存储的情况下进行形状变化\n",
    "# b.view(-1, 4)"
   ]
  },
  {
   "cell_type": "markdown",
   "metadata": {
    "id": "jO2dMCmWu102"
   },
   "source": [
    "reshape 操作的难点在于如何快速灵活地指定形状, 常用的快捷变形方法有:\n",
    "\n",
    "1. `tensor.view(dim1,-1,dimN)`: 在调整 Tensor 形状的时候, 我们不需要指定每一维的形状, 可以把其中一个维度指定为 -1, PyTorch 会自动计算对应的形状\n",
    "2. `tensor.view_as(other)`: 将 Tensor 的形状变为和 other 一样, 等价于 `tensor.view(other.shape)`\n",
    "3. `tensor.squeeze()`: 将 Tensor 形状中为`1`的维度去掉, 比如 (1,3,1,4) 变为 (3,4)\n",
    "4. `tensor.flatten(start_dim=0, end_dim=-1)`: 将 Tensor 形状中某些连续维度合并为一个维度. 比如形状 (2,3,4,5) -> (2,12,5).\n",
    "5. `tensor[None]` 和 `tensor.unsqueeze(dim)`: 为 Tensor 新建一个维度, 并把形状设为 1, 比如形状 (2,3) -> (2,1,3)"
   ]
  },
  {
   "cell_type": "code",
   "execution_count": 74,
   "metadata": {
    "id": "uAioPUwWu103",
    "colab": {
     "base_uri": "https://localhost:8080/"
    },
    "outputId": "f9c24593-e66f-4691-f178-09811f4dc90b"
   },
   "outputs": [
    {
     "output_type": "execute_result",
     "data": {
      "text/plain": [
       "tensor([-0.0062,  0.0094,  0.0053])"
      ]
     },
     "metadata": {},
     "execution_count": 74
    }
   ],
   "source": [
    "# 创建一张噪声图像, 并计算 RGB 每一个通道的噪声均值\n",
    "img_3xHxW = t.randn(3, 128, 256)\n",
    "\n",
    "# 将 img_3xHxW 的后两维合并\n",
    "img_3xHW = img_3xHxW.view(3, -1)\n",
    "# 写法等价于 img_3xHxW.view(3,128*256)\n",
    "# 也等价于 img_3xHxW.flatten(1, 2)\n",
    "\n",
    "img_3xHW.mean(dim=1)"
   ]
  },
  {
   "cell_type": "code",
   "execution_count": 75,
   "metadata": {
    "id": "MBTkeEv7u103",
    "colab": {
     "base_uri": "https://localhost:8080/"
    },
    "outputId": "fedbff6d-ee2b-40a6-9b0e-e634dc25d89f"
   },
   "outputs": [
    {
     "output_type": "execute_result",
     "data": {
      "text/plain": [
       "torch.Size([4, 128, 256])"
      ]
     },
     "metadata": {},
     "execution_count": 75
    }
   ],
   "source": [
    "# 图片除了 RGB 通道, 还可以有 alpha 通道用来表示透明度\n",
    "\n",
    "alpha_HxW = t.rand(128, 256)\n",
    "alpha_1xHxW = alpha_HxW[None]  # 等价于 alpha.unsqueeze(0)\n",
    "rgba_img = t.cat([alpha_1xHxW, img_3xHxW], dim=0)\n",
    "rgba_img.shape"
   ]
  },
  {
   "cell_type": "code",
   "execution_count": 76,
   "metadata": {
    "id": "_zxg2Lf-u103"
   },
   "outputs": [],
   "source": [
    "# 去掉第一维的 1\n",
    "# 也可以使用 alpha_1xHxW.squeeze(): 去掉所有为 1 的维度\n",
    "# 也可以使用 alpha_1xHxW.flatten(0, 1): 1 和 128 合并\n",
    "# 也可以使用 alpha_1xHxW[0]: 通过索引取出第一维的数据\n",
    "\n",
    "alpha_HxW = alpha_1xHxW.view(128, 256)"
   ]
  },
  {
   "cell_type": "markdown",
   "metadata": {
    "id": "tD-tyq8_u103"
   },
   "source": [
    "### 转置 `torch.transpose/tensor.permute`\n",
    "\n",
    "注意, Tensor 的转置(transpose)和改变形状(reshape)是两个不一样的概念. 比如将一张图片旋转 90 度, 就属于向量的转置, 无法通过单纯的改变向量形状实现.\n",
    "\n",
    "`transpose` 和 `permute` 函数都可以用于高维矩阵的转置, 但用法上稍有区别: `transpose`只能用于两个维度的转置, 意思就是只能改变两个维度的信息, 而 `permute` 可以对任意高维矩阵进行转置, 直接输入转置后维度 index 即可. 我们可以通过多次 `transpose` 变换达到和 `permute` 相同的效果. 常用的转置操作还有 `tensor.t()` 和 `tensor.T`, 它们和 `tensor.transpose()`一样都属于 `permute` 的特例.\n",
    "\n",
    "另外, 向量的转置操作大多数情况下和输入的 Tensor 共享存储, 但是会使得向量变得不连续, 此时最好通过 `tensor.contiguous()` 将它变成连续. 但是有些操作(比如 `tensor.sum/max`)支持不连续的 Tensor, 那么你可以不用将它变成连续, 这样可以节省内存/显存."
   ]
  },
  {
   "cell_type": "code",
   "execution_count": 77,
   "metadata": {
    "id": "2Kqni4h5u103",
    "colab": {
     "base_uri": "https://localhost:8080/"
    },
    "outputId": "1be67804-9b9c-4f1a-9fb1-6e15c0341cc6"
   },
   "outputs": [
    {
     "output_type": "execute_result",
     "data": {
      "text/plain": [
       "tensor([[0, 1, 2],\n",
       "        [3, 4, 5]])"
      ]
     },
     "metadata": {},
     "execution_count": 77
    }
   ],
   "source": [
    "mask = t.arange(6).view(2, 3)  # 一张高为2, 宽为3的图片\n",
    "mask"
   ]
  },
  {
   "cell_type": "code",
   "execution_count": 78,
   "metadata": {
    "id": "Ys1U-nP3u103",
    "colab": {
     "base_uri": "https://localhost:8080/"
    },
    "outputId": "b5c853a1-305c-4086-f921-633c15bf3d0e"
   },
   "outputs": [
    {
     "output_type": "execute_result",
     "data": {
      "text/plain": [
       "tensor([[0, 3],\n",
       "        [1, 4],\n",
       "        [2, 5]])"
      ]
     },
     "metadata": {},
     "execution_count": 78
    }
   ],
   "source": [
    "# 将图片旋转 90 度, 也就是第一个维度(0)和第二个维度交换\n",
    "# 等价于 mask.transpose(1,0)\n",
    "# 等价于 mask.t() 或 img.T\n",
    "# 等价于 mask.permute(1, 0), 不等价于 img.permute(0, 1)\n",
    "\n",
    "mask.transpose(0, 1)"
   ]
  },
  {
   "cell_type": "code",
   "execution_count": 79,
   "metadata": {
    "id": "Tl9X-GBqu104",
    "colab": {
     "base_uri": "https://localhost:8080/"
    },
    "outputId": "64a87c6f-bd2f-4f1b-b29e-b61c775eeadb"
   },
   "outputs": [
    {
     "output_type": "execute_result",
     "data": {
      "text/plain": [
       "tensor([[0, 1],\n",
       "        [2, 3],\n",
       "        [4, 5]])"
      ]
     },
     "metadata": {},
     "execution_count": 79
    }
   ],
   "source": [
    "# 单纯地改变图片的形状\n",
    "# 注意和上面的区别, 结果仍然是连续的\n",
    "\n",
    "mask.view(3, 2)"
   ]
  },
  {
   "cell_type": "code",
   "execution_count": 80,
   "metadata": {
    "id": "29z_oA8hu104",
    "colab": {
     "base_uri": "https://localhost:8080/"
    },
    "outputId": "7c3cf076-dc02-443d-e59c-bb785ab2e477"
   },
   "outputs": [
    {
     "output_type": "execute_result",
     "data": {
      "text/plain": [
       "False"
      ]
     },
     "metadata": {},
     "execution_count": 80
    }
   ],
   "source": [
    "# PyTorch 等深度学习框架中图片一般存储为 3xHxW\n",
    "\n",
    "img_3xHxW = t.randn(3, 128, 256)\n",
    "\n",
    "# 而在OpenCV/NumPy/skimage 中, 图片一般存储为 HxWx3\n",
    "# img_3xHxW 的形状为 shape=[3,H,W], 经过 permute(1,2,0) 得到的形状为:\n",
    "# [shape[1], shape[2], shape[0]] = [H, W, 3]\n",
    "\n",
    "img_HxWx3 = img_3xHxW.permute(1, 2, 0)\n",
    "\n",
    "img_HxWx3.is_contiguous()"
   ]
  },
  {
   "cell_type": "code",
   "execution_count": 81,
   "metadata": {
    "id": "KZ37ACBzu104",
    "colab": {
     "base_uri": "https://localhost:8080/"
    },
    "outputId": "d82115a5-5413-45e9-f70a-977bb1935185"
   },
   "outputs": [
    {
     "output_type": "execute_result",
     "data": {
      "text/plain": [
       "tensor([ 1.3911,  0.0611, -0.5226,  ..., -0.3549,  0.6230, -0.2300])"
      ]
     },
     "metadata": {},
     "execution_count": 81
    }
   ],
   "source": [
    "img_HxWx3.reshape(-1)  # .view 会报错, 因为img_HxWx3不连续"
   ]
  },
  {
   "cell_type": "markdown",
   "metadata": {
    "id": "Pxas1Wsfu104"
   },
   "source": [
    "一个用来区分什么时候用 `tensor.reshape` 还是 `tensor.transpose` 的小技巧: 如果输出 Tensor 的数据排列和输入一样就是用 `tensor.reshape`, 否则应该使用 `tensor.transpose`."
   ]
  },
  {
   "cell_type": "code",
   "execution_count": 82,
   "metadata": {
    "id": "yA-DaI_Ku104"
   },
   "outputs": [],
   "source": [
    "H, W = 4, 5\n",
    "img_3xHxW = t.randn(3, H, W)\n",
    "\n",
    "# 目标数据排列和输入一样, 直接使用 reshape\n",
    "img_3xHW = img_3xHxW.reshape(3, -1)\n",
    "\n",
    "# 目标数据排列和输入不一样, 先通过 transpose 变成 (3, W, H), 再变成 (3, WH)\n",
    "img_3xWH = img_3xHxW.transpose(1, 2).reshape(3, -1)\n",
    "\n",
    "# 再变形为 3xWxH 的形式\n",
    "img_3xWxH = img_3xWH.reshape(3, W, H)"
   ]
  },
  {
   "cell_type": "markdown",
   "metadata": {
    "id": "6m8QmMRXu104"
   },
   "source": [
    "## 3.3 小试牛刀: 线性回归\n",
    "\n",
    "线性回归是机器学习的入门知识, 应用十分广泛. 线性回归利用数理统计中的回归分析来确定两种或两种以上变量间相互依赖的定量关系, 其表达形式为 $y = wx+b+e$, 误差 $e$ 服从均值为 0 的正态分布. 线性回归的损失函数是:\n",
    "$$\n",
    "loss = \\sum_i^N \\frac 1 2 ({y_i-(wx_i+b)})^2\n",
    "$$\n",
    "我们可以利用随机梯度下降法更新参数 $\\textbf{w}$和$\\textbf{b}$ 来最小化损失函数, 最终学得 $\\textbf{w}$ 和 $\\textbf{b}$ 的数值."
   ]
  },
  {
   "cell_type": "code",
   "execution_count": 83,
   "metadata": {
    "id": "-wyURM9ju104"
   },
   "outputs": [],
   "source": [
    "import torch as t\n",
    "\n",
    "%matplotlib inline\n",
    "from matplotlib import pyplot as plt\n",
    "from IPython import display\n",
    "\n",
    "device = t.device(\"cpu\")  # 如果你想用 GPU, 改成 t.device('cuda:0')"
   ]
  },
  {
   "cell_type": "code",
   "execution_count": 84,
   "metadata": {
    "id": "4Fr880Xju105"
   },
   "outputs": [],
   "source": [
    "# 设置随机数种子, 保证在不同电脑上运行时下面的输出一致\n",
    "\n",
    "t.manual_seed(1000)\n",
    "\n",
    "\n",
    "def get_fake_data(batch_size=8):\n",
    "    \"\"\"产生随机数据: y=x*2+3, 加上了一些噪声\"\"\"\n",
    "    x = t.rand(batch_size, 1, device=device) * 5\n",
    "    y = x * 2 + 3 + t.randn(batch_size, 1, device=device)\n",
    "    return x, y"
   ]
  },
  {
   "cell_type": "code",
   "execution_count": 85,
   "metadata": {
    "id": "JftuWNrFu105",
    "colab": {
     "base_uri": "https://localhost:8080/",
     "height": 448
    },
    "outputId": "4f1d7c60-503b-46f6-bd93-fb8fecb3be89"
   },
   "outputs": [
    {
     "output_type": "execute_result",
     "data": {
      "text/plain": [
       "<matplotlib.collections.PathCollection at 0x79eefdd25c00>"
      ]
     },
     "metadata": {},
     "execution_count": 85
    },
    {
     "output_type": "display_data",
     "data": {
      "text/plain": [
       "<Figure size 640x480 with 1 Axes>"
      ],
      "image/png": "[encoded data removed]"
     },
     "metadata": {}
    }
   ],
   "source": [
    "# 来看看产生的 x-y 分布\n",
    "\n",
    "x, y = get_fake_data(batch_size=16)\n",
    "plt.scatter(x.squeeze().cpu().numpy(), y.squeeze().cpu().numpy())"
   ]
  },
  {
   "cell_type": "code",
   "execution_count": 86,
   "metadata": {
    "id": "xMg_bmZEu105",
    "colab": {
     "base_uri": "https://localhost:8080/",
     "height": 466
    },
    "outputId": "a0d61537-3185-4166-c17d-300876c87373"
   },
   "outputs": [
    {
     "output_type": "stream",
     "name": "stdout",
     "text": [
      "torch.FloatTensor torch.FloatTensor\n"
     ]
    },
    {
     "output_type": "display_data",
     "data": {
      "text/plain": [
       "<Figure size 640x480 with 1 Axes>"
      ],
      "image/png": "[encoded data removed]"
     },
     "metadata": {}
    },
    {
     "output_type": "stream",
     "name": "stdout",
     "text": [
      "w:  1.9115010499954224 b:  3.044184446334839\n"
     ]
    }
   ],
   "source": [
    "# 随机初始化参数\n",
    "\n",
    "w = t.rand(1, 1).to(device)\n",
    "b = t.zeros(1, 1).to(device)\n",
    "\n",
    "lr = 0.02  # 学习率 learning rate\n",
    "\n",
    "for ii in range(500):\n",
    "    x, y = get_fake_data(batch_size=4)\n",
    "\n",
    "    # forward: 计算 loss\n",
    "\n",
    "    y_pred = x.mm(w) + b.expand_as(y)  # expand_as 用到了广播法则, 将在第六章详析介绍\n",
    "    loss = 0.5 * (y_pred - y) ** 2  # 均方误差\n",
    "    loss = loss.mean()\n",
    "\n",
    "    # backward: 手动计算梯度\n",
    "\n",
    "    dloss = 1\n",
    "    dy_pred = dloss * (y_pred - y)\n",
    "\n",
    "    dw = x.t().mm(dy_pred)\n",
    "    db = dy_pred.sum()\n",
    "\n",
    "    # 更新参数\n",
    "\n",
    "    w.sub_(lr * dw)  # inplace 修改\n",
    "    b.sub_(lr * db)\n",
    "\n",
    "    if ii % 50 == 0:\n",
    "        # 画图\n",
    "\n",
    "        display.clear_output(wait=True)\n",
    "        x = t.arange(0, 6).float().view(-1, 1)\n",
    "        print(x.type(), w.type())\n",
    "        y = x.mm(w) + b.expand_as(x)\n",
    "        plt.plot(x.cpu().numpy(), y.cpu().numpy())  # predicted\n",
    "\n",
    "        x2, y2 = get_fake_data(batch_size=32)\n",
    "        plt.scatter(x2.numpy(), y2.numpy())  # true data\n",
    "\n",
    "        plt.xlim(0, 5)\n",
    "        plt.ylim(0, 13)\n",
    "        plt.show()\n",
    "        plt.pause(0.5)\n",
    "print(\"w: \", w.item(), \"b: \", b.item())"
   ]
  },
  {
   "cell_type": "markdown",
   "metadata": {
    "id": "dEv-j9dku105"
   },
   "source": [
    "可见程序已经基本学出 w=2、b=3, 并且图中直线和数据已经实现较好的拟合."
   ]
  },
  {
   "cell_type": "markdown",
   "metadata": {
    "id": "e04GGEI6u105"
   },
   "source": [
    "## 3.4 autograd 和计算图基础\n",
    "\n",
    "在训练网络时使用 Tensor 非常方便, 但从 3.3 节线性回归的例子来看, 反向传播过程需要手动实现. 这对于像线性回归等较为简单的模型, 还比较容易, 但在实际使用中经常出现非常复杂的网络结构, 此时如果手动实现反向传播, 不仅费时费力, 而且容易出错, 难以检查. `torch.autograd` 就是为了方便用户使用, 而专门开发的一套自动求导引擎, 它能够根据输入和前向传播过程自动构建计算图, 并执行反向传播.\n",
    "\n",
    "计算图(Computation Graph)是包括 PyTorch 和 TensorFlow 在内的许多现代深度学习框架的核心, 它为自动求导算法——反向传播(Back Propogation)提供了计算基础, 了解计算图在实际写程序过程中会有极大的帮助. 本节将涉及一些基础的计算图知识, 但并不要求读者事先对此有深入的了解.\n",
    "\n",
    "### 3.4.1 requires_grad\n",
    "\n",
    "PyTorch 在 autograd 模块中实现了计算图的相关功能, autograd 中的核心数据结构便是 Tensor. 当用户定义网络模型时, autograd 会记录与网络相关的 Tensor 的所有操作, 从而形成一个前向传播的有向无环图(DAG). 在这个图中, 输入网络的 Tensor 会成为叶子节点, 而网络输出的 Tensor 会成为根节点, autograd 便可从根节点开始遍历, 并对其中所有 `requires_grad=True` 的 Tensor 进行求导操作, 这样逐层遍历至叶子节点时, 便可通过链式操作计算梯度, 从而自动完成了反向传播操作. autograd 中核心的反向传播函数如下:\n",
    "\n",
    "`torch.autograd.backward(tensors, grad_tensors=None, retain_graph=None, create_graph=False)`\n",
    "\n",
    "其中:\n",
    "- tensors: 用于计算梯度的 Tensor, 如 torch.autograd.backward(y)(等价于y.backward())\n",
    "- grad_tensors: 形状与 Tensor 一致, 对于 `y.backward()`, grad_variables 相当于链式法则 ${dz \\over dx}={dz \\over dy} \\times {dy \\over dx}$ 中的 $\\textbf {dz} \\over \\textbf {dy}$. grad_variables 也可以是 tensor 或序列.\n",
    "- retain_graph: 反向传播需要缓存一些中间结果, 反向传播之后, 这些缓存就被清空, 可通过指定这个参数不清空缓存, 用来多次反向传播.\n",
    "- create_graph: 对反向传播过程再次构建计算图, 可通过 `backward of backward` 实现求高阶导数.\n",
    "\n",
    "下面举几个简单的例子来说明autograd如何使用."
   ]
  },
  {
   "cell_type": "code",
   "execution_count": 87,
   "metadata": {
    "id": "eLm0xXKyu105",
    "colab": {
     "base_uri": "https://localhost:8080/"
    },
    "outputId": "72a52c62-ee97-4839-acf2-66dfa96ebf17"
   },
   "outputs": [
    {
     "output_type": "execute_result",
     "data": {
      "text/plain": [
       "True"
      ]
     },
     "metadata": {},
     "execution_count": 87
    }
   ],
   "source": [
    "from __future__ import print_function\n",
    "import torch as t\n",
    "\n",
    "# 下面两种写法等价\n",
    "a = t.randn(3, 4, requires_grad=True)\n",
    "# a = t.randn(3, 4).requires_grad_()\n",
    "\n",
    "a.requires_grad"
   ]
  },
  {
   "cell_type": "code",
   "execution_count": 88,
   "metadata": {
    "id": "42IXVgVZu106"
   },
   "outputs": [],
   "source": [
    "# 也可以单独设置 requires_grad\n",
    "\n",
    "a = t.randn(3, 4)\n",
    "a.requires_grad = True"
   ]
  },
  {
   "cell_type": "code",
   "execution_count": 89,
   "metadata": {
    "id": "EhzLZzp_u106",
    "colab": {
     "base_uri": "https://localhost:8080/"
    },
    "outputId": "85c03c44-45d0-4f95-933b-73f163ad0c89"
   },
   "outputs": [
    {
     "output_type": "execute_result",
     "data": {
      "text/plain": [
       "tensor(-1.6152, grad_fn=<SumBackward0>)"
      ]
     },
     "metadata": {},
     "execution_count": 89
    }
   ],
   "source": [
    "b = t.zeros(3, 4).requires_grad_()\n",
    "c = (a + b).sum()\n",
    "c.backward()\n",
    "c"
   ]
  },
  {
   "cell_type": "code",
   "execution_count": 90,
   "metadata": {
    "id": "_Kc7NSVju106",
    "colab": {
     "base_uri": "https://localhost:8080/"
    },
    "outputId": "09bca2c8-740a-47dc-a938-1bf0eb3446f2"
   },
   "outputs": [
    {
     "output_type": "execute_result",
     "data": {
      "text/plain": [
       "tensor([[1., 1., 1., 1.],\n",
       "        [1., 1., 1., 1.],\n",
       "        [1., 1., 1., 1.]])"
      ]
     },
     "metadata": {},
     "execution_count": 90
    }
   ],
   "source": [
    "a.grad"
   ]
  },
  {
   "cell_type": "code",
   "execution_count": 91,
   "metadata": {
    "id": "UYushLoiu106",
    "colab": {
     "base_uri": "https://localhost:8080/"
    },
    "outputId": "97d97872-eded-42c6-cb96-3c59c406a5ce"
   },
   "outputs": [
    {
     "output_type": "execute_result",
     "data": {
      "text/plain": [
       "(True, True, True)"
      ]
     },
     "metadata": {},
     "execution_count": 91
    }
   ],
   "source": [
    "# 此处虽然没有指定 c 需要求导, 但 c 依赖于 a, 而 a 需要求导,\n",
    "# 因此 c 的 requires_grad 属性会自动设为 True\n",
    "\n",
    "a.requires_grad, b.requires_grad, c.requires_grad"
   ]
  },
  {
   "cell_type": "markdown",
   "metadata": {
    "id": "Yrs70AXgu106"
   },
   "source": [
    "#### Tensor 的 is_leaf 属性\n",
    "\n",
    "对于计算图中的 Tensor 而言, 只有当 `is_leaf=True` 时, 其导数结果才会被保留下来, 我们称这样的 Tensor 为 Leaf Tensor, 也就是计算图中的叶子节点. 设计 Leaf Tensor 的初衷是为了节省内存/显存, 因为通常情况下我们不会直接使用非叶子节点的梯度信息. 下面给出 Leaf Tensor 的判断准则:\n",
    "\n",
    "- 当 Tensor 的 requires_grad 为 False 的时候, 它就是 Leaf Tensor\n",
    "- 当 Tensor 的 requires_grad 为 True, 但是是由用户创建的时候, 它也是 Leaf Tensor.\n",
    "\n",
    "需要注意的是, Leaf Tensor 的 grad_fn 属性为 None. 下面将举例说明 Leaf Tensor 的判断准则."
   ]
  },
  {
   "cell_type": "code",
   "execution_count": 92,
   "metadata": {
    "id": "gmdsyzyju106",
    "colab": {
     "base_uri": "https://localhost:8080/"
    },
    "outputId": "6e2c24c5-358d-4c8d-f70f-3eef4c938607"
   },
   "outputs": [
    {
     "output_type": "execute_result",
     "data": {
      "text/plain": [
       "(True, True, False)"
      ]
     },
     "metadata": {},
     "execution_count": 92
    }
   ],
   "source": [
    "a.is_leaf, b.is_leaf, c.is_leaf"
   ]
  },
  {
   "cell_type": "code",
   "execution_count": 93,
   "metadata": {
    "id": "gGEIueHAu106",
    "colab": {
     "base_uri": "https://localhost:8080/"
    },
    "outputId": "a961f7d3-b80b-4760-b4bf-cb7c2dcf9fab"
   },
   "outputs": [
    {
     "output_type": "execute_result",
     "data": {
      "text/plain": [
       "True"
      ]
     },
     "metadata": {},
     "execution_count": 93
    }
   ],
   "source": [
    "a = t.rand(10, requires_grad=True)\n",
    "a.is_leaf"
   ]
  },
  {
   "cell_type": "code",
   "execution_count": 94,
   "metadata": {
    "id": "_3Oxbcu0u107",
    "colab": {
     "base_uri": "https://localhost:8080/"
    },
    "outputId": "60ee88ae-ecb1-4916-fec6-3741b0945ccb"
   },
   "outputs": [
    {
     "output_type": "execute_result",
     "data": {
      "text/plain": [
       "True"
      ]
     },
     "metadata": {},
     "execution_count": 94
    }
   ],
   "source": [
    "b = t.rand(10, requires_grad=True)\n",
    "b.is_leaf"
   ]
  },
  {
   "cell_type": "code",
   "execution_count": 95,
   "metadata": {
    "id": "OhFqD-kau107",
    "colab": {
     "base_uri": "https://localhost:8080/"
    },
    "outputId": "ebff8973-bbb5-4afb-9339-d72b134adad7"
   },
   "outputs": [
    {
     "output_type": "execute_result",
     "data": {
      "text/plain": [
       "False"
      ]
     },
     "metadata": {},
     "execution_count": 95
    }
   ],
   "source": [
    "c = t.rand(10, requires_grad=True) + 2\n",
    "c.is_leaf"
   ]
  },
  {
   "cell_type": "code",
   "execution_count": 96,
   "metadata": {
    "id": "yOiUnCFMu107",
    "colab": {
     "base_uri": "https://localhost:8080/"
    },
    "outputId": "5e261908-0ca5-46e2-8bd0-4eba98399b07"
   },
   "outputs": [
    {
     "output_type": "stream",
     "name": "stdout",
     "text": [
      "False\n",
      "True\n"
     ]
    }
   ],
   "source": [
    "d = t.rand(10)\n",
    "print(d.requires_grad)  # False\n",
    "print(d.is_leaf)  # 除了创建外没有其他操作(由 autograd 实现的)"
   ]
  },
  {
   "cell_type": "code",
   "execution_count": 97,
   "metadata": {
    "id": "lwWJMkqwu107",
    "colab": {
     "base_uri": "https://localhost:8080/"
    },
    "outputId": "83e7b26b-a412-4f1c-e780-6541401fea55"
   },
   "outputs": [
    {
     "output_type": "execute_result",
     "data": {
      "text/plain": [
       "True"
      ]
     },
     "metadata": {},
     "execution_count": 97
    }
   ],
   "source": [
    "e = t.rand(10).requires_grad_()\n",
    "e.is_leaf  # 同样的, 在创建 e 的时候没有额外的操作"
   ]
  },
  {
   "cell_type": "markdown",
   "metadata": {
    "id": "Gr9nshOIu107"
   },
   "source": [
    "接着我们来看看 autograd 计算的导数和我们手动推导的导数的区别:\n",
    "\n",
    "$$\n",
    "y = x^2\\bullet e^x\n",
    "$$\n",
    "\n",
    "它的导函数是:\n",
    "\n",
    "$$\n",
    "{dy \\over dx} = 2x\\bullet e^x + x^2 \\bullet e^x\n",
    "$$"
   ]
  },
  {
   "cell_type": "code",
   "execution_count": 98,
   "metadata": {
    "id": "3AjDFPhEu107"
   },
   "outputs": [],
   "source": [
    "def f(x):\n",
    "    \"\"\"计算y\"\"\"\n",
    "    y = x**2 * t.exp(x)\n",
    "    return y\n",
    "\n",
    "\n",
    "def gradf(x):\n",
    "    \"\"\"手动求导函数\"\"\"\n",
    "    dx = 2 * x * t.exp(x) + x**2 * t.exp(x)\n",
    "    return dx"
   ]
  },
  {
   "cell_type": "code",
   "execution_count": 99,
   "metadata": {
    "id": "UwjLEO9cu107",
    "colab": {
     "base_uri": "https://localhost:8080/"
    },
    "outputId": "aa5076ac-77f1-4082-c308-e7259fe0bfa3"
   },
   "outputs": [
    {
     "output_type": "execute_result",
     "data": {
      "text/plain": [
       "tensor([[0.0109, 0.2316, 0.8111, 7.1278],\n",
       "        [0.4126, 0.5035, 0.5146, 0.9632],\n",
       "        [0.5159, 1.0523, 0.0118, 0.3755]], grad_fn=<MulBackward0>)"
      ]
     },
     "metadata": {},
     "execution_count": 99
    }
   ],
   "source": [
    "x = t.randn(3, 4, requires_grad=True)\n",
    "y = f(x)\n",
    "y"
   ]
  },
  {
   "cell_type": "code",
   "execution_count": 100,
   "metadata": {
    "id": "eH3NOc3zu108",
    "colab": {
     "base_uri": "https://localhost:8080/"
    },
    "outputId": "5d8d05e4-5ed2-43a3-9db1-3977be3329ec"
   },
   "outputs": [
    {
     "output_type": "execute_result",
     "data": {
      "text/plain": [
       "tensor([[ 0.2308, -0.4555,  3.3047, 17.6441],\n",
       "        [-0.3174, -0.1639, -0.1357,  3.7401],\n",
       "        [-0.1319,  3.9884,  0.2404, -0.3601]])"
      ]
     },
     "metadata": {},
     "execution_count": 100
    }
   ],
   "source": [
    "y.backward(t.ones(y.size()))  # gradient 形状与 y 一致\n",
    "x.grad"
   ]
  },
  {
   "cell_type": "code",
   "execution_count": 101,
   "metadata": {
    "id": "X_YxuA1wu108",
    "colab": {
     "base_uri": "https://localhost:8080/"
    },
    "outputId": "3616dbef-4505-4064-a1f9-f042092ea49d"
   },
   "outputs": [
    {
     "output_type": "execute_result",
     "data": {
      "text/plain": [
       "tensor([[ 0.2308, -0.4555,  3.3047, 17.6441],\n",
       "        [-0.3174, -0.1639, -0.1357,  3.7401],\n",
       "        [-0.1319,  3.9884,  0.2404, -0.3601]], grad_fn=<AddBackward0>)"
      ]
     },
     "metadata": {},
     "execution_count": 101
    }
   ],
   "source": [
    "# autograd 的计算结果与利用公式手动计算的结果一致\n",
    "\n",
    "gradf(x)"
   ]
  },
  {
   "cell_type": "markdown",
   "metadata": {
    "id": "Z4EhFyQXu108"
   },
   "source": [
    "### 3.4.2 计算图\n",
    "\n",
    "PyTorch中 `autograd` 的底层采用了计算图, 计算图是一种特殊的有向无环图(DAG), 用于记录算子与变量之间的关系. 一般用矩形表示算子, 椭圆形表示变量. 如表达式 $ \\textbf {z = wx + b}$ 可分解为 $\\textbf{y = wx}$和$\\textbf{z = y + b}$, 其计算图如图 3-2 所示, 图中 `MUL`, `ADD` 都是算子, $\\textbf{w}$, $\\textbf{x}$, $\\textbf{b}$ 即变量.\n",
    "\n",
    "![图3-2:computation graph](imgs/com_graph.png)"
   ]
  },
  {
   "cell_type": "markdown",
   "metadata": {
    "id": "16OtHcB-u108"
   },
   "source": [
    "如上有向无环图中, $\\textbf{X}$ 和 $\\textbf{b}$ 是叶子节点, 这些节点通常由用户自己创建, 不依赖于其他变量. $\\textbf{z}$ 称为根节点, 是计算图的最终目标. 利用链式法则很容易求得各个叶子节点的梯度.\n",
    "\n",
    "$${\\partial z \\over \\partial b} = 1,\\space {\\partial z \\over \\partial y} = 1\\\\\n",
    "{\\partial y \\over \\partial w }= x,{\\partial y \\over \\partial x}= w\\\\\n",
    "{\\partial z \\over \\partial x}= {\\partial z \\over \\partial y} {\\partial y \\over \\partial x}=1 * w\\\\\n",
    "{\\partial z \\over \\partial w}= {\\partial z \\over \\partial y} {\\partial y \\over \\partial w}=1 * x\\\\\n",
    "$$\n",
    "\n",
    "而有了计算图, 上述链式求导即可利用计算图的反向传播自动完成, 其过程如图 3-3 所示.\n",
    "\n",
    "![图3-3: 计算图的反向传播](imgs/com_graph_backward.png)\n",
    "\n",
    "在 PyTorch 实现中, autograd 会随着用户的操作, 记录生成当前 Tensor 的所有操作, 并由此建立一个有向无环图. 用户每进行一个操作, 相应的计算图就会发生改变. 更底层的实现中, 图中记录了操作 `Function`, 每一个变量在图中的位置可通过其 `grad_fn` 属性在图中的位置推测得到. 在反向传播过程中, autograd 沿着这个图从当前变量(根节点 $\\textbf{z}$)溯源, 可以利用链式求导法则计算所有叶子节点的梯度. 每一个前向传播操作的函数都有与之对应的反向传播函数用来计算输入的各个 Tensor 的梯度, 这些函数的函数名通常以 `Backward` 结尾. 下面结合代码学习 autograd 的实现细节."
   ]
  },
  {
   "cell_type": "code",
   "execution_count": 102,
   "metadata": {
    "id": "BSrlH-gHu108",
    "colab": {
     "base_uri": "https://localhost:8080/"
    },
    "outputId": "e3349557-5e20-4f85-bac7-943742e3ea34"
   },
   "outputs": [
    {
     "output_type": "execute_result",
     "data": {
      "text/plain": [
       "(False, True, True)"
      ]
     },
     "metadata": {},
     "execution_count": 102
    }
   ],
   "source": [
    "x = t.ones(1)\n",
    "b = t.rand(1, requires_grad=True)\n",
    "w = t.rand(1, requires_grad=True)\n",
    "y = w * x  # 等价于 y = w.mul(x)\n",
    "z = y + b  # 等价于 z = y.add(b)\n",
    "\n",
    "x.requires_grad, b.requires_grad, w.requires_grad"
   ]
  },
  {
   "cell_type": "code",
   "execution_count": 103,
   "metadata": {
    "id": "hoGgMkRVu108",
    "colab": {
     "base_uri": "https://localhost:8080/"
    },
    "outputId": "f9f796f3-9fd7-4825-a8df-5771203607a8"
   },
   "outputs": [
    {
     "output_type": "execute_result",
     "data": {
      "text/plain": [
       "True"
      ]
     },
     "metadata": {},
     "execution_count": 103
    }
   ],
   "source": [
    "# 虽然未指定 y.requires_grad 为 True, 但由于 y 依赖于需要求导的 w\n",
    "# 故而 y.requires_grad 为 True\n",
    "\n",
    "y.requires_grad"
   ]
  },
  {
   "cell_type": "code",
   "execution_count": 104,
   "metadata": {
    "id": "aXuGLDFHu108",
    "colab": {
     "base_uri": "https://localhost:8080/"
    },
    "outputId": "dbeef621-a47e-4081-9166-038fab02d1a0"
   },
   "outputs": [
    {
     "output_type": "execute_result",
     "data": {
      "text/plain": [
       "<AddBackward0 at 0x79eefc60ada0>"
      ]
     },
     "metadata": {},
     "execution_count": 104
    }
   ],
   "source": [
    "# grad_fn 可以查看这个 Tensor 的反向传播函数,\n",
    "# z 是 add 函数的输出, 所以它的反向传播函数是 AddBackward\n",
    "\n",
    "z.grad_fn"
   ]
  },
  {
   "cell_type": "code",
   "execution_count": 105,
   "metadata": {
    "id": "bRRYw2lCu109",
    "colab": {
     "base_uri": "https://localhost:8080/"
    },
    "outputId": "c91e4a6f-4276-46e2-c82d-6fbdd267ae2a"
   },
   "outputs": [
    {
     "output_type": "execute_result",
     "data": {
      "text/plain": [
       "((<MulBackward0 at 0x79eefc624130>, 0),\n",
       " (<AccumulateGrad at 0x79eefc6242e0>, 0))"
      ]
     },
     "metadata": {},
     "execution_count": 105
    }
   ],
   "source": [
    "# next_functions 保存 grad_fn 的输入, 是一个 tuple, tuple 的元素也是 Function\n",
    "# 第一个是 y, 它是乘法(mul)的输出, 所以对应的反向传播函数 y.grad_fn 是 MulBackward\n",
    "# 第二个是 b, 它是叶子节点, 由用户创建, grad_fn 为 None, 但是有\n",
    "\n",
    "z.grad_fn.next_functions"
   ]
  },
  {
   "cell_type": "code",
   "execution_count": 106,
   "metadata": {
    "id": "Kq3Bpn5Bu109",
    "colab": {
     "base_uri": "https://localhost:8080/"
    },
    "outputId": "75fbd9ed-8a83-487e-a89d-923a70d12560"
   },
   "outputs": [
    {
     "output_type": "execute_result",
     "data": {
      "text/plain": [
       "((<AccumulateGrad at 0x79eefc6245b0>, 0), (None, 0))"
      ]
     },
     "metadata": {},
     "execution_count": 106
    }
   ],
   "source": [
    "# 第一个是 w, 叶子节点, 需要求导, 梯度是累加的\n",
    "# 第二个是 x, 叶子节点, 不需要求导, 所以为 None\n",
    "\n",
    "y.grad_fn.next_functions"
   ]
  },
  {
   "cell_type": "code",
   "execution_count": 107,
   "metadata": {
    "id": "DECJUVUMu109",
    "colab": {
     "base_uri": "https://localhost:8080/"
    },
    "outputId": "6e154509-54b4-4640-a2bf-98dfcbc600bd"
   },
   "outputs": [
    {
     "output_type": "execute_result",
     "data": {
      "text/plain": [
       "(None, None)"
      ]
     },
     "metadata": {},
     "execution_count": 107
    }
   ],
   "source": [
    "# 叶子节点的 grad_fn 是 None\n",
    "\n",
    "w.grad_fn, x.grad_fn"
   ]
  },
  {
   "cell_type": "markdown",
   "metadata": {
    "id": "1BZ6YHequ109"
   },
   "source": [
    "计算 w 的梯度的时候, 需要用到 x 的数值(${\\partial y\\over \\partial w} = x $), 这些数值在前向过程中会保存成 buffer, 在计算完梯度之后会自动清空. 为了能够多次反向传播需要指定 `retain_graph` 来保留这些 buffer."
   ]
  },
  {
   "cell_type": "code",
   "execution_count": 108,
   "metadata": {
    "id": "HLfsCs18u109",
    "colab": {
     "base_uri": "https://localhost:8080/"
    },
    "outputId": "8a0bc7ec-cf6f-4075-eee4-32a858505f3e"
   },
   "outputs": [
    {
     "output_type": "execute_result",
     "data": {
      "text/plain": [
       "tensor([1.])"
      ]
     },
     "metadata": {},
     "execution_count": 108
    }
   ],
   "source": [
    "# 使用 retain_graph 来保存 buffer\n",
    "\n",
    "z.backward(retain_graph=True)\n",
    "w.grad"
   ]
  },
  {
   "cell_type": "code",
   "execution_count": 109,
   "metadata": {
    "id": "YyKoFGoLu109",
    "colab": {
     "base_uri": "https://localhost:8080/"
    },
    "outputId": "08eeb1f8-914f-4968-dc4a-c1c3db422780"
   },
   "outputs": [
    {
     "output_type": "execute_result",
     "data": {
      "text/plain": [
       "tensor([2.])"
      ]
     },
     "metadata": {},
     "execution_count": 109
    }
   ],
   "source": [
    "# 多次反向传播, 梯度累加, 这也就是 w 中 AccumulateGrad 标识的含义\n",
    "z.backward()\n",
    "w.grad"
   ]
  },
  {
   "cell_type": "markdown",
   "metadata": {
    "id": "ElXkT7vuu10-"
   },
   "source": [
    "PyTorch 使用的是动态图, 它的计算图在每次前向传播时都是从头开始构建, 所以它能够使用 Python 控制语句(如 for、if 等)根据需求创建计算图. 这点在自然语言处理领域中很有用, 它意味着你不需要事先构建所有可能用到的图的路径, 图在运行时才构建."
   ]
  },
  {
   "cell_type": "code",
   "execution_count": 110,
   "metadata": {
    "id": "2DFaE6MNu10-",
    "colab": {
     "base_uri": "https://localhost:8080/"
    },
    "outputId": "0a9fe244-99bf-48b0-8975-230521b35ed5"
   },
   "outputs": [
    {
     "output_type": "execute_result",
     "data": {
      "text/plain": [
       "tensor([1.])"
      ]
     },
     "metadata": {},
     "execution_count": 110
    }
   ],
   "source": [
    "def abs(x):\n",
    "    if x.data[0] > 0:\n",
    "        return x\n",
    "    else:\n",
    "        return -x\n",
    "\n",
    "\n",
    "x = t.ones(1, requires_grad=True)\n",
    "y = abs(x)\n",
    "y.backward()\n",
    "x.grad"
   ]
  },
  {
   "cell_type": "code",
   "execution_count": 111,
   "metadata": {
    "id": "6DwmVAbPu10-",
    "colab": {
     "base_uri": "https://localhost:8080/"
    },
    "outputId": "fb063ecd-b3a1-411f-db1f-5dc2dd80399e"
   },
   "outputs": [
    {
     "output_type": "execute_result",
     "data": {
      "text/plain": [
       "tensor([0., 0., 0., 6., 3., 2.])"
      ]
     },
     "metadata": {},
     "execution_count": 111
    }
   ],
   "source": [
    "def f(x):\n",
    "    result = 1\n",
    "    for ii in x:\n",
    "        if ii.item() > 0:\n",
    "            result = ii * result\n",
    "    return result\n",
    "\n",
    "\n",
    "x = t.arange(-2, 4).float().requires_grad_()\n",
    "y = f(x)  # y = x[3]*x[4]*x[5]\n",
    "y.backward()\n",
    "x.grad"
   ]
  },
  {
   "cell_type": "markdown",
   "metadata": {
    "id": "4I_3Qy9Eu10-"
   },
   "source": [
    "变量的 `requires_grad` 属性默认为False, 如果某一个节点 `requires_grad` 被设置为 True, 那么所有依赖它的节点 `requires_grad` 都是 True. 这其实很好理解, 对于 $ \\textbf{x}\\to \\textbf{y} \\to \\textbf{z}$, x.requires_grad = True, 当需要计算 $\\partial z \\over \\partial x$ 时, 根据链式法则, $\\frac{\\partial z}{\\partial x} = \\frac{\\partial z}{\\partial y} \\frac{\\partial y}{\\partial x}$, 自然也需要求 $ \\frac{\\partial z}{\\partial y}$, 所以 `y.requires_grad` 会被自动标为 True.\n",
    "\n",
    "有些时候我们可能不希望 autograd 对 Tensor 求导. 认为求导需要缓存许多中间结构, 增加额外的内存/显存开销, 那么我们可以关闭自动求导. 对于不需要反向传播的情景(如 inference, 即测试推理时), 关闭自动求导可实现一定程度的速度提升, 并节省约一半显存, 因其不需要分配空间计算梯度."
   ]
  },
  {
   "cell_type": "code",
   "execution_count": 112,
   "metadata": {
    "id": "NfB-fln-u10-",
    "colab": {
     "base_uri": "https://localhost:8080/"
    },
    "outputId": "cb46c88f-7bb8-4fc7-a0d6-5f5abd36fd57"
   },
   "outputs": [
    {
     "output_type": "execute_result",
     "data": {
      "text/plain": [
       "(True, True, True)"
      ]
     },
     "metadata": {},
     "execution_count": 112
    }
   ],
   "source": [
    "x = t.ones(1, requires_grad=True)\n",
    "w = t.rand(1, requires_grad=True)\n",
    "y = x * w\n",
    "# y 依赖于 w, 而 w.requires_grad = True\n",
    "x.requires_grad, w.requires_grad, y.requires_grad"
   ]
  },
  {
   "cell_type": "code",
   "execution_count": 113,
   "metadata": {
    "id": "yucv-VSmu10-",
    "colab": {
     "base_uri": "https://localhost:8080/"
    },
    "outputId": "ee37156e-e1eb-403e-bb57-b0f71664cd25"
   },
   "outputs": [
    {
     "output_type": "execute_result",
     "data": {
      "text/plain": [
       "(False, True, False)"
      ]
     },
     "metadata": {},
     "execution_count": 113
    }
   ],
   "source": [
    "with t.no_grad():\n",
    "    x = t.ones(1)\n",
    "    w = t.rand(1, requires_grad=True)\n",
    "    y = x * w\n",
    "# y 依赖于 w 和 x, 虽然 w.requires_grad = True, 但是 y 的 requires_grad 依旧为 False\n",
    "x.requires_grad, w.requires_grad, y.requires_grad"
   ]
  },
  {
   "cell_type": "code",
   "execution_count": 114,
   "metadata": {
    "id": "VA26Bu0Fu10-",
    "colab": {
     "base_uri": "https://localhost:8080/"
    },
    "outputId": "2176dbfc-237c-4fd8-e4fd-519a22645843"
   },
   "outputs": [
    {
     "output_type": "execute_result",
     "data": {
      "text/plain": [
       "(False, True, False)"
      ]
     },
     "metadata": {},
     "execution_count": 114
    }
   ],
   "source": [
    "t.set_grad_enabled(False)  # 更改了默认设置\n",
    "x = t.ones(1)\n",
    "w = t.rand(1, requires_grad=True)\n",
    "y = x * w\n",
    "# y 依赖于 w 和 x, 虽然 w.requires_grad = True, 但是 y 的 requires_grad 依旧为 False\n",
    "x.requires_grad, w.requires_grad, y.requires_grad"
   ]
  },
  {
   "cell_type": "code",
   "execution_count": 115,
   "metadata": {
    "id": "gcHnKWzWu10_",
    "colab": {
     "base_uri": "https://localhost:8080/"
    },
    "outputId": "02b8f941-5424-48ad-d4f5-edd0375b6094"
   },
   "outputs": [
    {
     "output_type": "execute_result",
     "data": {
      "text/plain": [
       "<torch.autograd.grad_mode.set_grad_enabled at 0x79eefc627010>"
      ]
     },
     "metadata": {},
     "execution_count": 115
    }
   ],
   "source": [
    "# 恢复默认配置\n",
    "t.set_grad_enabled(True)"
   ]
  },
  {
   "cell_type": "markdown",
   "metadata": {
    "id": "d2dll0zOu10_"
   },
   "source": [
    "如果我们想要修改 Tensor 的数值, 但是又不希望被 autograd 记录, 那么我们可以对 tensor.data 进行操作."
   ]
  },
  {
   "cell_type": "code",
   "execution_count": 116,
   "metadata": {
    "id": "pqJCrD2Gu10_",
    "colab": {
     "base_uri": "https://localhost:8080/"
    },
    "outputId": "94d705f9-6447-4f3d-f234-22fb15bb5182"
   },
   "outputs": [
    {
     "output_type": "execute_result",
     "data": {
      "text/plain": [
       "tensor([[1., 1., 1., 1.],\n",
       "        [1., 1., 1., 1.],\n",
       "        [1., 1., 1., 1.]])"
      ]
     },
     "metadata": {},
     "execution_count": 116
    }
   ],
   "source": [
    "a = t.ones(3, 4, requires_grad=True)\n",
    "b = t.ones(3, 4, requires_grad=True)\n",
    "c = a * b\n",
    "\n",
    "a.data  # 还是一个 Tensor"
   ]
  },
  {
   "cell_type": "code",
   "execution_count": 117,
   "metadata": {
    "id": "GZpL5cUyu10_",
    "colab": {
     "base_uri": "https://localhost:8080/"
    },
    "outputId": "54b4b087-5d7b-4144-8c35-50b252cef77b"
   },
   "outputs": [
    {
     "output_type": "execute_result",
     "data": {
      "text/plain": [
       "False"
      ]
     },
     "metadata": {},
     "execution_count": 117
    }
   ],
   "source": [
    "a.data.requires_grad  # 已经独立于计算图之外了"
   ]
  },
  {
   "cell_type": "markdown",
   "metadata": {
    "id": "aZAPrJW9u10_"
   },
   "source": [
    "在反向传播过程中非叶子节点的导数计算完之后即被清空. 若想查看这些变量的梯度, 有两种方法:\n",
    "- 使用 autograd.grad 函数\n",
    "- 使用 hook.\n",
    "\n",
    "`autograd.grad` 和 `hook` 方法都是很强大的工具, 更详细的用法参考官方 api 文档, 这里仅举例说明基础的使用方法. 笔者推荐使用 `hook` 方法, 但是在实际使用中应尽量避免修改 grad 的值."
   ]
  },
  {
   "cell_type": "code",
   "execution_count": 118,
   "metadata": {
    "id": "XjWwc0pOu10_",
    "colab": {
     "base_uri": "https://localhost:8080/"
    },
    "outputId": "bbd6d2d0-3d11-491f-9e00-040dacfa5836"
   },
   "outputs": [
    {
     "output_type": "execute_result",
     "data": {
      "text/plain": [
       "(True, True, True)"
      ]
     },
     "metadata": {},
     "execution_count": 118
    }
   ],
   "source": [
    "x = t.ones(3, requires_grad=True)\n",
    "w = t.rand(3, requires_grad=True)\n",
    "y = x * w\n",
    "# y 依赖于 w, 而 w.requires_grad = True\n",
    "z = y.sum()\n",
    "x.requires_grad, w.requires_grad, y.requires_grad"
   ]
  },
  {
   "cell_type": "code",
   "execution_count": 119,
   "metadata": {
    "id": "trptOoqcu10_",
    "colab": {
     "base_uri": "https://localhost:8080/"
    },
    "outputId": "e833a564-5c9b-4be7-8572-68c79e911620"
   },
   "outputs": [
    {
     "output_type": "execute_result",
     "data": {
      "text/plain": [
       "(tensor([0.8637, 0.1238, 0.0123]), tensor([1., 1., 1.]), None)"
      ]
     },
     "metadata": {},
     "execution_count": 119
    }
   ],
   "source": [
    "# 非叶子节点 grad 计算完之后自动清空, y.grad 是 None\n",
    "z.backward()\n",
    "(x.grad, w.grad, y.grad)"
   ]
  },
  {
   "cell_type": "code",
   "execution_count": 120,
   "metadata": {
    "id": "ux2FS_Y4u11A",
    "colab": {
     "base_uri": "https://localhost:8080/"
    },
    "outputId": "8fb6d3b2-e7d6-4cf2-ff42-196a0898c3c1"
   },
   "outputs": [
    {
     "output_type": "execute_result",
     "data": {
      "text/plain": [
       "(tensor([1., 1., 1.]),)"
      ]
     },
     "metadata": {},
     "execution_count": 120
    }
   ],
   "source": [
    "# 第一种方法: 使用 grad 获取中间变量的梯度\n",
    "x = t.ones(3, requires_grad=True)\n",
    "w = t.rand(3, requires_grad=True)\n",
    "y = x * w\n",
    "z = y.sum()\n",
    "# z 对 y 的梯度, 隐式调用 backward()\n",
    "t.autograd.grad(z, y)"
   ]
  },
  {
   "cell_type": "code",
   "execution_count": 121,
   "metadata": {
    "id": "Qsbz2-rpu11A",
    "colab": {
     "base_uri": "https://localhost:8080/"
    },
    "outputId": "439862f5-6ba1-4690-afbb-aa4aa6274c7e"
   },
   "outputs": [
    {
     "output_type": "stream",
     "name": "stdout",
     "text": [
      "y的梯度:  tensor([1., 1., 1.])\n"
     ]
    }
   ],
   "source": [
    "# 第二种方法: 使用 hook\n",
    "# hook 是一个函数, 输入是梯度, 不应该有返回值\n",
    "def variable_hook(grad):\n",
    "    print(\"y的梯度: \", grad)\n",
    "\n",
    "\n",
    "x = t.ones(3, requires_grad=True)\n",
    "w = t.rand(3, requires_grad=True)\n",
    "y = x * w\n",
    "# 注册 hook\n",
    "hook_handle = y.register_hook(variable_hook)\n",
    "z = y.sum()\n",
    "z.backward()\n",
    "\n",
    "# 除非你每次都要用 hook, 否则用完之后记得移除 hook\n",
    "hook_handle.remove()"
   ]
  },
  {
   "cell_type": "markdown",
   "metadata": {
    "id": "C3119N-7u11A"
   },
   "source": [
    "在 PyTorch 中计算图的特点可总结如下:\n",
    "\n",
    "- autograd 根据用户对 Tesnor 的操作构建计算图. 对 Tensor 的操作抽象为 `Function`\n",
    "- 由用户创建的节点称为叶子节点, 叶子节点的 `grad_fn` 为 None. 叶子节点中需要求导的 Tesnor, 具有 `AccumulateGrad` 标识, 因其梯度是累加的\n",
    "- Tensor 默认是不需要求导的, 即 `requires_grad` 属性默认为 False, 如果某一个节点 requires_grad 被设置为 True, 那么所有依赖它的节点 `requires_grad` 都为 True\n",
    "- 多次反向传播时, 梯度是累加的. 反向传播的中间缓存会被清空, 为进行多次反向传播需指定 `retain_graph=True` 来保存这些缓存\n",
    "- 非叶子节点的梯度计算完之后即被清空, 可以使用 `autograd.grad` 或 `hook` 技术获取非叶子节点梯度的值\n",
    "- Tensor 的 grad 与 data 形状一致, 应避免直接修改 tensor.data, 因为对 data 的直接操作无法利用 autograd 进行反向传播\n",
    "- PyTorch 采用动态图设计, 可以很方便地查看中间层的输出, 动态地设计计算图结构.\n",
    "\n",
    "如果读者还并不太明白以上内容, 也不用担心, 因为在大多数情况下这并不影响读者对 PyTorch 的一般使用, 但是掌握这些内容有助于更好地理解 PyTorch, 并有效地避开很多陷阱."
   ]
  },
  {
   "cell_type": "markdown",
   "metadata": {
    "id": "qPLncsnvu11A"
   },
   "source": [
    "### 3.4.3 扩展 autograd\n",
    "\n",
    "\n",
    "目前, 绝大多数函数都可以使用 autograd 进行反向求导, 但如果需要自己写一个复杂的函数, 但并不支持自动反向求导怎么办? 答案是写一个 `Function`, 实现它的前向传播和反向传播代码, `Function` 对应于计算图中的矩形, 它接收参数, 计算并返回结果. 下面给出一个例子.\n",
    "\n",
    "```python\n",
    "\n",
    "class Mul(Function):                                                     \n",
    "    @staticmethod\n",
    "    def forward(ctx, weight, x, bias, x_requires_grad = True):\n",
    "        ctx.x_requires_grad = x_requires_grad\n",
    "        ctx.save_for_backward(weight, x)\n",
    "        output = weight * x + bias\n",
    "        return output\n",
    "        \n",
    "    @staticmethod\n",
    "    def backward(ctx, grad_output):\n",
    "        weight, x = ctx.saved_tensors\n",
    "        grad_weight = grad_output * x\n",
    "        if ctx.x_requires_grad:\n",
    "            grad_x = grad_output * weight\n",
    "        else:\n",
    "            grad_x = None\n",
    "        grad_bias = grad_output * 1\n",
    "        return grad_weight, grad_x, grad_bias, None\n",
    "```\n",
    "\n",
    "分析如下:\n",
    "\n",
    "- 自定义的 Function 需要继承 autograd.Function, 没有构造函数 `__init__`, forward 和 backward 函数都是静态方法\n",
    "- backward 函数的输出和 forward 函数的输入一一对应, backward 函数的输入和 forward 函数的输出一一对应\n",
    "- 如果某一个输入不需要求导, 直接返回 None, 如 forward 中的输入参数 x_requires_grad 显然无法对它求导, 直接返回 None 即可\n",
    "- 反向传播可能需要利用前向传播的某些中间结果, 需要进行保存, 否则前向传播结束后这些对象即被释放.\n",
    "\n",
    "读者可通过 Function.apply(tensor) 调用已经实现的 Function."
   ]
  },
  {
   "cell_type": "code",
   "execution_count": 122,
   "metadata": {
    "id": "MQi1Rxb6u11A"
   },
   "outputs": [],
   "source": [
    "from torch.autograd import Function\n",
    "\n",
    "\n",
    "class MultiplyAdd(Function):\n",
    "\n",
    "    @staticmethod\n",
    "    def forward(ctx, w, x, b):\n",
    "        ctx.save_for_backward(w, x)\n",
    "        output = w * x + b\n",
    "        return output\n",
    "\n",
    "    @staticmethod\n",
    "    def backward(ctx, grad_output):\n",
    "        w, x = ctx.saved_tensors\n",
    "        grad_w = grad_output * x\n",
    "        grad_x = grad_output * w\n",
    "        grad_b = grad_output * 1\n",
    "        return grad_w, grad_x, grad_b"
   ]
  },
  {
   "cell_type": "code",
   "execution_count": 123,
   "metadata": {
    "id": "KSvp_oVdu11A",
    "colab": {
     "base_uri": "https://localhost:8080/"
    },
    "outputId": "d0a7d465-0ed5-48e0-bb08-a78194e0c6f7"
   },
   "outputs": [
    {
     "output_type": "execute_result",
     "data": {
      "text/plain": [
       "(None, tensor([1.]), tensor([1.]))"
      ]
     },
     "metadata": {},
     "execution_count": 123
    }
   ],
   "source": [
    "x = t.ones(1)\n",
    "w = t.rand(1, requires_grad=True)\n",
    "b = t.rand(1, requires_grad=True)\n",
    "# 开始前向传播\n",
    "z = MultiplyAdd.apply(w, x, b)\n",
    "# 开始反向传播\n",
    "z.backward()\n",
    "\n",
    "# x不需要求导, 中间过程还是会计算它的导数, 但随后被清空\n",
    "x.grad, w.grad, b.grad"
   ]
  },
  {
   "cell_type": "code",
   "execution_count": 124,
   "metadata": {
    "id": "2BHPM9-3u11B",
    "colab": {
     "base_uri": "https://localhost:8080/"
    },
    "outputId": "40ee4248-f03d-4b61-8de9-34701b83e41f"
   },
   "outputs": [
    {
     "output_type": "stream",
     "name": "stdout",
     "text": [
      "<torch.autograd.function.MultiplyAddBackward object at 0x79eefc574f20>\n"
     ]
    },
    {
     "output_type": "execute_result",
     "data": {
      "text/plain": [
       "(tensor([1.]), tensor([0.3763], grad_fn=<MulBackward0>), tensor([1.]))"
      ]
     },
     "metadata": {},
     "execution_count": 124
    }
   ],
   "source": [
    "x = t.ones(1)\n",
    "w = t.rand(1, requires_grad=True)\n",
    "b = t.rand(1, requires_grad=True)\n",
    "# print('开始前向传播')\n",
    "z = MultiplyAdd.apply(w, x, b)\n",
    "# print('开始反向传播')\n",
    "\n",
    "# 调用 MultiplyAdd.backward\n",
    "# 输出 grad_w, grad_x, grad_b\n",
    "print(z.grad_fn)\n",
    "z.grad_fn.apply(t.ones(1))"
   ]
  },
  {
   "cell_type": "markdown",
   "metadata": {
    "id": "6JYhs7cyu11B"
   },
   "source": [
    "### 3.4.4 小试牛刀: 用 autograd 实现线性回归\n",
    "\n",
    "在 3.3 节中我们讲解了如何利用 Tensor 来实现线性回归, 本节将讲解如何利用 autograd 实现线性回归, 读者可以从中体会 autograd 的便捷之处."
   ]
  },
  {
   "cell_type": "code",
   "execution_count": 125,
   "metadata": {
    "id": "CB_7SD2_u11B"
   },
   "outputs": [],
   "source": [
    "import torch as t\n",
    "\n",
    "%matplotlib inline\n",
    "from matplotlib import pyplot as plt\n",
    "from IPython import display\n",
    "import numpy as np"
   ]
  },
  {
   "cell_type": "code",
   "execution_count": 126,
   "metadata": {
    "id": "qWOfHv_Ou11B"
   },
   "outputs": [],
   "source": [
    "# 设置随机数种子, 以保证结果可复现\n",
    "t.manual_seed(1000)\n",
    "\n",
    "\n",
    "def get_fake_data(batch_size=8):\n",
    "    \"\"\"产生随机数据: y = x * 2 + 3, 加上了一些噪声\"\"\"\n",
    "    x = t.rand(batch_size, 1) * 5\n",
    "    y = x * 2 + 3 + t.randn(batch_size, 1)\n",
    "    return x, y"
   ]
  },
  {
   "cell_type": "code",
   "execution_count": 127,
   "metadata": {
    "id": "J4Haws6Gu11B",
    "colab": {
     "base_uri": "https://localhost:8080/",
     "height": 448
    },
    "outputId": "f66c224e-5426-4176-f6e9-c9e91a9e29f2"
   },
   "outputs": [
    {
     "output_type": "execute_result",
     "data": {
      "text/plain": [
       "<matplotlib.collections.PathCollection at 0x79eefc466e30>"
      ]
     },
     "metadata": {},
     "execution_count": 127
    },
    {
     "output_type": "display_data",
     "data": {
      "text/plain": [
       "<Figure size 640x480 with 1 Axes>"
      ],
      "image/png": "[encoded data removed]"
     },
     "metadata": {}
    }
   ],
   "source": [
    "# 来看看产生x-y分布是什么样的\n",
    "x, y = get_fake_data()\n",
    "plt.scatter(x.squeeze().numpy(), y.squeeze().numpy())"
   ]
  },
  {
   "cell_type": "code",
   "execution_count": 128,
   "metadata": {
    "id": "G0S5Ug42u11B",
    "colab": {
     "base_uri": "https://localhost:8080/",
     "height": 448
    },
    "outputId": "14e77412-f3ef-4c3f-e462-8041823869e9"
   },
   "outputs": [
    {
     "output_type": "display_data",
     "data": {
      "text/plain": [
       "<Figure size 640x480 with 1 Axes>"
      ],
      "image/png": "[encoded data removed]"
     },
     "metadata": {}
    },
    {
     "output_type": "stream",
     "name": "stdout",
     "text": [
      "2.026895761489868 2.9732823371887207\n"
     ]
    }
   ],
   "source": [
    "# 随机初始化参数\n",
    "w = t.rand(1, 1, requires_grad=True)\n",
    "b = t.zeros(1, 1, requires_grad=True)\n",
    "losses = np.zeros(500)\n",
    "\n",
    "lr = 0.005  # 学习率\n",
    "\n",
    "for ii in range(500):\n",
    "    x, y = get_fake_data(batch_size=32)\n",
    "\n",
    "    # forward: 计算loss\n",
    "    y_pred = x.mm(w) + b.expand_as(y)\n",
    "    loss = 0.5 * (y_pred - y) ** 2\n",
    "    loss = loss.sum()\n",
    "    losses[ii] = loss.item()\n",
    "\n",
    "    # backward: 自动计算梯度\n",
    "    loss.backward()\n",
    "\n",
    "    # 更新参数\n",
    "    w.data.sub_(lr * w.grad.data)\n",
    "    b.data.sub_(lr * b.grad.data)\n",
    "\n",
    "    # 梯度清零\n",
    "    w.grad.data.zero_()\n",
    "    b.grad.data.zero_()\n",
    "\n",
    "    if ii % 50 == 0:\n",
    "        # 画图\n",
    "        display.clear_output(wait=True)\n",
    "        x = t.arange(0, 6).float().view(-1, 1)\n",
    "        y = x.mm(w.data) + b.data.expand_as(x)\n",
    "        plt.plot(x.numpy(), y.numpy())  # predicted\n",
    "\n",
    "        x2, y2 = get_fake_data(batch_size=20)\n",
    "        plt.scatter(x2.numpy(), y2.numpy())  # true data\n",
    "\n",
    "        plt.xlim(0, 5)\n",
    "        plt.ylim(0, 13)\n",
    "        plt.show()\n",
    "        plt.pause(0.5)\n",
    "\n",
    "print(w.item(), b.item())"
   ]
  },
  {
   "cell_type": "code",
   "execution_count": 129,
   "metadata": {
    "id": "78eJNS2Pu11C",
    "colab": {
     "base_uri": "https://localhost:8080/",
     "height": 453
    },
    "outputId": "cafe46f5-8be5-4e4f-daea-bcc698ad6fed"
   },
   "outputs": [
    {
     "output_type": "execute_result",
     "data": {
      "text/plain": [
       "(5.0, 50.0)"
      ]
     },
     "metadata": {},
     "execution_count": 129
    },
    {
     "output_type": "display_data",
     "data": {
      "text/plain": [
       "<Figure size 640x480 with 1 Axes>"
      ],
      "image/png": "[encoded data removed]"
     },
     "metadata": {}
    }
   ],
   "source": [
    "plt.plot(losses)\n",
    "plt.ylim(5, 50)"
   ]
  },
  {
   "cell_type": "markdown",
   "metadata": {
    "id": "U8Hbj2Hyu11C"
   },
   "source": [
    "用 autograd 实现的线性回归最大的不同点就在于 autograd 不需要计算反向传播, 可以自动计算微分. 这点不单是在深度学习, 在许多机器学习的问题中都很有用. 另外需要注意的是在每次反向传播之前要记得先把梯度清零."
   ]
  },
  {
   "cell_type": "markdown",
   "metadata": {
    "id": "JGgpeyc_u11C"
   },
   "source": [
    "## 本章小结\n",
    "\n",
    "本章主要介绍了 PyTorch 中的基础底层的数据结构 Tensor 和 autograd 方法. Tensor 是一个类似 Numpy 数组的高效多维数值运算数据结构, 有着和 Numpy 相类似的接口, 并提供简单易用的 GPU 加速. `autograd` 是 PyTorch 的自动微分引擎, 采用动态计算图技术, 能够快速高效的计算导数."
   ]
  },
  {
   "cell_type": "code",
   "source": [],
   "metadata": {
    "id": "1AmQpYXURQdl"
   },
   "execution_count": 129,
   "outputs": []
  }
 ],
 "metadata": {
  "kernelspec": {
   "display_name": "Python 3",
   "language": "python",
   "name": "python3"
  },
  "language_info": {
   "codemirror_mode": {
    "name": "ipython",
    "version": 3
   },
   "file_extension": ".py",
   "mimetype": "text/x-python",
   "name": "python",
   "nbconvert_exporter": "python",
   "pygments_lexer": "ipython3",
   "version": "3.7.3"
  },
  "colab": {
   "provenance": [],
   "toc_visible": true
  }
 },
 "nbformat": 4,
 "nbformat_minor": 0
}